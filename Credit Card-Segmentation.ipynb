{
 "cells": [
  {
   "cell_type": "code",
   "execution_count": 1,
   "metadata": {},
   "outputs": [],
   "source": [
    "import pandas as pd\n",
    "import numpy as np\n",
    "import matplotlib.pyplot as plt\n",
    "import seaborn as sns\n",
    "import scipy.stats as stats\n",
    "%matplotlib inline"
   ]
  },
  {
   "cell_type": "code",
   "execution_count": 2,
   "metadata": {},
   "outputs": [
    {
     "data": {
      "text/html": [
       "<div>\n",
       "<style scoped>\n",
       "    .dataframe tbody tr th:only-of-type {\n",
       "        vertical-align: middle;\n",
       "    }\n",
       "\n",
       "    .dataframe tbody tr th {\n",
       "        vertical-align: top;\n",
       "    }\n",
       "\n",
       "    .dataframe thead th {\n",
       "        text-align: right;\n",
       "    }\n",
       "</style>\n",
       "<table border=\"1\" class=\"dataframe\">\n",
       "  <thead>\n",
       "    <tr style=\"text-align: right;\">\n",
       "      <th></th>\n",
       "      <th>CUST_ID</th>\n",
       "      <th>BALANCE</th>\n",
       "      <th>BALANCE_FREQUENCY</th>\n",
       "      <th>PURCHASES</th>\n",
       "      <th>ONEOFF_PURCHASES</th>\n",
       "      <th>INSTALLMENTS_PURCHASES</th>\n",
       "      <th>CASH_ADVANCE</th>\n",
       "      <th>PURCHASES_FREQUENCY</th>\n",
       "      <th>ONEOFF_PURCHASES_FREQUENCY</th>\n",
       "      <th>PURCHASES_INSTALLMENTS_FREQUENCY</th>\n",
       "      <th>CASH_ADVANCE_FREQUENCY</th>\n",
       "      <th>CASH_ADVANCE_TRX</th>\n",
       "      <th>PURCHASES_TRX</th>\n",
       "      <th>CREDIT_LIMIT</th>\n",
       "      <th>PAYMENTS</th>\n",
       "      <th>MINIMUM_PAYMENTS</th>\n",
       "      <th>PRC_FULL_PAYMENT</th>\n",
       "      <th>TENURE</th>\n",
       "    </tr>\n",
       "  </thead>\n",
       "  <tbody>\n",
       "    <tr>\n",
       "      <th>0</th>\n",
       "      <td>C10001</td>\n",
       "      <td>40.900749</td>\n",
       "      <td>0.818182</td>\n",
       "      <td>95.40</td>\n",
       "      <td>0.00</td>\n",
       "      <td>95.4</td>\n",
       "      <td>0.000000</td>\n",
       "      <td>0.166667</td>\n",
       "      <td>0.000000</td>\n",
       "      <td>0.083333</td>\n",
       "      <td>0.000000</td>\n",
       "      <td>0</td>\n",
       "      <td>2</td>\n",
       "      <td>1000.0</td>\n",
       "      <td>201.802084</td>\n",
       "      <td>139.509787</td>\n",
       "      <td>0.000000</td>\n",
       "      <td>12</td>\n",
       "    </tr>\n",
       "    <tr>\n",
       "      <th>1</th>\n",
       "      <td>C10002</td>\n",
       "      <td>3202.467416</td>\n",
       "      <td>0.909091</td>\n",
       "      <td>0.00</td>\n",
       "      <td>0.00</td>\n",
       "      <td>0.0</td>\n",
       "      <td>6442.945483</td>\n",
       "      <td>0.000000</td>\n",
       "      <td>0.000000</td>\n",
       "      <td>0.000000</td>\n",
       "      <td>0.250000</td>\n",
       "      <td>4</td>\n",
       "      <td>0</td>\n",
       "      <td>7000.0</td>\n",
       "      <td>4103.032597</td>\n",
       "      <td>1072.340217</td>\n",
       "      <td>0.222222</td>\n",
       "      <td>12</td>\n",
       "    </tr>\n",
       "    <tr>\n",
       "      <th>2</th>\n",
       "      <td>C10003</td>\n",
       "      <td>2495.148862</td>\n",
       "      <td>1.000000</td>\n",
       "      <td>773.17</td>\n",
       "      <td>773.17</td>\n",
       "      <td>0.0</td>\n",
       "      <td>0.000000</td>\n",
       "      <td>1.000000</td>\n",
       "      <td>1.000000</td>\n",
       "      <td>0.000000</td>\n",
       "      <td>0.000000</td>\n",
       "      <td>0</td>\n",
       "      <td>12</td>\n",
       "      <td>7500.0</td>\n",
       "      <td>622.066742</td>\n",
       "      <td>627.284787</td>\n",
       "      <td>0.000000</td>\n",
       "      <td>12</td>\n",
       "    </tr>\n",
       "    <tr>\n",
       "      <th>3</th>\n",
       "      <td>C10004</td>\n",
       "      <td>1666.670542</td>\n",
       "      <td>0.636364</td>\n",
       "      <td>1499.00</td>\n",
       "      <td>1499.00</td>\n",
       "      <td>0.0</td>\n",
       "      <td>205.788017</td>\n",
       "      <td>0.083333</td>\n",
       "      <td>0.083333</td>\n",
       "      <td>0.000000</td>\n",
       "      <td>0.083333</td>\n",
       "      <td>1</td>\n",
       "      <td>1</td>\n",
       "      <td>7500.0</td>\n",
       "      <td>0.000000</td>\n",
       "      <td>NaN</td>\n",
       "      <td>0.000000</td>\n",
       "      <td>12</td>\n",
       "    </tr>\n",
       "    <tr>\n",
       "      <th>4</th>\n",
       "      <td>C10005</td>\n",
       "      <td>817.714335</td>\n",
       "      <td>1.000000</td>\n",
       "      <td>16.00</td>\n",
       "      <td>16.00</td>\n",
       "      <td>0.0</td>\n",
       "      <td>0.000000</td>\n",
       "      <td>0.083333</td>\n",
       "      <td>0.083333</td>\n",
       "      <td>0.000000</td>\n",
       "      <td>0.000000</td>\n",
       "      <td>0</td>\n",
       "      <td>1</td>\n",
       "      <td>1200.0</td>\n",
       "      <td>678.334763</td>\n",
       "      <td>244.791237</td>\n",
       "      <td>0.000000</td>\n",
       "      <td>12</td>\n",
       "    </tr>\n",
       "  </tbody>\n",
       "</table>\n",
       "</div>"
      ],
      "text/plain": [
       "  CUST_ID      BALANCE  BALANCE_FREQUENCY  PURCHASES  ONEOFF_PURCHASES  \\\n",
       "0  C10001    40.900749           0.818182      95.40              0.00   \n",
       "1  C10002  3202.467416           0.909091       0.00              0.00   \n",
       "2  C10003  2495.148862           1.000000     773.17            773.17   \n",
       "3  C10004  1666.670542           0.636364    1499.00           1499.00   \n",
       "4  C10005   817.714335           1.000000      16.00             16.00   \n",
       "\n",
       "   INSTALLMENTS_PURCHASES  CASH_ADVANCE  PURCHASES_FREQUENCY  \\\n",
       "0                    95.4      0.000000             0.166667   \n",
       "1                     0.0   6442.945483             0.000000   \n",
       "2                     0.0      0.000000             1.000000   \n",
       "3                     0.0    205.788017             0.083333   \n",
       "4                     0.0      0.000000             0.083333   \n",
       "\n",
       "   ONEOFF_PURCHASES_FREQUENCY  PURCHASES_INSTALLMENTS_FREQUENCY  \\\n",
       "0                    0.000000                          0.083333   \n",
       "1                    0.000000                          0.000000   \n",
       "2                    1.000000                          0.000000   \n",
       "3                    0.083333                          0.000000   \n",
       "4                    0.083333                          0.000000   \n",
       "\n",
       "   CASH_ADVANCE_FREQUENCY  CASH_ADVANCE_TRX  PURCHASES_TRX  CREDIT_LIMIT  \\\n",
       "0                0.000000                 0              2        1000.0   \n",
       "1                0.250000                 4              0        7000.0   \n",
       "2                0.000000                 0             12        7500.0   \n",
       "3                0.083333                 1              1        7500.0   \n",
       "4                0.000000                 0              1        1200.0   \n",
       "\n",
       "      PAYMENTS  MINIMUM_PAYMENTS  PRC_FULL_PAYMENT  TENURE  \n",
       "0   201.802084        139.509787          0.000000      12  \n",
       "1  4103.032597       1072.340217          0.222222      12  \n",
       "2   622.066742        627.284787          0.000000      12  \n",
       "3     0.000000               NaN          0.000000      12  \n",
       "4   678.334763        244.791237          0.000000      12  "
      ]
     },
     "execution_count": 2,
     "metadata": {},
     "output_type": "execute_result"
    }
   ],
   "source": [
    "data=pd.read_csv(\"CC General.csv\")\n",
    "data.head()"
   ]
  },
  {
   "cell_type": "code",
   "execution_count": 3,
   "metadata": {},
   "outputs": [
    {
     "data": {
      "text/plain": [
       "False    8950\n",
       "Name: CUST_ID, dtype: int64"
      ]
     },
     "execution_count": 3,
     "metadata": {},
     "output_type": "execute_result"
    }
   ],
   "source": [
    "data[data.columns[0]].isnull().value_counts()"
   ]
  },
  {
   "cell_type": "code",
   "execution_count": 4,
   "metadata": {},
   "outputs": [
    {
     "data": {
      "text/html": [
       "<div>\n",
       "<style scoped>\n",
       "    .dataframe tbody tr th:only-of-type {\n",
       "        vertical-align: middle;\n",
       "    }\n",
       "\n",
       "    .dataframe tbody tr th {\n",
       "        vertical-align: top;\n",
       "    }\n",
       "\n",
       "    .dataframe thead th {\n",
       "        text-align: right;\n",
       "    }\n",
       "</style>\n",
       "<table border=\"1\" class=\"dataframe\">\n",
       "  <thead>\n",
       "    <tr style=\"text-align: right;\">\n",
       "      <th></th>\n",
       "      <th>cust_id</th>\n",
       "      <th>BALANCE</th>\n",
       "      <th>BALANCE_FREQUENCY</th>\n",
       "      <th>PURCHASES</th>\n",
       "      <th>ONEOFF_PURCHASES</th>\n",
       "      <th>INSTALLMENTS_PURCHASES</th>\n",
       "      <th>CASH_ADVANCE</th>\n",
       "      <th>PURCHASES_FREQUENCY</th>\n",
       "      <th>ONEOFF_PURCHASES_FREQUENCY</th>\n",
       "      <th>PURCHASES_INSTALLMENTS_FREQUENCY</th>\n",
       "      <th>CASH_ADVANCE_FREQUENCY</th>\n",
       "      <th>CASH_ADVANCE_TRX</th>\n",
       "      <th>PURCHASES_TRX</th>\n",
       "      <th>CREDIT_LIMIT</th>\n",
       "      <th>PAYMENTS</th>\n",
       "      <th>MINIMUM_PAYMENTS</th>\n",
       "      <th>PRC_FULL_PAYMENT</th>\n",
       "      <th>TENURE</th>\n",
       "    </tr>\n",
       "  </thead>\n",
       "  <tbody>\n",
       "    <tr>\n",
       "      <th>0</th>\n",
       "      <td>C10001</td>\n",
       "      <td>40.900749</td>\n",
       "      <td>0.818182</td>\n",
       "      <td>95.40</td>\n",
       "      <td>0.00</td>\n",
       "      <td>95.4</td>\n",
       "      <td>0.000000</td>\n",
       "      <td>0.166667</td>\n",
       "      <td>0.000000</td>\n",
       "      <td>0.083333</td>\n",
       "      <td>0.000000</td>\n",
       "      <td>0</td>\n",
       "      <td>2</td>\n",
       "      <td>1000.0</td>\n",
       "      <td>201.802084</td>\n",
       "      <td>139.509787</td>\n",
       "      <td>0.000000</td>\n",
       "      <td>12</td>\n",
       "    </tr>\n",
       "    <tr>\n",
       "      <th>1</th>\n",
       "      <td>C10002</td>\n",
       "      <td>3202.467416</td>\n",
       "      <td>0.909091</td>\n",
       "      <td>0.00</td>\n",
       "      <td>0.00</td>\n",
       "      <td>0.0</td>\n",
       "      <td>6442.945483</td>\n",
       "      <td>0.000000</td>\n",
       "      <td>0.000000</td>\n",
       "      <td>0.000000</td>\n",
       "      <td>0.250000</td>\n",
       "      <td>4</td>\n",
       "      <td>0</td>\n",
       "      <td>7000.0</td>\n",
       "      <td>4103.032597</td>\n",
       "      <td>1072.340217</td>\n",
       "      <td>0.222222</td>\n",
       "      <td>12</td>\n",
       "    </tr>\n",
       "    <tr>\n",
       "      <th>2</th>\n",
       "      <td>C10003</td>\n",
       "      <td>2495.148862</td>\n",
       "      <td>1.000000</td>\n",
       "      <td>773.17</td>\n",
       "      <td>773.17</td>\n",
       "      <td>0.0</td>\n",
       "      <td>0.000000</td>\n",
       "      <td>1.000000</td>\n",
       "      <td>1.000000</td>\n",
       "      <td>0.000000</td>\n",
       "      <td>0.000000</td>\n",
       "      <td>0</td>\n",
       "      <td>12</td>\n",
       "      <td>7500.0</td>\n",
       "      <td>622.066742</td>\n",
       "      <td>627.284787</td>\n",
       "      <td>0.000000</td>\n",
       "      <td>12</td>\n",
       "    </tr>\n",
       "    <tr>\n",
       "      <th>3</th>\n",
       "      <td>C10004</td>\n",
       "      <td>1666.670542</td>\n",
       "      <td>0.636364</td>\n",
       "      <td>1499.00</td>\n",
       "      <td>1499.00</td>\n",
       "      <td>0.0</td>\n",
       "      <td>205.788017</td>\n",
       "      <td>0.083333</td>\n",
       "      <td>0.083333</td>\n",
       "      <td>0.000000</td>\n",
       "      <td>0.083333</td>\n",
       "      <td>1</td>\n",
       "      <td>1</td>\n",
       "      <td>7500.0</td>\n",
       "      <td>0.000000</td>\n",
       "      <td>NaN</td>\n",
       "      <td>0.000000</td>\n",
       "      <td>12</td>\n",
       "    </tr>\n",
       "    <tr>\n",
       "      <th>4</th>\n",
       "      <td>C10005</td>\n",
       "      <td>817.714335</td>\n",
       "      <td>1.000000</td>\n",
       "      <td>16.00</td>\n",
       "      <td>16.00</td>\n",
       "      <td>0.0</td>\n",
       "      <td>0.000000</td>\n",
       "      <td>0.083333</td>\n",
       "      <td>0.083333</td>\n",
       "      <td>0.000000</td>\n",
       "      <td>0.000000</td>\n",
       "      <td>0</td>\n",
       "      <td>1</td>\n",
       "      <td>1200.0</td>\n",
       "      <td>678.334763</td>\n",
       "      <td>244.791237</td>\n",
       "      <td>0.000000</td>\n",
       "      <td>12</td>\n",
       "    </tr>\n",
       "  </tbody>\n",
       "</table>\n",
       "</div>"
      ],
      "text/plain": [
       "  cust_id      BALANCE  BALANCE_FREQUENCY  PURCHASES  ONEOFF_PURCHASES  \\\n",
       "0  C10001    40.900749           0.818182      95.40              0.00   \n",
       "1  C10002  3202.467416           0.909091       0.00              0.00   \n",
       "2  C10003  2495.148862           1.000000     773.17            773.17   \n",
       "3  C10004  1666.670542           0.636364    1499.00           1499.00   \n",
       "4  C10005   817.714335           1.000000      16.00             16.00   \n",
       "\n",
       "   INSTALLMENTS_PURCHASES  CASH_ADVANCE  PURCHASES_FREQUENCY  \\\n",
       "0                    95.4      0.000000             0.166667   \n",
       "1                     0.0   6442.945483             0.000000   \n",
       "2                     0.0      0.000000             1.000000   \n",
       "3                     0.0    205.788017             0.083333   \n",
       "4                     0.0      0.000000             0.083333   \n",
       "\n",
       "   ONEOFF_PURCHASES_FREQUENCY  PURCHASES_INSTALLMENTS_FREQUENCY  \\\n",
       "0                    0.000000                          0.083333   \n",
       "1                    0.000000                          0.000000   \n",
       "2                    1.000000                          0.000000   \n",
       "3                    0.083333                          0.000000   \n",
       "4                    0.083333                          0.000000   \n",
       "\n",
       "   CASH_ADVANCE_FREQUENCY  CASH_ADVANCE_TRX  PURCHASES_TRX  CREDIT_LIMIT  \\\n",
       "0                0.000000                 0              2        1000.0   \n",
       "1                0.250000                 4              0        7000.0   \n",
       "2                0.000000                 0             12        7500.0   \n",
       "3                0.083333                 1              1        7500.0   \n",
       "4                0.000000                 0              1        1200.0   \n",
       "\n",
       "      PAYMENTS  MINIMUM_PAYMENTS  PRC_FULL_PAYMENT  TENURE  \n",
       "0   201.802084        139.509787          0.000000      12  \n",
       "1  4103.032597       1072.340217          0.222222      12  \n",
       "2   622.066742        627.284787          0.000000      12  \n",
       "3     0.000000               NaN          0.000000      12  \n",
       "4   678.334763        244.791237          0.000000      12  "
      ]
     },
     "execution_count": 4,
     "metadata": {},
     "output_type": "execute_result"
    }
   ],
   "source": [
    "data.rename(columns={data.columns[0]:'cust_id'}).head()"
   ]
  },
  {
   "cell_type": "code",
   "execution_count": 5,
   "metadata": {},
   "outputs": [
    {
     "data": {
      "text/html": [
       "<div>\n",
       "<style scoped>\n",
       "    .dataframe tbody tr th:only-of-type {\n",
       "        vertical-align: middle;\n",
       "    }\n",
       "\n",
       "    .dataframe tbody tr th {\n",
       "        vertical-align: top;\n",
       "    }\n",
       "\n",
       "    .dataframe thead th {\n",
       "        text-align: right;\n",
       "    }\n",
       "</style>\n",
       "<table border=\"1\" class=\"dataframe\">\n",
       "  <thead>\n",
       "    <tr style=\"text-align: right;\">\n",
       "      <th></th>\n",
       "      <th>Total</th>\n",
       "      <th>Percent</th>\n",
       "    </tr>\n",
       "  </thead>\n",
       "  <tbody>\n",
       "    <tr>\n",
       "      <th>MINIMUM_PAYMENTS</th>\n",
       "      <td>313</td>\n",
       "      <td>3.497207</td>\n",
       "    </tr>\n",
       "    <tr>\n",
       "      <th>CREDIT_LIMIT</th>\n",
       "      <td>1</td>\n",
       "      <td>0.011173</td>\n",
       "    </tr>\n",
       "    <tr>\n",
       "      <th>TENURE</th>\n",
       "      <td>0</td>\n",
       "      <td>0.000000</td>\n",
       "    </tr>\n",
       "    <tr>\n",
       "      <th>PURCHASES_FREQUENCY</th>\n",
       "      <td>0</td>\n",
       "      <td>0.000000</td>\n",
       "    </tr>\n",
       "    <tr>\n",
       "      <th>BALANCE</th>\n",
       "      <td>0</td>\n",
       "      <td>0.000000</td>\n",
       "    </tr>\n",
       "    <tr>\n",
       "      <th>BALANCE_FREQUENCY</th>\n",
       "      <td>0</td>\n",
       "      <td>0.000000</td>\n",
       "    </tr>\n",
       "    <tr>\n",
       "      <th>PURCHASES</th>\n",
       "      <td>0</td>\n",
       "      <td>0.000000</td>\n",
       "    </tr>\n",
       "    <tr>\n",
       "      <th>ONEOFF_PURCHASES</th>\n",
       "      <td>0</td>\n",
       "      <td>0.000000</td>\n",
       "    </tr>\n",
       "    <tr>\n",
       "      <th>INSTALLMENTS_PURCHASES</th>\n",
       "      <td>0</td>\n",
       "      <td>0.000000</td>\n",
       "    </tr>\n",
       "    <tr>\n",
       "      <th>CASH_ADVANCE</th>\n",
       "      <td>0</td>\n",
       "      <td>0.000000</td>\n",
       "    </tr>\n",
       "    <tr>\n",
       "      <th>ONEOFF_PURCHASES_FREQUENCY</th>\n",
       "      <td>0</td>\n",
       "      <td>0.000000</td>\n",
       "    </tr>\n",
       "    <tr>\n",
       "      <th>PRC_FULL_PAYMENT</th>\n",
       "      <td>0</td>\n",
       "      <td>0.000000</td>\n",
       "    </tr>\n",
       "    <tr>\n",
       "      <th>PURCHASES_INSTALLMENTS_FREQUENCY</th>\n",
       "      <td>0</td>\n",
       "      <td>0.000000</td>\n",
       "    </tr>\n",
       "    <tr>\n",
       "      <th>CASH_ADVANCE_FREQUENCY</th>\n",
       "      <td>0</td>\n",
       "      <td>0.000000</td>\n",
       "    </tr>\n",
       "    <tr>\n",
       "      <th>CASH_ADVANCE_TRX</th>\n",
       "      <td>0</td>\n",
       "      <td>0.000000</td>\n",
       "    </tr>\n",
       "    <tr>\n",
       "      <th>PURCHASES_TRX</th>\n",
       "      <td>0</td>\n",
       "      <td>0.000000</td>\n",
       "    </tr>\n",
       "    <tr>\n",
       "      <th>PAYMENTS</th>\n",
       "      <td>0</td>\n",
       "      <td>0.000000</td>\n",
       "    </tr>\n",
       "    <tr>\n",
       "      <th>CUST_ID</th>\n",
       "      <td>0</td>\n",
       "      <td>0.000000</td>\n",
       "    </tr>\n",
       "  </tbody>\n",
       "</table>\n",
       "</div>"
      ],
      "text/plain": [
       "                                  Total   Percent\n",
       "MINIMUM_PAYMENTS                    313  3.497207\n",
       "CREDIT_LIMIT                          1  0.011173\n",
       "TENURE                                0  0.000000\n",
       "PURCHASES_FREQUENCY                   0  0.000000\n",
       "BALANCE                               0  0.000000\n",
       "BALANCE_FREQUENCY                     0  0.000000\n",
       "PURCHASES                             0  0.000000\n",
       "ONEOFF_PURCHASES                      0  0.000000\n",
       "INSTALLMENTS_PURCHASES                0  0.000000\n",
       "CASH_ADVANCE                          0  0.000000\n",
       "ONEOFF_PURCHASES_FREQUENCY            0  0.000000\n",
       "PRC_FULL_PAYMENT                      0  0.000000\n",
       "PURCHASES_INSTALLMENTS_FREQUENCY      0  0.000000\n",
       "CASH_ADVANCE_FREQUENCY                0  0.000000\n",
       "CASH_ADVANCE_TRX                      0  0.000000\n",
       "PURCHASES_TRX                         0  0.000000\n",
       "PAYMENTS                              0  0.000000\n",
       "CUST_ID                               0  0.000000"
      ]
     },
     "execution_count": 5,
     "metadata": {},
     "output_type": "execute_result"
    }
   ],
   "source": [
    "total = data.isnull().sum(axis=0).sort_values(ascending=False)\n",
    "percent = ((data.isnull().sum(axis=0)/data.isnull().count(axis=0))*100).sort_values(ascending=False)\n",
    "\n",
    "# count the number of null values in the column and their perecentage of the total data\n",
    "missing_data_columns = pd.concat([total, percent], axis=1, keys=['Total', 'Percent'])\n",
    "missing_data_columns.head(20)"
   ]
  },
  {
   "cell_type": "code",
   "execution_count": 6,
   "metadata": {},
   "outputs": [],
   "source": [
    "from sklearn.preprocessing import Imputer #Imputing missing values\n",
    "imp_mean = Imputer(missing_values = 'NaN', strategy='median')\n",
    "imp_mean.fit(data[['MINIMUM_PAYMENTS']])\n",
    "data['MINIMUM_PAYMENTS'] = imp_mean.transform(data[['MINIMUM_PAYMENTS']])"
   ]
  },
  {
   "cell_type": "code",
   "execution_count": 7,
   "metadata": {},
   "outputs": [],
   "source": [
    "data.drop(5203,axis=0,inplace=True) #dropping a missing value"
   ]
  },
  {
   "cell_type": "code",
   "execution_count": 8,
   "metadata": {},
   "outputs": [
    {
     "data": {
      "text/plain": [
       "Index(['CUST_ID', 'BALANCE', 'BALANCE_FREQUENCY', 'PURCHASES',\n",
       "       'ONEOFF_PURCHASES', 'INSTALLMENTS_PURCHASES', 'CASH_ADVANCE',\n",
       "       'PURCHASES_FREQUENCY', 'ONEOFF_PURCHASES_FREQUENCY',\n",
       "       'PURCHASES_INSTALLMENTS_FREQUENCY', 'CASH_ADVANCE_FREQUENCY',\n",
       "       'CASH_ADVANCE_TRX', 'PURCHASES_TRX', 'CREDIT_LIMIT', 'PAYMENTS',\n",
       "       'MINIMUM_PAYMENTS', 'PRC_FULL_PAYMENT', 'TENURE'],\n",
       "      dtype='object')"
      ]
     },
     "execution_count": 8,
     "metadata": {},
     "output_type": "execute_result"
    }
   ],
   "source": [
    "data.columns"
   ]
  },
  {
   "cell_type": "markdown",
   "metadata": {},
   "source": [
    "### Outlier Treatment"
   ]
  },
  {
   "cell_type": "code",
   "execution_count": 9,
   "metadata": {},
   "outputs": [],
   "source": [
    "q1=data.quantile(0.25)\n",
    "q3=data.quantile(0.75)\n",
    "iqr=q3-q1\n",
    "ll=q1-(1.5*iqr)\n",
    "ul=q3+(1.5*iqr)"
   ]
  },
  {
   "cell_type": "code",
   "execution_count": 10,
   "metadata": {},
   "outputs": [],
   "source": [
    "num=list()\n",
    "for a in data.columns:\n",
    "    if a in ll.index:\n",
    "        num.append(a)"
   ]
  },
  {
   "cell_type": "code",
   "execution_count": 11,
   "metadata": {},
   "outputs": [],
   "source": [
    "data=data[num]"
   ]
  },
  {
   "cell_type": "code",
   "execution_count": 12,
   "metadata": {},
   "outputs": [],
   "source": [
    "df = data[~((data < (q1 - 1.5 * iqr)) |(data > (q3 + 1.5 * iqr))).any(axis=1)]"
   ]
  },
  {
   "cell_type": "code",
   "execution_count": 15,
   "metadata": {},
   "outputs": [
    {
     "data": {
      "text/html": [
       "<div>\n",
       "<style scoped>\n",
       "    .dataframe tbody tr th:only-of-type {\n",
       "        vertical-align: middle;\n",
       "    }\n",
       "\n",
       "    .dataframe tbody tr th {\n",
       "        vertical-align: top;\n",
       "    }\n",
       "\n",
       "    .dataframe thead th {\n",
       "        text-align: right;\n",
       "    }\n",
       "</style>\n",
       "<table border=\"1\" class=\"dataframe\">\n",
       "  <thead>\n",
       "    <tr style=\"text-align: right;\">\n",
       "      <th></th>\n",
       "      <th>BALANCE</th>\n",
       "      <th>BALANCE_FREQUENCY</th>\n",
       "      <th>PURCHASES</th>\n",
       "      <th>ONEOFF_PURCHASES</th>\n",
       "      <th>INSTALLMENTS_PURCHASES</th>\n",
       "      <th>CASH_ADVANCE</th>\n",
       "      <th>PURCHASES_FREQUENCY</th>\n",
       "      <th>ONEOFF_PURCHASES_FREQUENCY</th>\n",
       "      <th>PURCHASES_INSTALLMENTS_FREQUENCY</th>\n",
       "      <th>CASH_ADVANCE_FREQUENCY</th>\n",
       "      <th>CASH_ADVANCE_TRX</th>\n",
       "      <th>PURCHASES_TRX</th>\n",
       "      <th>CREDIT_LIMIT</th>\n",
       "      <th>PAYMENTS</th>\n",
       "      <th>MINIMUM_PAYMENTS</th>\n",
       "      <th>PRC_FULL_PAYMENT</th>\n",
       "      <th>TENURE</th>\n",
       "    </tr>\n",
       "  </thead>\n",
       "  <tbody>\n",
       "    <tr>\n",
       "      <th>0</th>\n",
       "      <td>40.900749</td>\n",
       "      <td>0.818182</td>\n",
       "      <td>95.40</td>\n",
       "      <td>0.00</td>\n",
       "      <td>95.4</td>\n",
       "      <td>0.00000</td>\n",
       "      <td>0.166667</td>\n",
       "      <td>0.000000</td>\n",
       "      <td>0.083333</td>\n",
       "      <td>0.000000</td>\n",
       "      <td>0</td>\n",
       "      <td>2</td>\n",
       "      <td>1000.0</td>\n",
       "      <td>201.802084</td>\n",
       "      <td>139.509787</td>\n",
       "      <td>0.0</td>\n",
       "      <td>12</td>\n",
       "    </tr>\n",
       "    <tr>\n",
       "      <th>4</th>\n",
       "      <td>817.714335</td>\n",
       "      <td>1.000000</td>\n",
       "      <td>16.00</td>\n",
       "      <td>16.00</td>\n",
       "      <td>0.0</td>\n",
       "      <td>0.00000</td>\n",
       "      <td>0.083333</td>\n",
       "      <td>0.083333</td>\n",
       "      <td>0.000000</td>\n",
       "      <td>0.000000</td>\n",
       "      <td>0</td>\n",
       "      <td>1</td>\n",
       "      <td>1200.0</td>\n",
       "      <td>678.334763</td>\n",
       "      <td>244.791237</td>\n",
       "      <td>0.0</td>\n",
       "      <td>12</td>\n",
       "    </tr>\n",
       "    <tr>\n",
       "      <th>7</th>\n",
       "      <td>1823.652743</td>\n",
       "      <td>1.000000</td>\n",
       "      <td>436.20</td>\n",
       "      <td>0.00</td>\n",
       "      <td>436.2</td>\n",
       "      <td>0.00000</td>\n",
       "      <td>1.000000</td>\n",
       "      <td>0.000000</td>\n",
       "      <td>1.000000</td>\n",
       "      <td>0.000000</td>\n",
       "      <td>0</td>\n",
       "      <td>12</td>\n",
       "      <td>2300.0</td>\n",
       "      <td>679.065082</td>\n",
       "      <td>532.033990</td>\n",
       "      <td>0.0</td>\n",
       "      <td>12</td>\n",
       "    </tr>\n",
       "    <tr>\n",
       "      <th>8</th>\n",
       "      <td>1014.926473</td>\n",
       "      <td>1.000000</td>\n",
       "      <td>861.49</td>\n",
       "      <td>661.49</td>\n",
       "      <td>200.0</td>\n",
       "      <td>0.00000</td>\n",
       "      <td>0.333333</td>\n",
       "      <td>0.083333</td>\n",
       "      <td>0.250000</td>\n",
       "      <td>0.000000</td>\n",
       "      <td>0</td>\n",
       "      <td>5</td>\n",
       "      <td>7000.0</td>\n",
       "      <td>688.278568</td>\n",
       "      <td>311.963409</td>\n",
       "      <td>0.0</td>\n",
       "      <td>12</td>\n",
       "    </tr>\n",
       "    <tr>\n",
       "      <th>14</th>\n",
       "      <td>2772.772734</td>\n",
       "      <td>1.000000</td>\n",
       "      <td>0.00</td>\n",
       "      <td>0.00</td>\n",
       "      <td>0.0</td>\n",
       "      <td>346.81139</td>\n",
       "      <td>0.000000</td>\n",
       "      <td>0.000000</td>\n",
       "      <td>0.000000</td>\n",
       "      <td>0.083333</td>\n",
       "      <td>1</td>\n",
       "      <td>0</td>\n",
       "      <td>3000.0</td>\n",
       "      <td>805.647974</td>\n",
       "      <td>989.962866</td>\n",
       "      <td>0.0</td>\n",
       "      <td>12</td>\n",
       "    </tr>\n",
       "  </tbody>\n",
       "</table>\n",
       "</div>"
      ],
      "text/plain": [
       "        BALANCE  BALANCE_FREQUENCY  PURCHASES  ONEOFF_PURCHASES  \\\n",
       "0     40.900749           0.818182      95.40              0.00   \n",
       "4    817.714335           1.000000      16.00             16.00   \n",
       "7   1823.652743           1.000000     436.20              0.00   \n",
       "8   1014.926473           1.000000     861.49            661.49   \n",
       "14  2772.772734           1.000000       0.00              0.00   \n",
       "\n",
       "    INSTALLMENTS_PURCHASES  CASH_ADVANCE  PURCHASES_FREQUENCY  \\\n",
       "0                     95.4       0.00000             0.166667   \n",
       "4                      0.0       0.00000             0.083333   \n",
       "7                    436.2       0.00000             1.000000   \n",
       "8                    200.0       0.00000             0.333333   \n",
       "14                     0.0     346.81139             0.000000   \n",
       "\n",
       "    ONEOFF_PURCHASES_FREQUENCY  PURCHASES_INSTALLMENTS_FREQUENCY  \\\n",
       "0                     0.000000                          0.083333   \n",
       "4                     0.083333                          0.000000   \n",
       "7                     0.000000                          1.000000   \n",
       "8                     0.083333                          0.250000   \n",
       "14                    0.000000                          0.000000   \n",
       "\n",
       "    CASH_ADVANCE_FREQUENCY  CASH_ADVANCE_TRX  PURCHASES_TRX  CREDIT_LIMIT  \\\n",
       "0                 0.000000                 0              2        1000.0   \n",
       "4                 0.000000                 0              1        1200.0   \n",
       "7                 0.000000                 0             12        2300.0   \n",
       "8                 0.000000                 0              5        7000.0   \n",
       "14                0.083333                 1              0        3000.0   \n",
       "\n",
       "      PAYMENTS  MINIMUM_PAYMENTS  PRC_FULL_PAYMENT  TENURE  \n",
       "0   201.802084        139.509787               0.0      12  \n",
       "4   678.334763        244.791237               0.0      12  \n",
       "7   679.065082        532.033990               0.0      12  \n",
       "8   688.278568        311.963409               0.0      12  \n",
       "14  805.647974        989.962866               0.0      12  "
      ]
     },
     "execution_count": 15,
     "metadata": {},
     "output_type": "execute_result"
    }
   ],
   "source": [
    "df.head()"
   ]
  },
  {
   "cell_type": "code",
   "execution_count": null,
   "metadata": {},
   "outputs": [],
   "source": []
  },
  {
   "cell_type": "code",
   "execution_count": 18,
   "metadata": {},
   "outputs": [
    {
     "name": "stderr",
     "output_type": "stream",
     "text": [
      "C:\\Users\\adity\\Anaconda3\\lib\\site-packages\\scipy\\stats\\stats.py:1713: FutureWarning: Using a non-tuple sequence for multidimensional indexing is deprecated; use `arr[tuple(seq)]` instead of `arr[seq]`. In the future this will be interpreted as an array index, `arr[np.array(seq)]`, which will result either in an error or a different result.\n",
      "  return np.add.reduce(sorted[indexer] * weights, axis=axis) / sumval\n"
     ]
    },
    {
     "data": {
      "text/plain": [
       "<matplotlib.axes._subplots.AxesSubplot at 0x2297c9432b0>"
      ]
     },
     "execution_count": 18,
     "metadata": {},
     "output_type": "execute_result"
    },
    {
     "data": {
      "image/png": "[encoded data removed]",
      "text/plain": [
       "<Figure size 432x288 with 1 Axes>"
      ]
     },
     "metadata": {
      "needs_background": "light"
     },
     "output_type": "display_data"
    }
   ],
   "source": [
    "# plt.figure(figsize=(20,10))\n",
    "sns.distplot(df['PURCHASES']) #Total purchase amount spent during last 12 months"
   ]
  },
  {
   "cell_type": "code",
   "execution_count": 19,
   "metadata": {},
   "outputs": [
    {
     "name": "stderr",
     "output_type": "stream",
     "text": [
      "C:\\Users\\adity\\Anaconda3\\lib\\site-packages\\scipy\\stats\\stats.py:1713: FutureWarning: Using a non-tuple sequence for multidimensional indexing is deprecated; use `arr[tuple(seq)]` instead of `arr[seq]`. In the future this will be interpreted as an array index, `arr[np.array(seq)]`, which will result either in an error or a different result.\n",
      "  return np.add.reduce(sorted[indexer] * weights, axis=axis) / sumval\n"
     ]
    },
    {
     "data": {
      "text/plain": [
       "<matplotlib.axes._subplots.AxesSubplot at 0x2297cf72a90>"
      ]
     },
     "execution_count": 19,
     "metadata": {},
     "output_type": "execute_result"
    },
    {
     "data": {
      "image/png": "[encoded data removed]",
      "text/plain": [
       "<Figure size 432x288 with 1 Axes>"
      ]
     },
     "metadata": {
      "needs_background": "light"
     },
     "output_type": "display_data"
    }
   ],
   "source": [
    "# plt.figure(figsize=(20,10))\n",
    "sns.distplot(df['ONEOFF_PURCHASES'])"
   ]
  },
  {
   "cell_type": "code",
   "execution_count": 20,
   "metadata": {},
   "outputs": [
    {
     "name": "stderr",
     "output_type": "stream",
     "text": [
      "C:\\Users\\adity\\Anaconda3\\lib\\site-packages\\scipy\\stats\\stats.py:1713: FutureWarning: Using a non-tuple sequence for multidimensional indexing is deprecated; use `arr[tuple(seq)]` instead of `arr[seq]`. In the future this will be interpreted as an array index, `arr[np.array(seq)]`, which will result either in an error or a different result.\n",
      "  return np.add.reduce(sorted[indexer] * weights, axis=axis) / sumval\n"
     ]
    },
    {
     "data": {
      "text/plain": [
       "<matplotlib.axes._subplots.AxesSubplot at 0x2297cfee198>"
      ]
     },
     "execution_count": 20,
     "metadata": {},
     "output_type": "execute_result"
    },
    {
     "data": {
      "image/png": "[encoded data removed]",
      "text/plain": [
       "<Figure size 432x288 with 1 Axes>"
      ]
     },
     "metadata": {
      "needs_background": "light"
     },
     "output_type": "display_data"
    }
   ],
   "source": [
    "sns.distplot(df['INSTALLMENTS_PURCHASES'])"
   ]
  },
  {
   "cell_type": "code",
   "execution_count": null,
   "metadata": {},
   "outputs": [],
   "source": []
  },
  {
   "cell_type": "code",
   "execution_count": null,
   "metadata": {},
   "outputs": [],
   "source": []
  },
  {
   "cell_type": "code",
   "execution_count": 21,
   "metadata": {},
   "outputs": [
    {
     "name": "stderr",
     "output_type": "stream",
     "text": [
      "C:\\Users\\adity\\Anaconda3\\lib\\site-packages\\scipy\\stats\\stats.py:1713: FutureWarning: Using a non-tuple sequence for multidimensional indexing is deprecated; use `arr[tuple(seq)]` instead of `arr[seq]`. In the future this will be interpreted as an array index, `arr[np.array(seq)]`, which will result either in an error or a different result.\n",
      "  return np.add.reduce(sorted[indexer] * weights, axis=axis) / sumval\n"
     ]
    },
    {
     "data": {
      "text/plain": [
       "<matplotlib.axes._subplots.AxesSubplot at 0x2297d06d5c0>"
      ]
     },
     "execution_count": 21,
     "metadata": {},
     "output_type": "execute_result"
    },
    {
     "data": {
      "image/png": "[encoded data removed]",
      "text/plain": [
       "<Figure size 432x288 with 1 Axes>"
      ]
     },
     "metadata": {
      "needs_background": "light"
     },
     "output_type": "display_data"
    }
   ],
   "source": [
    "sns.distplot(df['CASH_ADVANCE'])"
   ]
  },
  {
   "cell_type": "code",
   "execution_count": 22,
   "metadata": {},
   "outputs": [
    {
     "name": "stderr",
     "output_type": "stream",
     "text": [
      "C:\\Users\\adity\\Anaconda3\\lib\\site-packages\\scipy\\stats\\stats.py:1713: FutureWarning: Using a non-tuple sequence for multidimensional indexing is deprecated; use `arr[tuple(seq)]` instead of `arr[seq]`. In the future this will be interpreted as an array index, `arr[np.array(seq)]`, which will result either in an error or a different result.\n",
      "  return np.add.reduce(sorted[indexer] * weights, axis=axis) / sumval\n"
     ]
    },
    {
     "data": {
      "text/plain": [
       "<matplotlib.axes._subplots.AxesSubplot at 0x2297d1c0e80>"
      ]
     },
     "execution_count": 22,
     "metadata": {},
     "output_type": "execute_result"
    },
    {
     "data": {
      "image/png": "[encoded data removed]",
      "text/plain": [
       "<Figure size 432x288 with 1 Axes>"
      ]
     },
     "metadata": {
      "needs_background": "light"
     },
     "output_type": "display_data"
    }
   ],
   "source": [
    "sns.distplot(df['PURCHASES_FREQUENCY'])"
   ]
  },
  {
   "cell_type": "code",
   "execution_count": 23,
   "metadata": {},
   "outputs": [
    {
     "name": "stderr",
     "output_type": "stream",
     "text": [
      "C:\\Users\\adity\\Anaconda3\\lib\\site-packages\\scipy\\stats\\stats.py:1713: FutureWarning: Using a non-tuple sequence for multidimensional indexing is deprecated; use `arr[tuple(seq)]` instead of `arr[seq]`. In the future this will be interpreted as an array index, `arr[np.array(seq)]`, which will result either in an error or a different result.\n",
      "  return np.add.reduce(sorted[indexer] * weights, axis=axis) / sumval\n"
     ]
    },
    {
     "data": {
      "text/plain": [
       "<matplotlib.axes._subplots.AxesSubplot at 0x2297d2055c0>"
      ]
     },
     "execution_count": 23,
     "metadata": {},
     "output_type": "execute_result"
    },
    {
     "data": {
      "image/png": "[encoded data removed]",
      "text/plain": [
       "<Figure size 432x288 with 1 Axes>"
      ]
     },
     "metadata": {
      "needs_background": "light"
     },
     "output_type": "display_data"
    }
   ],
   "source": [
    "sns.distplot(df['ONEOFF_PURCHASES_FREQUENCY'])"
   ]
  },
  {
   "cell_type": "code",
   "execution_count": 24,
   "metadata": {},
   "outputs": [
    {
     "name": "stderr",
     "output_type": "stream",
     "text": [
      "C:\\Users\\adity\\Anaconda3\\lib\\site-packages\\scipy\\stats\\stats.py:1713: FutureWarning: Using a non-tuple sequence for multidimensional indexing is deprecated; use `arr[tuple(seq)]` instead of `arr[seq]`. In the future this will be interpreted as an array index, `arr[np.array(seq)]`, which will result either in an error or a different result.\n",
      "  return np.add.reduce(sorted[indexer] * weights, axis=axis) / sumval\n"
     ]
    },
    {
     "data": {
      "text/plain": [
       "<matplotlib.axes._subplots.AxesSubplot at 0x2297d2f74e0>"
      ]
     },
     "execution_count": 24,
     "metadata": {},
     "output_type": "execute_result"
    },
    {
     "data": {
      "image/png": "[encoded data removed]",
      "text/plain": [
       "<Figure size 432x288 with 1 Axes>"
      ]
     },
     "metadata": {
      "needs_background": "light"
     },
     "output_type": "display_data"
    }
   ],
   "source": [
    "sns.distplot(df['PURCHASES_INSTALLMENTS_FREQUENCY'])"
   ]
  },
  {
   "cell_type": "code",
   "execution_count": 25,
   "metadata": {},
   "outputs": [
    {
     "name": "stderr",
     "output_type": "stream",
     "text": [
      "C:\\Users\\adity\\Anaconda3\\lib\\site-packages\\scipy\\stats\\stats.py:1713: FutureWarning: Using a non-tuple sequence for multidimensional indexing is deprecated; use `arr[tuple(seq)]` instead of `arr[seq]`. In the future this will be interpreted as an array index, `arr[np.array(seq)]`, which will result either in an error or a different result.\n",
      "  return np.add.reduce(sorted[indexer] * weights, axis=axis) / sumval\n"
     ]
    },
    {
     "data": {
      "text/plain": [
       "<matplotlib.axes._subplots.AxesSubplot at 0x2297d3765c0>"
      ]
     },
     "execution_count": 25,
     "metadata": {},
     "output_type": "execute_result"
    },
    {
     "data": {
      "image/png": "[encoded data removed]",
      "text/plain": [
       "<Figure size 432x288 with 1 Axes>"
      ]
     },
     "metadata": {
      "needs_background": "light"
     },
     "output_type": "display_data"
    }
   ],
   "source": [
    "sns.distplot(df['CREDIT_LIMIT'])"
   ]
  },
  {
   "cell_type": "code",
   "execution_count": 31,
   "metadata": {
    "scrolled": true
   },
   "outputs": [
    {
     "data": {
      "text/plain": [
       "<matplotlib.axes._subplots.AxesSubplot at 0x2297d421cc0>"
      ]
     },
     "execution_count": 31,
     "metadata": {},
     "output_type": "execute_result"
    },
    {
     "data": {
      "image/png": "[encoded data removed]",
      "text/plain": [
       "<Figure size 792x648 with 2 Axes>"
      ]
     },
     "metadata": {
      "needs_background": "light"
     },
     "output_type": "display_data"
    }
   ],
   "source": [
    "corr = df.corr()\n",
    "\n",
    "# Generate a mask for the upper triangle\n",
    "mask = np.zeros_like(corr, dtype=np.bool)\n",
    "mask[np.triu_indices_from(mask)] = True\n",
    "\n",
    "f, ax = plt.subplots(figsize=(11, 9))\n",
    "\n",
    "# Generate a custom diverging colormap\n",
    "cmap = sns.diverging_palette(220, 10, as_cmap=True)\n",
    "\n",
    "# Draw the heatmap with the mask and correct aspect ratio\n",
    "sns.heatmap(corr, mask=mask, cmap=cmap, vmax=.3, center=0,\n",
    "            square=True, linewidths=.5, cbar_kws={\"shrink\": .5})"
   ]
  },
  {
   "cell_type": "markdown",
   "metadata": {},
   "source": [
    "### KPIs"
   ]
  },
  {
   "cell_type": "code",
   "execution_count": 32,
   "metadata": {},
   "outputs": [
    {
     "data": {
      "text/plain": [
       "Index(['BALANCE', 'BALANCE_FREQUENCY', 'PURCHASES', 'ONEOFF_PURCHASES',\n",
       "       'INSTALLMENTS_PURCHASES', 'CASH_ADVANCE', 'PURCHASES_FREQUENCY',\n",
       "       'ONEOFF_PURCHASES_FREQUENCY', 'PURCHASES_INSTALLMENTS_FREQUENCY',\n",
       "       'CASH_ADVANCE_FREQUENCY', 'CASH_ADVANCE_TRX', 'PURCHASES_TRX',\n",
       "       'CREDIT_LIMIT', 'PAYMENTS', 'MINIMUM_PAYMENTS', 'PRC_FULL_PAYMENT',\n",
       "       'TENURE'],\n",
       "      dtype='object')"
      ]
     },
     "execution_count": 32,
     "metadata": {},
     "output_type": "execute_result"
    }
   ],
   "source": [
    "df.columns"
   ]
  },
  {
   "cell_type": "code",
   "execution_count": 59,
   "metadata": {},
   "outputs": [
    {
     "data": {
      "text/plain": [
       "<matplotlib.axes._subplots.AxesSubplot at 0x22904b97898>"
      ]
     },
     "execution_count": 59,
     "metadata": {},
     "output_type": "execute_result"
    },
    {
     "data": {
      "image/png": "[encoded data removed]",
      "text/plain": [
       "<Figure size 432x288 with 1 Axes>"
      ]
     },
     "metadata": {
      "needs_background": "light"
     },
     "output_type": "display_data"
    }
   ],
   "source": [
    "plt.title(\"MONTHLY_AVG_PURCHASE_AMT\")\n",
    "sns.boxplot(df['PURCHASES']/df['TENURE'])"
   ]
  },
  {
   "cell_type": "code",
   "execution_count": 60,
   "metadata": {},
   "outputs": [
    {
     "data": {
      "text/plain": [
       "<matplotlib.axes._subplots.AxesSubplot at 0x22904b82ac8>"
      ]
     },
     "execution_count": 60,
     "metadata": {},
     "output_type": "execute_result"
    },
    {
     "data": {
      "image/png": "[encoded data removed]",
      "text/plain": [
       "<Figure size 432x288 with 1 Axes>"
      ]
     },
     "metadata": {
      "needs_background": "light"
     },
     "output_type": "display_data"
    }
   ],
   "source": [
    "plt.title(\"MONTHLY_CASH_ADVANCE_AMT\")\n",
    "sns.boxplot(df['CASH_ADVANCE']/df['TENURE'])"
   ]
  },
  {
   "cell_type": "code",
   "execution_count": 61,
   "metadata": {},
   "outputs": [
    {
     "data": {
      "text/plain": [
       "<matplotlib.axes._subplots.AxesSubplot at 0x229056ba550>"
      ]
     },
     "execution_count": 61,
     "metadata": {},
     "output_type": "execute_result"
    },
    {
     "data": {
      "image/png": "[encoded data removed]",
      "text/plain": [
       "<Figure size 432x288 with 1 Axes>"
      ]
     },
     "metadata": {
      "needs_background": "light"
     },
     "output_type": "display_data"
    }
   ],
   "source": [
    "plt.title(\"AVG_AMT_PER_PURCHASE\")\n",
    "sns.boxplot(df['PURCHASES']/df['PURCHASES_TRX'])"
   ]
  },
  {
   "cell_type": "code",
   "execution_count": 62,
   "metadata": {},
   "outputs": [
    {
     "data": {
      "text/plain": [
       "<matplotlib.axes._subplots.AxesSubplot at 0x2290567e358>"
      ]
     },
     "execution_count": 62,
     "metadata": {},
     "output_type": "execute_result"
    },
    {
     "data": {
      "image/png": "[encoded data removed]",
      "text/plain": [
       "<Figure size 432x288 with 1 Axes>"
      ]
     },
     "metadata": {
      "needs_background": "light"
     },
     "output_type": "display_data"
    }
   ],
   "source": [
    "plt.title(\"AVG_CASH_ADVANCE_PER_PURCHASE\")\n",
    "sns.boxplot(df['CASH_ADVANCE']/df['CASH_ADVANCE_TRX'])"
   ]
  },
  {
   "cell_type": "code",
   "execution_count": 63,
   "metadata": {},
   "outputs": [
    {
     "data": {
      "text/plain": [
       "<matplotlib.axes._subplots.AxesSubplot at 0x22905724ef0>"
      ]
     },
     "execution_count": 63,
     "metadata": {},
     "output_type": "execute_result"
    },
    {
     "data": {
      "image/png": "[encoded data removed]",
      "text/plain": [
       "<Figure size 432x288 with 1 Axes>"
      ]
     },
     "metadata": {
      "needs_background": "light"
     },
     "output_type": "display_data"
    }
   ],
   "source": [
    "plt.title(\"LIMIT_USAGE\")\n",
    "sns.boxplot(df['BALANCE']/df['CREDIT_LIMIT'])"
   ]
  },
  {
   "cell_type": "code",
   "execution_count": 64,
   "metadata": {},
   "outputs": [
    {
     "data": {
      "text/plain": [
       "<matplotlib.axes._subplots.AxesSubplot at 0x2290571b978>"
      ]
     },
     "execution_count": 64,
     "metadata": {},
     "output_type": "execute_result"
    },
    {
     "data": {
      "image/png": "[encoded data removed]",
      "text/plain": [
       "<Figure size 432x288 with 1 Axes>"
      ]
     },
     "metadata": {
      "needs_background": "light"
     },
     "output_type": "display_data"
    }
   ],
   "source": [
    "plt.title(\"PAYMENTS_USAGE\")\n",
    "sns.boxplot(df['PAYMENTS']/df['MINIMUM_PAYMENTS'])"
   ]
  },
  {
   "cell_type": "markdown",
   "metadata": {},
   "source": [
    "## Clustering Analysis"
   ]
  },
  {
   "cell_type": "code",
   "execution_count": 34,
   "metadata": {},
   "outputs": [],
   "source": [
    "from sklearn.cluster import KMeans\n",
    "import sklearn.cluster as cluster\n",
    "import time"
   ]
  },
  {
   "cell_type": "code",
   "execution_count": 35,
   "metadata": {},
   "outputs": [],
   "source": [
    "distortions = []\n",
    "K = range(1,6)\n",
    "for k in K:\n",
    "    kmeanModel = KMeans(n_clusters=k)\n",
    "    kmeanModel.fit(df)\n",
    "    distortions.append(kmeanModel.inertia_)"
   ]
  },
  {
   "cell_type": "code",
   "execution_count": 36,
   "metadata": {},
   "outputs": [
    {
     "data": {
      "image/png": "[encoded data removed]",
      "text/plain": [
       "<Figure size 432x288 with 1 Axes>"
      ]
     },
     "metadata": {
      "needs_background": "light"
     },
     "output_type": "display_data"
    }
   ],
   "source": [
    "# Plot the elbow\n",
    "plt.plot(K, distortions, 'bx-')\n",
    "plt.xlabel('k')\n",
    "plt.ylabel('Distortion')\n",
    "plt.title('The Elbow Method showing the optimal k')\n",
    "plt.show()"
   ]
  },
  {
   "cell_type": "markdown",
   "metadata": {},
   "source": [
    "##### Therefore optimal k=2"
   ]
  },
  {
   "cell_type": "code",
   "execution_count": null,
   "metadata": {},
   "outputs": [],
   "source": []
  },
  {
   "cell_type": "code",
   "execution_count": 37,
   "metadata": {},
   "outputs": [
    {
     "data": {
      "text/plain": [
       "KMeans(algorithm='auto', copy_x=True, init='random', max_iter=300,\n",
       "    n_clusters=2, n_init=10, n_jobs=1, precompute_distances='auto',\n",
       "    random_state=None, tol=0.0001, verbose=0)"
      ]
     },
     "execution_count": 37,
     "metadata": {},
     "output_type": "execute_result"
    }
   ],
   "source": [
    "km = KMeans(init=\"random\", n_clusters=2)\n",
    "km.fit(df)"
   ]
  },
  {
   "cell_type": "code",
   "execution_count": 38,
   "metadata": {},
   "outputs": [],
   "source": [
    "labels=km.labels_"
   ]
  },
  {
   "cell_type": "code",
   "execution_count": 39,
   "metadata": {},
   "outputs": [],
   "source": [
    "labels=labels.tolist()"
   ]
  },
  {
   "cell_type": "code",
   "execution_count": 40,
   "metadata": {},
   "outputs": [],
   "source": [
    "labels=pd.Series(data=labels,index=range(len(labels)))"
   ]
  },
  {
   "cell_type": "code",
   "execution_count": 41,
   "metadata": {},
   "outputs": [],
   "source": [
    "labels_x=list() #Extracting the various clusters formed\n",
    "for i in range(10):\n",
    "    labels_x.append(labels[labels.values==i])"
   ]
  },
  {
   "cell_type": "code",
   "execution_count": null,
   "metadata": {},
   "outputs": [],
   "source": []
  },
  {
   "cell_type": "markdown",
   "metadata": {},
   "source": [
    "#### Cluster 0"
   ]
  },
  {
   "cell_type": "code",
   "execution_count": 42,
   "metadata": {},
   "outputs": [
    {
     "data": {
      "text/html": [
       "<div>\n",
       "<style scoped>\n",
       "    .dataframe tbody tr th:only-of-type {\n",
       "        vertical-align: middle;\n",
       "    }\n",
       "\n",
       "    .dataframe tbody tr th {\n",
       "        vertical-align: top;\n",
       "    }\n",
       "\n",
       "    .dataframe thead th {\n",
       "        text-align: right;\n",
       "    }\n",
       "</style>\n",
       "<table border=\"1\" class=\"dataframe\">\n",
       "  <thead>\n",
       "    <tr style=\"text-align: right;\">\n",
       "      <th></th>\n",
       "      <th>count</th>\n",
       "      <th>mean</th>\n",
       "      <th>std</th>\n",
       "      <th>min</th>\n",
       "      <th>25%</th>\n",
       "      <th>50%</th>\n",
       "      <th>75%</th>\n",
       "      <th>max</th>\n",
       "    </tr>\n",
       "  </thead>\n",
       "  <tbody>\n",
       "    <tr>\n",
       "      <th>BALANCE</th>\n",
       "      <td>2319.0</td>\n",
       "      <td>1046.598115</td>\n",
       "      <td>790.707731</td>\n",
       "      <td>2.117128</td>\n",
       "      <td>385.283259</td>\n",
       "      <td>990.780585</td>\n",
       "      <td>1471.598985</td>\n",
       "      <td>3983.923705</td>\n",
       "    </tr>\n",
       "    <tr>\n",
       "      <th>BALANCE_FREQUENCY</th>\n",
       "      <td>2319.0</td>\n",
       "      <td>0.979654</td>\n",
       "      <td>0.060624</td>\n",
       "      <td>0.727273</td>\n",
       "      <td>1.000000</td>\n",
       "      <td>1.000000</td>\n",
       "      <td>1.000000</td>\n",
       "      <td>1.000000</td>\n",
       "    </tr>\n",
       "    <tr>\n",
       "      <th>PURCHASES</th>\n",
       "      <td>2319.0</td>\n",
       "      <td>334.470177</td>\n",
       "      <td>402.918896</td>\n",
       "      <td>0.000000</td>\n",
       "      <td>0.000000</td>\n",
       "      <td>191.670000</td>\n",
       "      <td>525.520000</td>\n",
       "      <td>2315.860000</td>\n",
       "    </tr>\n",
       "    <tr>\n",
       "      <th>ONEOFF_PURCHASES</th>\n",
       "      <td>2319.0</td>\n",
       "      <td>169.309465</td>\n",
       "      <td>305.946148</td>\n",
       "      <td>0.000000</td>\n",
       "      <td>0.000000</td>\n",
       "      <td>0.000000</td>\n",
       "      <td>205.715000</td>\n",
       "      <td>1440.140000</td>\n",
       "    </tr>\n",
       "    <tr>\n",
       "      <th>INSTALLMENTS_PURCHASES</th>\n",
       "      <td>2319.0</td>\n",
       "      <td>165.362639</td>\n",
       "      <td>241.386186</td>\n",
       "      <td>0.000000</td>\n",
       "      <td>0.000000</td>\n",
       "      <td>0.000000</td>\n",
       "      <td>277.370000</td>\n",
       "      <td>1166.680000</td>\n",
       "    </tr>\n",
       "    <tr>\n",
       "      <th>CASH_ADVANCE</th>\n",
       "      <td>2319.0</td>\n",
       "      <td>401.737768</td>\n",
       "      <td>624.259480</td>\n",
       "      <td>0.000000</td>\n",
       "      <td>0.000000</td>\n",
       "      <td>56.644654</td>\n",
       "      <td>577.410614</td>\n",
       "      <td>2774.385866</td>\n",
       "    </tr>\n",
       "    <tr>\n",
       "      <th>PURCHASES_FREQUENCY</th>\n",
       "      <td>2319.0</td>\n",
       "      <td>0.385511</td>\n",
       "      <td>0.376329</td>\n",
       "      <td>0.000000</td>\n",
       "      <td>0.000000</td>\n",
       "      <td>0.250000</td>\n",
       "      <td>0.750000</td>\n",
       "      <td>1.000000</td>\n",
       "    </tr>\n",
       "    <tr>\n",
       "      <th>ONEOFF_PURCHASES_FREQUENCY</th>\n",
       "      <td>2319.0</td>\n",
       "      <td>0.103493</td>\n",
       "      <td>0.165976</td>\n",
       "      <td>0.000000</td>\n",
       "      <td>0.000000</td>\n",
       "      <td>0.000000</td>\n",
       "      <td>0.166667</td>\n",
       "      <td>0.750000</td>\n",
       "    </tr>\n",
       "    <tr>\n",
       "      <th>PURCHASES_INSTALLMENTS_FREQUENCY</th>\n",
       "      <td>2319.0</td>\n",
       "      <td>0.301567</td>\n",
       "      <td>0.378259</td>\n",
       "      <td>0.000000</td>\n",
       "      <td>0.000000</td>\n",
       "      <td>0.000000</td>\n",
       "      <td>0.583333</td>\n",
       "      <td>1.000000</td>\n",
       "    </tr>\n",
       "    <tr>\n",
       "      <th>CASH_ADVANCE_FREQUENCY</th>\n",
       "      <td>2319.0</td>\n",
       "      <td>0.104858</td>\n",
       "      <td>0.127219</td>\n",
       "      <td>0.000000</td>\n",
       "      <td>0.000000</td>\n",
       "      <td>0.083333</td>\n",
       "      <td>0.166667</td>\n",
       "      <td>0.500000</td>\n",
       "    </tr>\n",
       "    <tr>\n",
       "      <th>CASH_ADVANCE_TRX</th>\n",
       "      <td>2319.0</td>\n",
       "      <td>1.858129</td>\n",
       "      <td>2.450223</td>\n",
       "      <td>0.000000</td>\n",
       "      <td>0.000000</td>\n",
       "      <td>1.000000</td>\n",
       "      <td>3.000000</td>\n",
       "      <td>10.000000</td>\n",
       "    </tr>\n",
       "    <tr>\n",
       "      <th>PURCHASES_TRX</th>\n",
       "      <td>2319.0</td>\n",
       "      <td>7.319534</td>\n",
       "      <td>8.563477</td>\n",
       "      <td>0.000000</td>\n",
       "      <td>0.000000</td>\n",
       "      <td>4.000000</td>\n",
       "      <td>12.000000</td>\n",
       "      <td>41.000000</td>\n",
       "    </tr>\n",
       "    <tr>\n",
       "      <th>CREDIT_LIMIT</th>\n",
       "      <td>2319.0</td>\n",
       "      <td>2084.217335</td>\n",
       "      <td>993.668992</td>\n",
       "      <td>150.000000</td>\n",
       "      <td>1200.000000</td>\n",
       "      <td>1800.000000</td>\n",
       "      <td>3000.000000</td>\n",
       "      <td>4750.000000</td>\n",
       "    </tr>\n",
       "    <tr>\n",
       "      <th>PAYMENTS</th>\n",
       "      <td>2319.0</td>\n",
       "      <td>755.403946</td>\n",
       "      <td>669.355811</td>\n",
       "      <td>0.000000</td>\n",
       "      <td>323.564427</td>\n",
       "      <td>550.825801</td>\n",
       "      <td>916.954466</td>\n",
       "      <td>4138.243604</td>\n",
       "    </tr>\n",
       "    <tr>\n",
       "      <th>MINIMUM_PAYMENTS</th>\n",
       "      <td>2319.0</td>\n",
       "      <td>441.957105</td>\n",
       "      <td>321.337973</td>\n",
       "      <td>2.891346</td>\n",
       "      <td>201.015256</td>\n",
       "      <td>330.915844</td>\n",
       "      <td>585.822834</td>\n",
       "      <td>1711.207196</td>\n",
       "    </tr>\n",
       "    <tr>\n",
       "      <th>PRC_FULL_PAYMENT</th>\n",
       "      <td>2319.0</td>\n",
       "      <td>0.028571</td>\n",
       "      <td>0.067817</td>\n",
       "      <td>0.000000</td>\n",
       "      <td>0.000000</td>\n",
       "      <td>0.000000</td>\n",
       "      <td>0.000000</td>\n",
       "      <td>0.333333</td>\n",
       "    </tr>\n",
       "    <tr>\n",
       "      <th>TENURE</th>\n",
       "      <td>2319.0</td>\n",
       "      <td>12.000000</td>\n",
       "      <td>0.000000</td>\n",
       "      <td>12.000000</td>\n",
       "      <td>12.000000</td>\n",
       "      <td>12.000000</td>\n",
       "      <td>12.000000</td>\n",
       "      <td>12.000000</td>\n",
       "    </tr>\n",
       "  </tbody>\n",
       "</table>\n",
       "</div>"
      ],
      "text/plain": [
       "                                   count         mean         std         min  \\\n",
       "BALANCE                           2319.0  1046.598115  790.707731    2.117128   \n",
       "BALANCE_FREQUENCY                 2319.0     0.979654    0.060624    0.727273   \n",
       "PURCHASES                         2319.0   334.470177  402.918896    0.000000   \n",
       "ONEOFF_PURCHASES                  2319.0   169.309465  305.946148    0.000000   \n",
       "INSTALLMENTS_PURCHASES            2319.0   165.362639  241.386186    0.000000   \n",
       "CASH_ADVANCE                      2319.0   401.737768  624.259480    0.000000   \n",
       "PURCHASES_FREQUENCY               2319.0     0.385511    0.376329    0.000000   \n",
       "ONEOFF_PURCHASES_FREQUENCY        2319.0     0.103493    0.165976    0.000000   \n",
       "PURCHASES_INSTALLMENTS_FREQUENCY  2319.0     0.301567    0.378259    0.000000   \n",
       "CASH_ADVANCE_FREQUENCY            2319.0     0.104858    0.127219    0.000000   \n",
       "CASH_ADVANCE_TRX                  2319.0     1.858129    2.450223    0.000000   \n",
       "PURCHASES_TRX                     2319.0     7.319534    8.563477    0.000000   \n",
       "CREDIT_LIMIT                      2319.0  2084.217335  993.668992  150.000000   \n",
       "PAYMENTS                          2319.0   755.403946  669.355811    0.000000   \n",
       "MINIMUM_PAYMENTS                  2319.0   441.957105  321.337973    2.891346   \n",
       "PRC_FULL_PAYMENT                  2319.0     0.028571    0.067817    0.000000   \n",
       "TENURE                            2319.0    12.000000    0.000000   12.000000   \n",
       "\n",
       "                                          25%          50%          75%  \\\n",
       "BALANCE                            385.283259   990.780585  1471.598985   \n",
       "BALANCE_FREQUENCY                    1.000000     1.000000     1.000000   \n",
       "PURCHASES                            0.000000   191.670000   525.520000   \n",
       "ONEOFF_PURCHASES                     0.000000     0.000000   205.715000   \n",
       "INSTALLMENTS_PURCHASES               0.000000     0.000000   277.370000   \n",
       "CASH_ADVANCE                         0.000000    56.644654   577.410614   \n",
       "PURCHASES_FREQUENCY                  0.000000     0.250000     0.750000   \n",
       "ONEOFF_PURCHASES_FREQUENCY           0.000000     0.000000     0.166667   \n",
       "PURCHASES_INSTALLMENTS_FREQUENCY     0.000000     0.000000     0.583333   \n",
       "CASH_ADVANCE_FREQUENCY               0.000000     0.083333     0.166667   \n",
       "CASH_ADVANCE_TRX                     0.000000     1.000000     3.000000   \n",
       "PURCHASES_TRX                        0.000000     4.000000    12.000000   \n",
       "CREDIT_LIMIT                      1200.000000  1800.000000  3000.000000   \n",
       "PAYMENTS                           323.564427   550.825801   916.954466   \n",
       "MINIMUM_PAYMENTS                   201.015256   330.915844   585.822834   \n",
       "PRC_FULL_PAYMENT                     0.000000     0.000000     0.000000   \n",
       "TENURE                              12.000000    12.000000    12.000000   \n",
       "\n",
       "                                          max  \n",
       "BALANCE                           3983.923705  \n",
       "BALANCE_FREQUENCY                    1.000000  \n",
       "PURCHASES                         2315.860000  \n",
       "ONEOFF_PURCHASES                  1440.140000  \n",
       "INSTALLMENTS_PURCHASES            1166.680000  \n",
       "CASH_ADVANCE                      2774.385866  \n",
       "PURCHASES_FREQUENCY                  1.000000  \n",
       "ONEOFF_PURCHASES_FREQUENCY           0.750000  \n",
       "PURCHASES_INSTALLMENTS_FREQUENCY     1.000000  \n",
       "CASH_ADVANCE_FREQUENCY               0.500000  \n",
       "CASH_ADVANCE_TRX                    10.000000  \n",
       "PURCHASES_TRX                       41.000000  \n",
       "CREDIT_LIMIT                      4750.000000  \n",
       "PAYMENTS                          4138.243604  \n",
       "MINIMUM_PAYMENTS                  1711.207196  \n",
       "PRC_FULL_PAYMENT                     0.333333  \n",
       "TENURE                              12.000000  "
      ]
     },
     "execution_count": 42,
     "metadata": {},
     "output_type": "execute_result"
    }
   ],
   "source": [
    "df.iloc[labels_x[0].index,:].describe().T"
   ]
  },
  {
   "cell_type": "code",
   "execution_count": 43,
   "metadata": {},
   "outputs": [],
   "source": [
    "cluster0_data=df.iloc[labels_x[0].index,:]"
   ]
  },
  {
   "cell_type": "code",
   "execution_count": 44,
   "metadata": {},
   "outputs": [
    {
     "data": {
      "text/plain": [
       "<matplotlib.axes._subplots.AxesSubplot at 0x2297f78c438>"
      ]
     },
     "execution_count": 44,
     "metadata": {},
     "output_type": "execute_result"
    },
    {
     "data": {
      "image/png": "[encoded data removed]",
      "text/plain": [
       "<Figure size 432x288 with 1 Axes>"
      ]
     },
     "metadata": {
      "needs_background": "light"
     },
     "output_type": "display_data"
    }
   ],
   "source": [
    "sns.scatterplot(cluster0_data['BALANCE'],cluster0_data['PURCHASES'])"
   ]
  },
  {
   "cell_type": "code",
   "execution_count": 45,
   "metadata": {},
   "outputs": [
    {
     "data": {
      "text/plain": [
       "<matplotlib.axes._subplots.AxesSubplot at 0x2297f760470>"
      ]
     },
     "execution_count": 45,
     "metadata": {},
     "output_type": "execute_result"
    },
    {
     "data": {
      "image/png": "[encoded data removed]",
      "text/plain": [
       "<Figure size 432x288 with 1 Axes>"
      ]
     },
     "metadata": {
      "needs_background": "light"
     },
     "output_type": "display_data"
    }
   ],
   "source": [
    "sns.boxplot(cluster0_data['BALANCE'])"
   ]
  },
  {
   "cell_type": "code",
   "execution_count": 30,
   "metadata": {},
   "outputs": [
    {
     "data": {
      "text/plain": [
       "<matplotlib.axes._subplots.AxesSubplot at 0x23335cc3828>"
      ]
     },
     "execution_count": 30,
     "metadata": {},
     "output_type": "execute_result"
    },
    {
     "data": {
      "image/png": "[encoded data removed]",
      "text/plain": [
       "<Figure size 432x288 with 1 Axes>"
      ]
     },
     "metadata": {
      "needs_background": "light"
     },
     "output_type": "display_data"
    }
   ],
   "source": [
    "sns.boxplot(cluster0_data['PURCHASES'])"
   ]
  },
  {
   "cell_type": "code",
   "execution_count": 31,
   "metadata": {},
   "outputs": [
    {
     "data": {
      "text/plain": [
       "<matplotlib.axes._subplots.AxesSubplot at 0x23335befe10>"
      ]
     },
     "execution_count": 31,
     "metadata": {},
     "output_type": "execute_result"
    },
    {
     "data": {
      "image/png": "[encoded data removed]",
      "text/plain": [
       "<Figure size 432x288 with 1 Axes>"
      ]
     },
     "metadata": {
      "needs_background": "light"
     },
     "output_type": "display_data"
    }
   ],
   "source": [
    "sns.boxplot(cluster0_data['PAYMENTS'])"
   ]
  },
  {
   "cell_type": "code",
   "execution_count": 32,
   "metadata": {},
   "outputs": [
    {
     "data": {
      "text/plain": [
       "<matplotlib.axes._subplots.AxesSubplot at 0x23335b0beb8>"
      ]
     },
     "execution_count": 32,
     "metadata": {},
     "output_type": "execute_result"
    },
    {
     "data": {
      "image/png": "[encoded data removed]",
      "text/plain": [
       "<Figure size 432x288 with 1 Axes>"
      ]
     },
     "metadata": {
      "needs_background": "light"
     },
     "output_type": "display_data"
    }
   ],
   "source": [
    "sns.boxplot(cluster0_data['CREDIT_LIMIT'])"
   ]
  },
  {
   "cell_type": "code",
   "execution_count": 69,
   "metadata": {},
   "outputs": [
    {
     "data": {
      "text/plain": [
       "<matplotlib.axes._subplots.AxesSubplot at 0x183ac8a9e10>"
      ]
     },
     "execution_count": 69,
     "metadata": {},
     "output_type": "execute_result"
    },
    {
     "data": {
      "image/png": "[encoded data removed]",
      "text/plain": [
       "<Figure size 432x288 with 1 Axes>"
      ]
     },
     "metadata": {
      "needs_background": "light"
     },
     "output_type": "display_data"
    }
   ],
   "source": [
    "sns.boxplot(cluster0_data['ONEOFF_PURCHASES'])"
   ]
  },
  {
   "cell_type": "code",
   "execution_count": 70,
   "metadata": {},
   "outputs": [
    {
     "data": {
      "text/plain": [
       "<matplotlib.axes._subplots.AxesSubplot at 0x183ac902160>"
      ]
     },
     "execution_count": 70,
     "metadata": {},
     "output_type": "execute_result"
    },
    {
     "data": {
      "image/png": "[encoded data removed]",
      "text/plain": [
       "<Figure size 432x288 with 1 Axes>"
      ]
     },
     "metadata": {
      "needs_background": "light"
     },
     "output_type": "display_data"
    }
   ],
   "source": [
    "sns.boxplot(cluster0_data['INSTALLMENTS_PURCHASES'])"
   ]
  },
  {
   "cell_type": "code",
   "execution_count": 75,
   "metadata": {},
   "outputs": [
    {
     "data": {
      "text/plain": [
       "<matplotlib.axes._subplots.AxesSubplot at 0x183acaf3fd0>"
      ]
     },
     "execution_count": 75,
     "metadata": {},
     "output_type": "execute_result"
    },
    {
     "data": {
      "image/png": "[encoded data removed]",
      "text/plain": [
       "<Figure size 432x288 with 1 Axes>"
      ]
     },
     "metadata": {
      "needs_background": "light"
     },
     "output_type": "display_data"
    }
   ],
   "source": [
    "sns.boxplot(cluster0_data['ONEOFF_PURCHASES_FREQUENCY'])"
   ]
  },
  {
   "cell_type": "code",
   "execution_count": null,
   "metadata": {},
   "outputs": [],
   "source": []
  },
  {
   "cell_type": "code",
   "execution_count": null,
   "metadata": {},
   "outputs": [],
   "source": []
  },
  {
   "cell_type": "markdown",
   "metadata": {},
   "source": [
    "#### Cluster 1"
   ]
  },
  {
   "cell_type": "code",
   "execution_count": 60,
   "metadata": {},
   "outputs": [
    {
     "data": {
      "text/html": [
       "<div>\n",
       "<style scoped>\n",
       "    .dataframe tbody tr th:only-of-type {\n",
       "        vertical-align: middle;\n",
       "    }\n",
       "\n",
       "    .dataframe tbody tr th {\n",
       "        vertical-align: top;\n",
       "    }\n",
       "\n",
       "    .dataframe thead th {\n",
       "        text-align: right;\n",
       "    }\n",
       "</style>\n",
       "<table border=\"1\" class=\"dataframe\">\n",
       "  <thead>\n",
       "    <tr style=\"text-align: right;\">\n",
       "      <th></th>\n",
       "      <th>count</th>\n",
       "      <th>mean</th>\n",
       "      <th>std</th>\n",
       "      <th>min</th>\n",
       "      <th>25%</th>\n",
       "      <th>50%</th>\n",
       "      <th>75%</th>\n",
       "      <th>max</th>\n",
       "    </tr>\n",
       "  </thead>\n",
       "  <tbody>\n",
       "    <tr>\n",
       "      <th>BALANCE</th>\n",
       "      <td>951.0</td>\n",
       "      <td>3887.631755</td>\n",
       "      <td>1425.961841</td>\n",
       "      <td>166.295463</td>\n",
       "      <td>2827.682830</td>\n",
       "      <td>3803.111606</td>\n",
       "      <td>4915.744012</td>\n",
       "      <td>7659.191510</td>\n",
       "    </tr>\n",
       "    <tr>\n",
       "      <th>BALANCE_FREQUENCY</th>\n",
       "      <td>951.0</td>\n",
       "      <td>0.969355</td>\n",
       "      <td>0.101037</td>\n",
       "      <td>0.181818</td>\n",
       "      <td>1.000000</td>\n",
       "      <td>1.000000</td>\n",
       "      <td>1.000000</td>\n",
       "      <td>1.000000</td>\n",
       "    </tr>\n",
       "    <tr>\n",
       "      <th>PURCHASES</th>\n",
       "      <td>951.0</td>\n",
       "      <td>509.309464</td>\n",
       "      <td>816.644637</td>\n",
       "      <td>0.000000</td>\n",
       "      <td>0.000000</td>\n",
       "      <td>100.000000</td>\n",
       "      <td>710.350000</td>\n",
       "      <td>5544.450000</td>\n",
       "    </tr>\n",
       "    <tr>\n",
       "      <th>ONEOFF_PURCHASES</th>\n",
       "      <td>951.0</td>\n",
       "      <td>294.746078</td>\n",
       "      <td>573.679781</td>\n",
       "      <td>0.000000</td>\n",
       "      <td>0.000000</td>\n",
       "      <td>0.000000</td>\n",
       "      <td>341.575000</td>\n",
       "      <td>4020.040000</td>\n",
       "    </tr>\n",
       "    <tr>\n",
       "      <th>INSTALLMENTS_PURCHASES</th>\n",
       "      <td>951.0</td>\n",
       "      <td>214.599895</td>\n",
       "      <td>450.047115</td>\n",
       "      <td>0.000000</td>\n",
       "      <td>0.000000</td>\n",
       "      <td>0.000000</td>\n",
       "      <td>228.440000</td>\n",
       "      <td>3607.750000</td>\n",
       "    </tr>\n",
       "    <tr>\n",
       "      <th>CASH_ADVANCE</th>\n",
       "      <td>951.0</td>\n",
       "      <td>2536.941817</td>\n",
       "      <td>1752.009698</td>\n",
       "      <td>0.000000</td>\n",
       "      <td>1159.228494</td>\n",
       "      <td>2462.100789</td>\n",
       "      <td>3630.828859</td>\n",
       "      <td>9579.677222</td>\n",
       "    </tr>\n",
       "    <tr>\n",
       "      <th>PURCHASES_FREQUENCY</th>\n",
       "      <td>951.0</td>\n",
       "      <td>0.317309</td>\n",
       "      <td>0.379029</td>\n",
       "      <td>0.000000</td>\n",
       "      <td>0.000000</td>\n",
       "      <td>0.083333</td>\n",
       "      <td>0.666667</td>\n",
       "      <td>1.000000</td>\n",
       "    </tr>\n",
       "    <tr>\n",
       "      <th>ONEOFF_PURCHASES_FREQUENCY</th>\n",
       "      <td>951.0</td>\n",
       "      <td>0.143412</td>\n",
       "      <td>0.243566</td>\n",
       "      <td>0.000000</td>\n",
       "      <td>0.000000</td>\n",
       "      <td>0.000000</td>\n",
       "      <td>0.166667</td>\n",
       "      <td>1.000000</td>\n",
       "    </tr>\n",
       "    <tr>\n",
       "      <th>PURCHASES_INSTALLMENTS_FREQUENCY</th>\n",
       "      <td>951.0</td>\n",
       "      <td>0.215614</td>\n",
       "      <td>0.340628</td>\n",
       "      <td>0.000000</td>\n",
       "      <td>0.000000</td>\n",
       "      <td>0.000000</td>\n",
       "      <td>0.416667</td>\n",
       "      <td>1.000000</td>\n",
       "    </tr>\n",
       "    <tr>\n",
       "      <th>CASH_ADVANCE_FREQUENCY</th>\n",
       "      <td>951.0</td>\n",
       "      <td>0.326393</td>\n",
       "      <td>0.228337</td>\n",
       "      <td>0.000000</td>\n",
       "      <td>0.166667</td>\n",
       "      <td>0.285714</td>\n",
       "      <td>0.454545</td>\n",
       "      <td>1.500000</td>\n",
       "    </tr>\n",
       "    <tr>\n",
       "      <th>CASH_ADVANCE_TRX</th>\n",
       "      <td>951.0</td>\n",
       "      <td>8.101998</td>\n",
       "      <td>8.373712</td>\n",
       "      <td>0.000000</td>\n",
       "      <td>3.000000</td>\n",
       "      <td>6.000000</td>\n",
       "      <td>11.000000</td>\n",
       "      <td>123.000000</td>\n",
       "    </tr>\n",
       "    <tr>\n",
       "      <th>PURCHASES_TRX</th>\n",
       "      <td>951.0</td>\n",
       "      <td>9.051525</td>\n",
       "      <td>16.871854</td>\n",
       "      <td>0.000000</td>\n",
       "      <td>0.000000</td>\n",
       "      <td>1.000000</td>\n",
       "      <td>12.000000</td>\n",
       "      <td>195.000000</td>\n",
       "    </tr>\n",
       "    <tr>\n",
       "      <th>CREDIT_LIMIT</th>\n",
       "      <td>951.0</td>\n",
       "      <td>5937.066246</td>\n",
       "      <td>1719.861045</td>\n",
       "      <td>1800.000000</td>\n",
       "      <td>4500.000000</td>\n",
       "      <td>6000.000000</td>\n",
       "      <td>7000.000000</td>\n",
       "      <td>10500.000000</td>\n",
       "    </tr>\n",
       "    <tr>\n",
       "      <th>PAYMENTS</th>\n",
       "      <td>951.0</td>\n",
       "      <td>1546.584805</td>\n",
       "      <td>1078.389567</td>\n",
       "      <td>0.000000</td>\n",
       "      <td>871.451166</td>\n",
       "      <td>1271.396821</td>\n",
       "      <td>1864.571401</td>\n",
       "      <td>6344.618447</td>\n",
       "    </tr>\n",
       "    <tr>\n",
       "      <th>MINIMUM_PAYMENTS</th>\n",
       "      <td>951.0</td>\n",
       "      <td>1679.105028</td>\n",
       "      <td>1886.731199</td>\n",
       "      <td>183.275472</td>\n",
       "      <td>830.259184</td>\n",
       "      <td>1220.498390</td>\n",
       "      <td>1816.574220</td>\n",
       "      <td>14437.122090</td>\n",
       "    </tr>\n",
       "    <tr>\n",
       "      <th>PRC_FULL_PAYMENT</th>\n",
       "      <td>951.0</td>\n",
       "      <td>0.007251</td>\n",
       "      <td>0.035608</td>\n",
       "      <td>0.000000</td>\n",
       "      <td>0.000000</td>\n",
       "      <td>0.000000</td>\n",
       "      <td>0.000000</td>\n",
       "      <td>0.600000</td>\n",
       "    </tr>\n",
       "    <tr>\n",
       "      <th>TENURE</th>\n",
       "      <td>951.0</td>\n",
       "      <td>11.478444</td>\n",
       "      <td>1.346851</td>\n",
       "      <td>6.000000</td>\n",
       "      <td>12.000000</td>\n",
       "      <td>12.000000</td>\n",
       "      <td>12.000000</td>\n",
       "      <td>12.000000</td>\n",
       "    </tr>\n",
       "  </tbody>\n",
       "</table>\n",
       "</div>"
      ],
      "text/plain": [
       "                                  count         mean          std  \\\n",
       "BALANCE                           951.0  3887.631755  1425.961841   \n",
       "BALANCE_FREQUENCY                 951.0     0.969355     0.101037   \n",
       "PURCHASES                         951.0   509.309464   816.644637   \n",
       "ONEOFF_PURCHASES                  951.0   294.746078   573.679781   \n",
       "INSTALLMENTS_PURCHASES            951.0   214.599895   450.047115   \n",
       "CASH_ADVANCE                      951.0  2536.941817  1752.009698   \n",
       "PURCHASES_FREQUENCY               951.0     0.317309     0.379029   \n",
       "ONEOFF_PURCHASES_FREQUENCY        951.0     0.143412     0.243566   \n",
       "PURCHASES_INSTALLMENTS_FREQUENCY  951.0     0.215614     0.340628   \n",
       "CASH_ADVANCE_FREQUENCY            951.0     0.326393     0.228337   \n",
       "CASH_ADVANCE_TRX                  951.0     8.101998     8.373712   \n",
       "PURCHASES_TRX                     951.0     9.051525    16.871854   \n",
       "CREDIT_LIMIT                      951.0  5937.066246  1719.861045   \n",
       "PAYMENTS                          951.0  1546.584805  1078.389567   \n",
       "MINIMUM_PAYMENTS                  951.0  1679.105028  1886.731199   \n",
       "PRC_FULL_PAYMENT                  951.0     0.007251     0.035608   \n",
       "TENURE                            951.0    11.478444     1.346851   \n",
       "\n",
       "                                          min          25%          50%  \\\n",
       "BALANCE                            166.295463  2827.682830  3803.111606   \n",
       "BALANCE_FREQUENCY                    0.181818     1.000000     1.000000   \n",
       "PURCHASES                            0.000000     0.000000   100.000000   \n",
       "ONEOFF_PURCHASES                     0.000000     0.000000     0.000000   \n",
       "INSTALLMENTS_PURCHASES               0.000000     0.000000     0.000000   \n",
       "CASH_ADVANCE                         0.000000  1159.228494  2462.100789   \n",
       "PURCHASES_FREQUENCY                  0.000000     0.000000     0.083333   \n",
       "ONEOFF_PURCHASES_FREQUENCY           0.000000     0.000000     0.000000   \n",
       "PURCHASES_INSTALLMENTS_FREQUENCY     0.000000     0.000000     0.000000   \n",
       "CASH_ADVANCE_FREQUENCY               0.000000     0.166667     0.285714   \n",
       "CASH_ADVANCE_TRX                     0.000000     3.000000     6.000000   \n",
       "PURCHASES_TRX                        0.000000     0.000000     1.000000   \n",
       "CREDIT_LIMIT                      1800.000000  4500.000000  6000.000000   \n",
       "PAYMENTS                             0.000000   871.451166  1271.396821   \n",
       "MINIMUM_PAYMENTS                   183.275472   830.259184  1220.498390   \n",
       "PRC_FULL_PAYMENT                     0.000000     0.000000     0.000000   \n",
       "TENURE                               6.000000    12.000000    12.000000   \n",
       "\n",
       "                                          75%           max  \n",
       "BALANCE                           4915.744012   7659.191510  \n",
       "BALANCE_FREQUENCY                    1.000000      1.000000  \n",
       "PURCHASES                          710.350000   5544.450000  \n",
       "ONEOFF_PURCHASES                   341.575000   4020.040000  \n",
       "INSTALLMENTS_PURCHASES             228.440000   3607.750000  \n",
       "CASH_ADVANCE                      3630.828859   9579.677222  \n",
       "PURCHASES_FREQUENCY                  0.666667      1.000000  \n",
       "ONEOFF_PURCHASES_FREQUENCY           0.166667      1.000000  \n",
       "PURCHASES_INSTALLMENTS_FREQUENCY     0.416667      1.000000  \n",
       "CASH_ADVANCE_FREQUENCY               0.454545      1.500000  \n",
       "CASH_ADVANCE_TRX                    11.000000    123.000000  \n",
       "PURCHASES_TRX                       12.000000    195.000000  \n",
       "CREDIT_LIMIT                      7000.000000  10500.000000  \n",
       "PAYMENTS                          1864.571401   6344.618447  \n",
       "MINIMUM_PAYMENTS                  1816.574220  14437.122090  \n",
       "PRC_FULL_PAYMENT                     0.000000      0.600000  \n",
       "TENURE                              12.000000     12.000000  "
      ]
     },
     "execution_count": 60,
     "metadata": {},
     "output_type": "execute_result"
    }
   ],
   "source": [
    "data.iloc[labels_x[1].index,:].describe().T"
   ]
  },
  {
   "cell_type": "code",
   "execution_count": 50,
   "metadata": {},
   "outputs": [],
   "source": [
    "cluster1_data=data.iloc[labels_x[1].index,:]"
   ]
  },
  {
   "cell_type": "code",
   "execution_count": 61,
   "metadata": {},
   "outputs": [
    {
     "data": {
      "text/plain": [
       "<matplotlib.axes._subplots.AxesSubplot at 0x183aaacd390>"
      ]
     },
     "execution_count": 61,
     "metadata": {},
     "output_type": "execute_result"
    },
    {
     "data": {
      "image/png": "[encoded data removed]",
      "text/plain": [
       "<Figure size 432x288 with 1 Axes>"
      ]
     },
     "metadata": {
      "needs_background": "light"
     },
     "output_type": "display_data"
    }
   ],
   "source": [
    "sns.boxplot(cluster1_data['BALANCE'])"
   ]
  },
  {
   "cell_type": "code",
   "execution_count": 86,
   "metadata": {},
   "outputs": [
    {
     "data": {
      "text/plain": [
       "<matplotlib.axes._subplots.AxesSubplot at 0x183addcd710>"
      ]
     },
     "execution_count": 86,
     "metadata": {},
     "output_type": "execute_result"
    },
    {
     "data": {
      "image/png": "[encoded data removed]",
      "text/plain": [
       "<Figure size 432x288 with 1 Axes>"
      ]
     },
     "metadata": {
      "needs_background": "light"
     },
     "output_type": "display_data"
    }
   ],
   "source": [
    "sns.boxplot(cluster1_data['PURCHASES'])"
   ]
  },
  {
   "cell_type": "code",
   "execution_count": 87,
   "metadata": {},
   "outputs": [
    {
     "data": {
      "text/plain": [
       "<matplotlib.axes._subplots.AxesSubplot at 0x183ade1a198>"
      ]
     },
     "execution_count": 87,
     "metadata": {},
     "output_type": "execute_result"
    },
    {
     "data": {
      "image/png": "[encoded data removed]",
      "text/plain": [
       "<Figure size 432x288 with 1 Axes>"
      ]
     },
     "metadata": {
      "needs_background": "light"
     },
     "output_type": "display_data"
    }
   ],
   "source": [
    "sns.boxplot(cluster1_data['PAYMENTS'])"
   ]
  },
  {
   "cell_type": "code",
   "execution_count": 88,
   "metadata": {},
   "outputs": [
    {
     "data": {
      "text/plain": [
       "<matplotlib.axes._subplots.AxesSubplot at 0x183ade741d0>"
      ]
     },
     "execution_count": 88,
     "metadata": {},
     "output_type": "execute_result"
    },
    {
     "data": {
      "image/png": "[encoded data removed]",
      "text/plain": [
       "<Figure size 432x288 with 1 Axes>"
      ]
     },
     "metadata": {
      "needs_background": "light"
     },
     "output_type": "display_data"
    }
   ],
   "source": [
    "sns.boxplot(cluster1_data['CREDIT_LIMIT'])"
   ]
  },
  {
   "cell_type": "code",
   "execution_count": 89,
   "metadata": {},
   "outputs": [
    {
     "data": {
      "text/plain": [
       "<matplotlib.axes._subplots.AxesSubplot at 0x183adedf8d0>"
      ]
     },
     "execution_count": 89,
     "metadata": {},
     "output_type": "execute_result"
    },
    {
     "data": {
      "image/png": "[encoded data removed]",
      "text/plain": [
       "<Figure size 432x288 with 1 Axes>"
      ]
     },
     "metadata": {
      "needs_background": "light"
     },
     "output_type": "display_data"
    }
   ],
   "source": [
    "sns.boxplot(cluster1_data['ONEOFF_PURCHASES'])"
   ]
  },
  {
   "cell_type": "code",
   "execution_count": 90,
   "metadata": {},
   "outputs": [
    {
     "data": {
      "text/plain": [
       "<matplotlib.axes._subplots.AxesSubplot at 0x183adf2d4a8>"
      ]
     },
     "execution_count": 90,
     "metadata": {},
     "output_type": "execute_result"
    },
    {
     "data": {
      "image/png": "[encoded data removed]",
      "text/plain": [
       "<Figure size 432x288 with 1 Axes>"
      ]
     },
     "metadata": {
      "needs_background": "light"
     },
     "output_type": "display_data"
    }
   ],
   "source": [
    "sns.boxplot(cluster1_data['INSTALLMENTS_PURCHASES'])"
   ]
  },
  {
   "cell_type": "code",
   "execution_count": 91,
   "metadata": {},
   "outputs": [
    {
     "data": {
      "text/plain": [
       "<matplotlib.axes._subplots.AxesSubplot at 0x183adf69cf8>"
      ]
     },
     "execution_count": 91,
     "metadata": {},
     "output_type": "execute_result"
    },
    {
     "data": {
      "image/png": "[encoded data removed]",
      "text/plain": [
       "<Figure size 432x288 with 1 Axes>"
      ]
     },
     "metadata": {
      "needs_background": "light"
     },
     "output_type": "display_data"
    }
   ],
   "source": [
    "sns.boxplot(cluster1_data['ONEOFF_PURCHASES_FREQUENCY'])"
   ]
  },
  {
   "cell_type": "code",
   "execution_count": null,
   "metadata": {},
   "outputs": [],
   "source": []
  },
  {
   "cell_type": "markdown",
   "metadata": {},
   "source": [
    "#### Cluster 2"
   ]
  },
  {
   "cell_type": "code",
   "execution_count": 61,
   "metadata": {
    "scrolled": true
   },
   "outputs": [
    {
     "data": {
      "text/html": [
       "<div>\n",
       "<style scoped>\n",
       "    .dataframe tbody tr th:only-of-type {\n",
       "        vertical-align: middle;\n",
       "    }\n",
       "\n",
       "    .dataframe tbody tr th {\n",
       "        vertical-align: top;\n",
       "    }\n",
       "\n",
       "    .dataframe thead th {\n",
       "        text-align: right;\n",
       "    }\n",
       "</style>\n",
       "<table border=\"1\" class=\"dataframe\">\n",
       "  <thead>\n",
       "    <tr style=\"text-align: right;\">\n",
       "      <th></th>\n",
       "      <th>count</th>\n",
       "      <th>mean</th>\n",
       "      <th>std</th>\n",
       "      <th>min</th>\n",
       "      <th>25%</th>\n",
       "      <th>50%</th>\n",
       "      <th>75%</th>\n",
       "      <th>max</th>\n",
       "    </tr>\n",
       "  </thead>\n",
       "  <tbody>\n",
       "    <tr>\n",
       "      <th>BALANCE</th>\n",
       "      <td>1642.0</td>\n",
       "      <td>758.330253</td>\n",
       "      <td>875.689359</td>\n",
       "      <td>0.000000</td>\n",
       "      <td>87.467286</td>\n",
       "      <td>343.994902</td>\n",
       "      <td>1257.568182</td>\n",
       "      <td>4338.558856</td>\n",
       "    </tr>\n",
       "    <tr>\n",
       "      <th>BALANCE_FREQUENCY</th>\n",
       "      <td>1642.0</td>\n",
       "      <td>0.869811</td>\n",
       "      <td>0.239755</td>\n",
       "      <td>0.000000</td>\n",
       "      <td>0.818182</td>\n",
       "      <td>1.000000</td>\n",
       "      <td>1.000000</td>\n",
       "      <td>1.000000</td>\n",
       "    </tr>\n",
       "    <tr>\n",
       "      <th>PURCHASES</th>\n",
       "      <td>1642.0</td>\n",
       "      <td>1344.690067</td>\n",
       "      <td>1241.509974</td>\n",
       "      <td>0.000000</td>\n",
       "      <td>327.980000</td>\n",
       "      <td>994.790000</td>\n",
       "      <td>2105.205000</td>\n",
       "      <td>5677.760000</td>\n",
       "    </tr>\n",
       "    <tr>\n",
       "      <th>ONEOFF_PURCHASES</th>\n",
       "      <td>1642.0</td>\n",
       "      <td>776.680024</td>\n",
       "      <td>941.475271</td>\n",
       "      <td>0.000000</td>\n",
       "      <td>0.000000</td>\n",
       "      <td>419.920000</td>\n",
       "      <td>1186.390000</td>\n",
       "      <td>4768.270000</td>\n",
       "    </tr>\n",
       "    <tr>\n",
       "      <th>INSTALLMENTS_PURCHASES</th>\n",
       "      <td>1642.0</td>\n",
       "      <td>568.511644</td>\n",
       "      <td>758.431749</td>\n",
       "      <td>0.000000</td>\n",
       "      <td>0.000000</td>\n",
       "      <td>273.120000</td>\n",
       "      <td>856.980000</td>\n",
       "      <td>4538.840000</td>\n",
       "    </tr>\n",
       "    <tr>\n",
       "      <th>CASH_ADVANCE</th>\n",
       "      <td>1642.0</td>\n",
       "      <td>177.121024</td>\n",
       "      <td>487.771174</td>\n",
       "      <td>0.000000</td>\n",
       "      <td>0.000000</td>\n",
       "      <td>0.000000</td>\n",
       "      <td>0.000000</td>\n",
       "      <td>3689.517625</td>\n",
       "    </tr>\n",
       "    <tr>\n",
       "      <th>PURCHASES_FREQUENCY</th>\n",
       "      <td>1642.0</td>\n",
       "      <td>0.650346</td>\n",
       "      <td>0.359896</td>\n",
       "      <td>0.000000</td>\n",
       "      <td>0.333333</td>\n",
       "      <td>0.750000</td>\n",
       "      <td>1.000000</td>\n",
       "      <td>1.000000</td>\n",
       "    </tr>\n",
       "    <tr>\n",
       "      <th>ONEOFF_PURCHASES_FREQUENCY</th>\n",
       "      <td>1642.0</td>\n",
       "      <td>0.340959</td>\n",
       "      <td>0.349043</td>\n",
       "      <td>0.000000</td>\n",
       "      <td>0.000000</td>\n",
       "      <td>0.166667</td>\n",
       "      <td>0.583333</td>\n",
       "      <td>1.000000</td>\n",
       "    </tr>\n",
       "    <tr>\n",
       "      <th>PURCHASES_INSTALLMENTS_FREQUENCY</th>\n",
       "      <td>1642.0</td>\n",
       "      <td>0.461503</td>\n",
       "      <td>0.400887</td>\n",
       "      <td>0.000000</td>\n",
       "      <td>0.000000</td>\n",
       "      <td>0.416667</td>\n",
       "      <td>0.916667</td>\n",
       "      <td>1.000000</td>\n",
       "    </tr>\n",
       "    <tr>\n",
       "      <th>CASH_ADVANCE_FREQUENCY</th>\n",
       "      <td>1642.0</td>\n",
       "      <td>0.042900</td>\n",
       "      <td>0.107708</td>\n",
       "      <td>0.000000</td>\n",
       "      <td>0.000000</td>\n",
       "      <td>0.000000</td>\n",
       "      <td>0.000000</td>\n",
       "      <td>0.833333</td>\n",
       "    </tr>\n",
       "    <tr>\n",
       "      <th>CASH_ADVANCE_TRX</th>\n",
       "      <td>1642.0</td>\n",
       "      <td>0.805725</td>\n",
       "      <td>2.557924</td>\n",
       "      <td>0.000000</td>\n",
       "      <td>0.000000</td>\n",
       "      <td>0.000000</td>\n",
       "      <td>0.000000</td>\n",
       "      <td>44.000000</td>\n",
       "    </tr>\n",
       "    <tr>\n",
       "      <th>PURCHASES_TRX</th>\n",
       "      <td>1642.0</td>\n",
       "      <td>20.661389</td>\n",
       "      <td>23.320224</td>\n",
       "      <td>0.000000</td>\n",
       "      <td>5.000000</td>\n",
       "      <td>13.000000</td>\n",
       "      <td>28.000000</td>\n",
       "      <td>232.000000</td>\n",
       "    </tr>\n",
       "    <tr>\n",
       "      <th>CREDIT_LIMIT</th>\n",
       "      <td>1642.0</td>\n",
       "      <td>6040.826044</td>\n",
       "      <td>1446.299090</td>\n",
       "      <td>2300.000000</td>\n",
       "      <td>5000.000000</td>\n",
       "      <td>6000.000000</td>\n",
       "      <td>7000.000000</td>\n",
       "      <td>9100.000000</td>\n",
       "    </tr>\n",
       "    <tr>\n",
       "      <th>PAYMENTS</th>\n",
       "      <td>1642.0</td>\n",
       "      <td>1532.787960</td>\n",
       "      <td>1324.608729</td>\n",
       "      <td>0.000000</td>\n",
       "      <td>536.038678</td>\n",
       "      <td>1106.748780</td>\n",
       "      <td>2223.763404</td>\n",
       "      <td>7364.974854</td>\n",
       "    </tr>\n",
       "    <tr>\n",
       "      <th>MINIMUM_PAYMENTS</th>\n",
       "      <td>1642.0</td>\n",
       "      <td>325.288264</td>\n",
       "      <td>422.534570</td>\n",
       "      <td>0.117036</td>\n",
       "      <td>158.664817</td>\n",
       "      <td>194.981219</td>\n",
       "      <td>361.180878</td>\n",
       "      <td>5583.630482</td>\n",
       "    </tr>\n",
       "    <tr>\n",
       "      <th>PRC_FULL_PAYMENT</th>\n",
       "      <td>1642.0</td>\n",
       "      <td>0.247530</td>\n",
       "      <td>0.348537</td>\n",
       "      <td>0.000000</td>\n",
       "      <td>0.000000</td>\n",
       "      <td>0.000000</td>\n",
       "      <td>0.444444</td>\n",
       "      <td>1.000000</td>\n",
       "    </tr>\n",
       "    <tr>\n",
       "      <th>TENURE</th>\n",
       "      <td>1642.0</td>\n",
       "      <td>11.831912</td>\n",
       "      <td>0.744514</td>\n",
       "      <td>6.000000</td>\n",
       "      <td>12.000000</td>\n",
       "      <td>12.000000</td>\n",
       "      <td>12.000000</td>\n",
       "      <td>12.000000</td>\n",
       "    </tr>\n",
       "  </tbody>\n",
       "</table>\n",
       "</div>"
      ],
      "text/plain": [
       "                                   count         mean          std  \\\n",
       "BALANCE                           1642.0   758.330253   875.689359   \n",
       "BALANCE_FREQUENCY                 1642.0     0.869811     0.239755   \n",
       "PURCHASES                         1642.0  1344.690067  1241.509974   \n",
       "ONEOFF_PURCHASES                  1642.0   776.680024   941.475271   \n",
       "INSTALLMENTS_PURCHASES            1642.0   568.511644   758.431749   \n",
       "CASH_ADVANCE                      1642.0   177.121024   487.771174   \n",
       "PURCHASES_FREQUENCY               1642.0     0.650346     0.359896   \n",
       "ONEOFF_PURCHASES_FREQUENCY        1642.0     0.340959     0.349043   \n",
       "PURCHASES_INSTALLMENTS_FREQUENCY  1642.0     0.461503     0.400887   \n",
       "CASH_ADVANCE_FREQUENCY            1642.0     0.042900     0.107708   \n",
       "CASH_ADVANCE_TRX                  1642.0     0.805725     2.557924   \n",
       "PURCHASES_TRX                     1642.0    20.661389    23.320224   \n",
       "CREDIT_LIMIT                      1642.0  6040.826044  1446.299090   \n",
       "PAYMENTS                          1642.0  1532.787960  1324.608729   \n",
       "MINIMUM_PAYMENTS                  1642.0   325.288264   422.534570   \n",
       "PRC_FULL_PAYMENT                  1642.0     0.247530     0.348537   \n",
       "TENURE                            1642.0    11.831912     0.744514   \n",
       "\n",
       "                                          min          25%          50%  \\\n",
       "BALANCE                              0.000000    87.467286   343.994902   \n",
       "BALANCE_FREQUENCY                    0.000000     0.818182     1.000000   \n",
       "PURCHASES                            0.000000   327.980000   994.790000   \n",
       "ONEOFF_PURCHASES                     0.000000     0.000000   419.920000   \n",
       "INSTALLMENTS_PURCHASES               0.000000     0.000000   273.120000   \n",
       "CASH_ADVANCE                         0.000000     0.000000     0.000000   \n",
       "PURCHASES_FREQUENCY                  0.000000     0.333333     0.750000   \n",
       "ONEOFF_PURCHASES_FREQUENCY           0.000000     0.000000     0.166667   \n",
       "PURCHASES_INSTALLMENTS_FREQUENCY     0.000000     0.000000     0.416667   \n",
       "CASH_ADVANCE_FREQUENCY               0.000000     0.000000     0.000000   \n",
       "CASH_ADVANCE_TRX                     0.000000     0.000000     0.000000   \n",
       "PURCHASES_TRX                        0.000000     5.000000    13.000000   \n",
       "CREDIT_LIMIT                      2300.000000  5000.000000  6000.000000   \n",
       "PAYMENTS                             0.000000   536.038678  1106.748780   \n",
       "MINIMUM_PAYMENTS                     0.117036   158.664817   194.981219   \n",
       "PRC_FULL_PAYMENT                     0.000000     0.000000     0.000000   \n",
       "TENURE                               6.000000    12.000000    12.000000   \n",
       "\n",
       "                                          75%          max  \n",
       "BALANCE                           1257.568182  4338.558856  \n",
       "BALANCE_FREQUENCY                    1.000000     1.000000  \n",
       "PURCHASES                         2105.205000  5677.760000  \n",
       "ONEOFF_PURCHASES                  1186.390000  4768.270000  \n",
       "INSTALLMENTS_PURCHASES             856.980000  4538.840000  \n",
       "CASH_ADVANCE                         0.000000  3689.517625  \n",
       "PURCHASES_FREQUENCY                  1.000000     1.000000  \n",
       "ONEOFF_PURCHASES_FREQUENCY           0.583333     1.000000  \n",
       "PURCHASES_INSTALLMENTS_FREQUENCY     0.916667     1.000000  \n",
       "CASH_ADVANCE_FREQUENCY               0.000000     0.833333  \n",
       "CASH_ADVANCE_TRX                     0.000000    44.000000  \n",
       "PURCHASES_TRX                       28.000000   232.000000  \n",
       "CREDIT_LIMIT                      7000.000000  9100.000000  \n",
       "PAYMENTS                          2223.763404  7364.974854  \n",
       "MINIMUM_PAYMENTS                   361.180878  5583.630482  \n",
       "PRC_FULL_PAYMENT                     0.444444     1.000000  \n",
       "TENURE                              12.000000    12.000000  "
      ]
     },
     "execution_count": 61,
     "metadata": {},
     "output_type": "execute_result"
    }
   ],
   "source": [
    "data.iloc[labels_x[2].index,:].describe().T"
   ]
  },
  {
   "cell_type": "code",
   "execution_count": 51,
   "metadata": {},
   "outputs": [],
   "source": [
    "cluster2_data=data.iloc[labels_x[2].index,:]"
   ]
  },
  {
   "cell_type": "code",
   "execution_count": 63,
   "metadata": {},
   "outputs": [
    {
     "data": {
      "text/plain": [
       "<matplotlib.axes._subplots.AxesSubplot at 0x183ac696a58>"
      ]
     },
     "execution_count": 63,
     "metadata": {},
     "output_type": "execute_result"
    },
    {
     "data": {
      "image/png": "[encoded data removed]",
      "text/plain": [
       "<Figure size 432x288 with 1 Axes>"
      ]
     },
     "metadata": {
      "needs_background": "light"
     },
     "output_type": "display_data"
    }
   ],
   "source": [
    "sns.boxplot(cluster2_data['BALANCE'])"
   ]
  },
  {
   "cell_type": "code",
   "execution_count": 92,
   "metadata": {},
   "outputs": [
    {
     "data": {
      "text/plain": [
       "<matplotlib.axes._subplots.AxesSubplot at 0x183adfdeb70>"
      ]
     },
     "execution_count": 92,
     "metadata": {},
     "output_type": "execute_result"
    },
    {
     "data": {
      "image/png": "[encoded data removed]",
      "text/plain": [
       "<Figure size 432x288 with 1 Axes>"
      ]
     },
     "metadata": {
      "needs_background": "light"
     },
     "output_type": "display_data"
    }
   ],
   "source": [
    "sns.boxplot(cluster2_data['PURCHASES'])"
   ]
  },
  {
   "cell_type": "code",
   "execution_count": 93,
   "metadata": {},
   "outputs": [
    {
     "data": {
      "text/plain": [
       "<matplotlib.axes._subplots.AxesSubplot at 0x183ae029470>"
      ]
     },
     "execution_count": 93,
     "metadata": {},
     "output_type": "execute_result"
    },
    {
     "data": {
      "image/png": "[encoded data removed]",
      "text/plain": [
       "<Figure size 432x288 with 1 Axes>"
      ]
     },
     "metadata": {
      "needs_background": "light"
     },
     "output_type": "display_data"
    }
   ],
   "source": [
    "sns.boxplot(cluster2_data['PAYMENTS'])"
   ]
  },
  {
   "cell_type": "code",
   "execution_count": 95,
   "metadata": {},
   "outputs": [
    {
     "data": {
      "text/plain": [
       "<matplotlib.axes._subplots.AxesSubplot at 0x183ae0c7da0>"
      ]
     },
     "execution_count": 95,
     "metadata": {},
     "output_type": "execute_result"
    },
    {
     "data": {
      "image/png": "[encoded data removed]",
      "text/plain": [
       "<Figure size 432x288 with 1 Axes>"
      ]
     },
     "metadata": {
      "needs_background": "light"
     },
     "output_type": "display_data"
    }
   ],
   "source": [
    "sns.boxplot(cluster2_data['CREDIT_LIMIT'])"
   ]
  },
  {
   "cell_type": "code",
   "execution_count": 96,
   "metadata": {},
   "outputs": [
    {
     "data": {
      "text/plain": [
       "<matplotlib.axes._subplots.AxesSubplot at 0x183ae117358>"
      ]
     },
     "execution_count": 96,
     "metadata": {},
     "output_type": "execute_result"
    },
    {
     "data": {
      "image/png": "[encoded data removed]",
      "text/plain": [
       "<Figure size 432x288 with 1 Axes>"
      ]
     },
     "metadata": {
      "needs_background": "light"
     },
     "output_type": "display_data"
    }
   ],
   "source": [
    "sns.boxplot(cluster2_data['ONEOFF_PURCHASES'])"
   ]
  },
  {
   "cell_type": "code",
   "execution_count": 99,
   "metadata": {},
   "outputs": [
    {
     "data": {
      "text/plain": [
       "<matplotlib.axes._subplots.AxesSubplot at 0x183ae234b70>"
      ]
     },
     "execution_count": 99,
     "metadata": {},
     "output_type": "execute_result"
    },
    {
     "data": {
      "image/png": "[encoded data removed]",
      "text/plain": [
       "<Figure size 432x288 with 1 Axes>"
      ]
     },
     "metadata": {
      "needs_background": "light"
     },
     "output_type": "display_data"
    }
   ],
   "source": [
    "sns.boxplot(cluster2_data['INSTALLMENTS_PURCHASES'])"
   ]
  },
  {
   "cell_type": "code",
   "execution_count": 100,
   "metadata": {},
   "outputs": [
    {
     "data": {
      "text/plain": [
       "<matplotlib.axes._subplots.AxesSubplot at 0x183ae291cf8>"
      ]
     },
     "execution_count": 100,
     "metadata": {},
     "output_type": "execute_result"
    },
    {
     "data": {
      "image/png": "[encoded data removed]",
      "text/plain": [
       "<Figure size 432x288 with 1 Axes>"
      ]
     },
     "metadata": {
      "needs_background": "light"
     },
     "output_type": "display_data"
    }
   ],
   "source": [
    "sns.boxplot(cluster2_data['ONEOFF_PURCHASES_FREQUENCY'])"
   ]
  },
  {
   "cell_type": "markdown",
   "metadata": {},
   "source": [
    "#### Cluster 3"
   ]
  },
  {
   "cell_type": "code",
   "execution_count": 62,
   "metadata": {
    "scrolled": true
   },
   "outputs": [
    {
     "data": {
      "text/html": [
       "<div>\n",
       "<style scoped>\n",
       "    .dataframe tbody tr th:only-of-type {\n",
       "        vertical-align: middle;\n",
       "    }\n",
       "\n",
       "    .dataframe tbody tr th {\n",
       "        vertical-align: top;\n",
       "    }\n",
       "\n",
       "    .dataframe thead th {\n",
       "        text-align: right;\n",
       "    }\n",
       "</style>\n",
       "<table border=\"1\" class=\"dataframe\">\n",
       "  <thead>\n",
       "    <tr style=\"text-align: right;\">\n",
       "      <th></th>\n",
       "      <th>count</th>\n",
       "      <th>mean</th>\n",
       "      <th>std</th>\n",
       "      <th>min</th>\n",
       "      <th>25%</th>\n",
       "      <th>50%</th>\n",
       "      <th>75%</th>\n",
       "      <th>max</th>\n",
       "    </tr>\n",
       "  </thead>\n",
       "  <tbody>\n",
       "    <tr>\n",
       "      <th>BALANCE</th>\n",
       "      <td>37.0</td>\n",
       "      <td>4438.237601</td>\n",
       "      <td>2584.047129</td>\n",
       "      <td>1418.254924</td>\n",
       "      <td>2431.019916</td>\n",
       "      <td>3517.101616</td>\n",
       "      <td>6022.224462</td>\n",
       "      <td>11209.370760</td>\n",
       "    </tr>\n",
       "    <tr>\n",
       "      <th>BALANCE_FREQUENCY</th>\n",
       "      <td>37.0</td>\n",
       "      <td>0.985258</td>\n",
       "      <td>0.054686</td>\n",
       "      <td>0.727273</td>\n",
       "      <td>1.000000</td>\n",
       "      <td>1.000000</td>\n",
       "      <td>1.000000</td>\n",
       "      <td>1.000000</td>\n",
       "    </tr>\n",
       "    <tr>\n",
       "      <th>PURCHASES</th>\n",
       "      <td>37.0</td>\n",
       "      <td>1194.728378</td>\n",
       "      <td>2241.094921</td>\n",
       "      <td>0.000000</td>\n",
       "      <td>29.290000</td>\n",
       "      <td>419.640000</td>\n",
       "      <td>966.600000</td>\n",
       "      <td>11147.330000</td>\n",
       "    </tr>\n",
       "    <tr>\n",
       "      <th>ONEOFF_PURCHASES</th>\n",
       "      <td>37.0</td>\n",
       "      <td>172.967838</td>\n",
       "      <td>464.127557</td>\n",
       "      <td>0.000000</td>\n",
       "      <td>0.000000</td>\n",
       "      <td>0.000000</td>\n",
       "      <td>45.650000</td>\n",
       "      <td>2463.000000</td>\n",
       "    </tr>\n",
       "    <tr>\n",
       "      <th>INSTALLMENTS_PURCHASES</th>\n",
       "      <td>37.0</td>\n",
       "      <td>1021.760541</td>\n",
       "      <td>2104.859422</td>\n",
       "      <td>0.000000</td>\n",
       "      <td>0.000000</td>\n",
       "      <td>305.780000</td>\n",
       "      <td>912.540000</td>\n",
       "      <td>10009.930000</td>\n",
       "    </tr>\n",
       "    <tr>\n",
       "      <th>CASH_ADVANCE</th>\n",
       "      <td>37.0</td>\n",
       "      <td>1024.245606</td>\n",
       "      <td>2084.615326</td>\n",
       "      <td>0.000000</td>\n",
       "      <td>0.000000</td>\n",
       "      <td>0.000000</td>\n",
       "      <td>797.158950</td>\n",
       "      <td>10616.270140</td>\n",
       "    </tr>\n",
       "    <tr>\n",
       "      <th>PURCHASES_FREQUENCY</th>\n",
       "      <td>37.0</td>\n",
       "      <td>0.512899</td>\n",
       "      <td>0.447789</td>\n",
       "      <td>0.000000</td>\n",
       "      <td>0.083333</td>\n",
       "      <td>0.583333</td>\n",
       "      <td>1.000000</td>\n",
       "      <td>1.000000</td>\n",
       "    </tr>\n",
       "    <tr>\n",
       "      <th>ONEOFF_PURCHASES_FREQUENCY</th>\n",
       "      <td>37.0</td>\n",
       "      <td>0.050368</td>\n",
       "      <td>0.083337</td>\n",
       "      <td>0.000000</td>\n",
       "      <td>0.000000</td>\n",
       "      <td>0.000000</td>\n",
       "      <td>0.083333</td>\n",
       "      <td>0.333333</td>\n",
       "    </tr>\n",
       "    <tr>\n",
       "      <th>PURCHASES_INSTALLMENTS_FREQUENCY</th>\n",
       "      <td>37.0</td>\n",
       "      <td>0.483006</td>\n",
       "      <td>0.470322</td>\n",
       "      <td>0.000000</td>\n",
       "      <td>0.000000</td>\n",
       "      <td>0.583333</td>\n",
       "      <td>1.000000</td>\n",
       "      <td>1.000000</td>\n",
       "    </tr>\n",
       "    <tr>\n",
       "      <th>CASH_ADVANCE_FREQUENCY</th>\n",
       "      <td>37.0</td>\n",
       "      <td>0.086814</td>\n",
       "      <td>0.109049</td>\n",
       "      <td>0.000000</td>\n",
       "      <td>0.000000</td>\n",
       "      <td>0.000000</td>\n",
       "      <td>0.166667</td>\n",
       "      <td>0.363636</td>\n",
       "    </tr>\n",
       "    <tr>\n",
       "      <th>CASH_ADVANCE_TRX</th>\n",
       "      <td>37.0</td>\n",
       "      <td>2.972973</td>\n",
       "      <td>4.506085</td>\n",
       "      <td>0.000000</td>\n",
       "      <td>0.000000</td>\n",
       "      <td>0.000000</td>\n",
       "      <td>4.000000</td>\n",
       "      <td>17.000000</td>\n",
       "    </tr>\n",
       "    <tr>\n",
       "      <th>PURCHASES_TRX</th>\n",
       "      <td>37.0</td>\n",
       "      <td>23.027027</td>\n",
       "      <td>36.361218</td>\n",
       "      <td>0.000000</td>\n",
       "      <td>1.000000</td>\n",
       "      <td>12.000000</td>\n",
       "      <td>21.000000</td>\n",
       "      <td>162.000000</td>\n",
       "    </tr>\n",
       "    <tr>\n",
       "      <th>CREDIT_LIMIT</th>\n",
       "      <td>37.0</td>\n",
       "      <td>4652.702703</td>\n",
       "      <td>3005.549172</td>\n",
       "      <td>1000.000000</td>\n",
       "      <td>2100.000000</td>\n",
       "      <td>4000.000000</td>\n",
       "      <td>7500.000000</td>\n",
       "      <td>11000.000000</td>\n",
       "    </tr>\n",
       "    <tr>\n",
       "      <th>PAYMENTS</th>\n",
       "      <td>37.0</td>\n",
       "      <td>1534.813466</td>\n",
       "      <td>2225.102126</td>\n",
       "      <td>46.969049</td>\n",
       "      <td>294.153872</td>\n",
       "      <td>518.300462</td>\n",
       "      <td>1497.318035</td>\n",
       "      <td>8735.607835</td>\n",
       "    </tr>\n",
       "    <tr>\n",
       "      <th>MINIMUM_PAYMENTS</th>\n",
       "      <td>37.0</td>\n",
       "      <td>27711.273916</td>\n",
       "      <td>14069.663668</td>\n",
       "      <td>15584.097420</td>\n",
       "      <td>17862.558310</td>\n",
       "      <td>24302.098190</td>\n",
       "      <td>29019.802880</td>\n",
       "      <td>76406.207520</td>\n",
       "    </tr>\n",
       "    <tr>\n",
       "      <th>PRC_FULL_PAYMENT</th>\n",
       "      <td>37.0</td>\n",
       "      <td>0.000000</td>\n",
       "      <td>0.000000</td>\n",
       "      <td>0.000000</td>\n",
       "      <td>0.000000</td>\n",
       "      <td>0.000000</td>\n",
       "      <td>0.000000</td>\n",
       "      <td>0.000000</td>\n",
       "    </tr>\n",
       "    <tr>\n",
       "      <th>TENURE</th>\n",
       "      <td>37.0</td>\n",
       "      <td>11.918919</td>\n",
       "      <td>0.276725</td>\n",
       "      <td>11.000000</td>\n",
       "      <td>12.000000</td>\n",
       "      <td>12.000000</td>\n",
       "      <td>12.000000</td>\n",
       "      <td>12.000000</td>\n",
       "    </tr>\n",
       "  </tbody>\n",
       "</table>\n",
       "</div>"
      ],
      "text/plain": [
       "                                  count          mean           std  \\\n",
       "BALANCE                            37.0   4438.237601   2584.047129   \n",
       "BALANCE_FREQUENCY                  37.0      0.985258      0.054686   \n",
       "PURCHASES                          37.0   1194.728378   2241.094921   \n",
       "ONEOFF_PURCHASES                   37.0    172.967838    464.127557   \n",
       "INSTALLMENTS_PURCHASES             37.0   1021.760541   2104.859422   \n",
       "CASH_ADVANCE                       37.0   1024.245606   2084.615326   \n",
       "PURCHASES_FREQUENCY                37.0      0.512899      0.447789   \n",
       "ONEOFF_PURCHASES_FREQUENCY         37.0      0.050368      0.083337   \n",
       "PURCHASES_INSTALLMENTS_FREQUENCY   37.0      0.483006      0.470322   \n",
       "CASH_ADVANCE_FREQUENCY             37.0      0.086814      0.109049   \n",
       "CASH_ADVANCE_TRX                   37.0      2.972973      4.506085   \n",
       "PURCHASES_TRX                      37.0     23.027027     36.361218   \n",
       "CREDIT_LIMIT                       37.0   4652.702703   3005.549172   \n",
       "PAYMENTS                           37.0   1534.813466   2225.102126   \n",
       "MINIMUM_PAYMENTS                   37.0  27711.273916  14069.663668   \n",
       "PRC_FULL_PAYMENT                   37.0      0.000000      0.000000   \n",
       "TENURE                             37.0     11.918919      0.276725   \n",
       "\n",
       "                                           min           25%           50%  \\\n",
       "BALANCE                            1418.254924   2431.019916   3517.101616   \n",
       "BALANCE_FREQUENCY                     0.727273      1.000000      1.000000   \n",
       "PURCHASES                             0.000000     29.290000    419.640000   \n",
       "ONEOFF_PURCHASES                      0.000000      0.000000      0.000000   \n",
       "INSTALLMENTS_PURCHASES                0.000000      0.000000    305.780000   \n",
       "CASH_ADVANCE                          0.000000      0.000000      0.000000   \n",
       "PURCHASES_FREQUENCY                   0.000000      0.083333      0.583333   \n",
       "ONEOFF_PURCHASES_FREQUENCY            0.000000      0.000000      0.000000   \n",
       "PURCHASES_INSTALLMENTS_FREQUENCY      0.000000      0.000000      0.583333   \n",
       "CASH_ADVANCE_FREQUENCY                0.000000      0.000000      0.000000   \n",
       "CASH_ADVANCE_TRX                      0.000000      0.000000      0.000000   \n",
       "PURCHASES_TRX                         0.000000      1.000000     12.000000   \n",
       "CREDIT_LIMIT                       1000.000000   2100.000000   4000.000000   \n",
       "PAYMENTS                             46.969049    294.153872    518.300462   \n",
       "MINIMUM_PAYMENTS                  15584.097420  17862.558310  24302.098190   \n",
       "PRC_FULL_PAYMENT                      0.000000      0.000000      0.000000   \n",
       "TENURE                               11.000000     12.000000     12.000000   \n",
       "\n",
       "                                           75%           max  \n",
       "BALANCE                            6022.224462  11209.370760  \n",
       "BALANCE_FREQUENCY                     1.000000      1.000000  \n",
       "PURCHASES                           966.600000  11147.330000  \n",
       "ONEOFF_PURCHASES                     45.650000   2463.000000  \n",
       "INSTALLMENTS_PURCHASES              912.540000  10009.930000  \n",
       "CASH_ADVANCE                        797.158950  10616.270140  \n",
       "PURCHASES_FREQUENCY                   1.000000      1.000000  \n",
       "ONEOFF_PURCHASES_FREQUENCY            0.083333      0.333333  \n",
       "PURCHASES_INSTALLMENTS_FREQUENCY      1.000000      1.000000  \n",
       "CASH_ADVANCE_FREQUENCY                0.166667      0.363636  \n",
       "CASH_ADVANCE_TRX                      4.000000     17.000000  \n",
       "PURCHASES_TRX                        21.000000    162.000000  \n",
       "CREDIT_LIMIT                       7500.000000  11000.000000  \n",
       "PAYMENTS                           1497.318035   8735.607835  \n",
       "MINIMUM_PAYMENTS                  29019.802880  76406.207520  \n",
       "PRC_FULL_PAYMENT                      0.000000      0.000000  \n",
       "TENURE                               12.000000     12.000000  "
      ]
     },
     "execution_count": 62,
     "metadata": {},
     "output_type": "execute_result"
    }
   ],
   "source": [
    "data.iloc[labels_x[3].index,:].describe().T"
   ]
  },
  {
   "cell_type": "code",
   "execution_count": 52,
   "metadata": {},
   "outputs": [],
   "source": [
    "cluster3_data=data.iloc[labels_x[3].index,:]"
   ]
  },
  {
   "cell_type": "code",
   "execution_count": 64,
   "metadata": {},
   "outputs": [
    {
     "data": {
      "text/plain": [
       "<matplotlib.axes._subplots.AxesSubplot at 0x183ac6b3f98>"
      ]
     },
     "execution_count": 64,
     "metadata": {},
     "output_type": "execute_result"
    },
    {
     "data": {
      "image/png": "[encoded data removed]",
      "text/plain": [
       "<Figure size 432x288 with 1 Axes>"
      ]
     },
     "metadata": {
      "needs_background": "light"
     },
     "output_type": "display_data"
    }
   ],
   "source": [
    "sns.boxplot(cluster3_data['BALANCE'])"
   ]
  },
  {
   "cell_type": "code",
   "execution_count": 101,
   "metadata": {},
   "outputs": [
    {
     "data": {
      "text/plain": [
       "<matplotlib.axes._subplots.AxesSubplot at 0x183ae2d5160>"
      ]
     },
     "execution_count": 101,
     "metadata": {},
     "output_type": "execute_result"
    },
    {
     "data": {
      "image/png": "[encoded data removed]",
      "text/plain": [
       "<Figure size 432x288 with 1 Axes>"
      ]
     },
     "metadata": {
      "needs_background": "light"
     },
     "output_type": "display_data"
    }
   ],
   "source": [
    "sns.boxplot(cluster3_data['PURCHASES'])"
   ]
  },
  {
   "cell_type": "code",
   "execution_count": 102,
   "metadata": {},
   "outputs": [
    {
     "data": {
      "text/plain": [
       "<matplotlib.axes._subplots.AxesSubplot at 0x183ae22ac18>"
      ]
     },
     "execution_count": 102,
     "metadata": {},
     "output_type": "execute_result"
    },
    {
     "data": {
      "image/png": "[encoded data removed]",
      "text/plain": [
       "<Figure size 432x288 with 1 Axes>"
      ]
     },
     "metadata": {
      "needs_background": "light"
     },
     "output_type": "display_data"
    }
   ],
   "source": [
    "sns.boxplot(cluster3_data['PAYMENTS'])"
   ]
  },
  {
   "cell_type": "code",
   "execution_count": 103,
   "metadata": {},
   "outputs": [
    {
     "data": {
      "text/plain": [
       "<matplotlib.axes._subplots.AxesSubplot at 0x183ae385e80>"
      ]
     },
     "execution_count": 103,
     "metadata": {},
     "output_type": "execute_result"
    },
    {
     "data": {
      "image/png": "[encoded data removed]",
      "text/plain": [
       "<Figure size 432x288 with 1 Axes>"
      ]
     },
     "metadata": {
      "needs_background": "light"
     },
     "output_type": "display_data"
    }
   ],
   "source": [
    "sns.boxplot(cluster3_data['CREDIT_LIMIT'])"
   ]
  },
  {
   "cell_type": "code",
   "execution_count": 104,
   "metadata": {},
   "outputs": [
    {
     "data": {
      "text/plain": [
       "<matplotlib.axes._subplots.AxesSubplot at 0x183ae3e2198>"
      ]
     },
     "execution_count": 104,
     "metadata": {},
     "output_type": "execute_result"
    },
    {
     "data": {
      "image/png": "[encoded data removed]",
      "text/plain": [
       "<Figure size 432x288 with 1 Axes>"
      ]
     },
     "metadata": {
      "needs_background": "light"
     },
     "output_type": "display_data"
    }
   ],
   "source": [
    "sns.boxplot(cluster3_data['ONEOFF_PURCHASES'])"
   ]
  },
  {
   "cell_type": "code",
   "execution_count": 105,
   "metadata": {},
   "outputs": [
    {
     "data": {
      "text/plain": [
       "<matplotlib.axes._subplots.AxesSubplot at 0x183ae43b198>"
      ]
     },
     "execution_count": 105,
     "metadata": {},
     "output_type": "execute_result"
    },
    {
     "data": {
      "image/png": "[encoded data removed]",
      "text/plain": [
       "<Figure size 432x288 with 1 Axes>"
      ]
     },
     "metadata": {
      "needs_background": "light"
     },
     "output_type": "display_data"
    }
   ],
   "source": [
    "sns.boxplot(cluster3_data['INSTALLMENTS_PURCHASES'])"
   ]
  },
  {
   "cell_type": "code",
   "execution_count": 106,
   "metadata": {},
   "outputs": [
    {
     "data": {
      "text/plain": [
       "<matplotlib.axes._subplots.AxesSubplot at 0x183ae4a67b8>"
      ]
     },
     "execution_count": 106,
     "metadata": {},
     "output_type": "execute_result"
    },
    {
     "data": {
      "image/png": "[encoded data removed]",
      "text/plain": [
       "<Figure size 432x288 with 1 Axes>"
      ]
     },
     "metadata": {
      "needs_background": "light"
     },
     "output_type": "display_data"
    }
   ],
   "source": [
    "sns.boxplot(cluster3_data['ONEOFF_PURCHASES_FREQUENCY'])"
   ]
  },
  {
   "cell_type": "markdown",
   "metadata": {},
   "source": [
    "#### Cluster 4"
   ]
  },
  {
   "cell_type": "code",
   "execution_count": 63,
   "metadata": {
    "scrolled": true
   },
   "outputs": [
    {
     "data": {
      "text/html": [
       "<div>\n",
       "<style scoped>\n",
       "    .dataframe tbody tr th:only-of-type {\n",
       "        vertical-align: middle;\n",
       "    }\n",
       "\n",
       "    .dataframe tbody tr th {\n",
       "        vertical-align: top;\n",
       "    }\n",
       "\n",
       "    .dataframe thead th {\n",
       "        text-align: right;\n",
       "    }\n",
       "</style>\n",
       "<table border=\"1\" class=\"dataframe\">\n",
       "  <thead>\n",
       "    <tr style=\"text-align: right;\">\n",
       "      <th></th>\n",
       "      <th>count</th>\n",
       "      <th>mean</th>\n",
       "      <th>std</th>\n",
       "      <th>min</th>\n",
       "      <th>25%</th>\n",
       "      <th>50%</th>\n",
       "      <th>75%</th>\n",
       "      <th>max</th>\n",
       "    </tr>\n",
       "  </thead>\n",
       "  <tbody>\n",
       "    <tr>\n",
       "      <th>BALANCE</th>\n",
       "      <td>60.0</td>\n",
       "      <td>5525.119296</td>\n",
       "      <td>3929.256157</td>\n",
       "      <td>4.382924</td>\n",
       "      <td>1873.515900</td>\n",
       "      <td>5483.528191</td>\n",
       "      <td>7985.978912</td>\n",
       "      <td>14581.45914</td>\n",
       "    </tr>\n",
       "    <tr>\n",
       "      <th>BALANCE_FREQUENCY</th>\n",
       "      <td>60.0</td>\n",
       "      <td>0.830592</td>\n",
       "      <td>0.278059</td>\n",
       "      <td>0.090909</td>\n",
       "      <td>0.727273</td>\n",
       "      <td>1.000000</td>\n",
       "      <td>1.000000</td>\n",
       "      <td>1.00000</td>\n",
       "    </tr>\n",
       "    <tr>\n",
       "      <th>PURCHASES</th>\n",
       "      <td>60.0</td>\n",
       "      <td>1960.952833</td>\n",
       "      <td>2926.571820</td>\n",
       "      <td>0.000000</td>\n",
       "      <td>0.000000</td>\n",
       "      <td>421.085000</td>\n",
       "      <td>3217.790000</td>\n",
       "      <td>12551.95000</td>\n",
       "    </tr>\n",
       "    <tr>\n",
       "      <th>ONEOFF_PURCHASES</th>\n",
       "      <td>60.0</td>\n",
       "      <td>1204.487667</td>\n",
       "      <td>2086.973601</td>\n",
       "      <td>0.000000</td>\n",
       "      <td>0.000000</td>\n",
       "      <td>22.355000</td>\n",
       "      <td>1713.112500</td>\n",
       "      <td>10901.24000</td>\n",
       "    </tr>\n",
       "    <tr>\n",
       "      <th>INSTALLMENTS_PURCHASES</th>\n",
       "      <td>60.0</td>\n",
       "      <td>756.831833</td>\n",
       "      <td>1395.028236</td>\n",
       "      <td>0.000000</td>\n",
       "      <td>0.000000</td>\n",
       "      <td>19.675000</td>\n",
       "      <td>1129.562500</td>\n",
       "      <td>8409.93000</td>\n",
       "    </tr>\n",
       "    <tr>\n",
       "      <th>CASH_ADVANCE</th>\n",
       "      <td>60.0</td>\n",
       "      <td>12463.291808</td>\n",
       "      <td>8742.392088</td>\n",
       "      <td>0.000000</td>\n",
       "      <td>6048.492402</td>\n",
       "      <td>11738.614070</td>\n",
       "      <td>16488.193515</td>\n",
       "      <td>47137.21176</td>\n",
       "    </tr>\n",
       "    <tr>\n",
       "      <th>PURCHASES_FREQUENCY</th>\n",
       "      <td>60.0</td>\n",
       "      <td>0.437374</td>\n",
       "      <td>0.440987</td>\n",
       "      <td>0.000000</td>\n",
       "      <td>0.000000</td>\n",
       "      <td>0.250000</td>\n",
       "      <td>1.000000</td>\n",
       "      <td>1.00000</td>\n",
       "    </tr>\n",
       "    <tr>\n",
       "      <th>ONEOFF_PURCHASES_FREQUENCY</th>\n",
       "      <td>60.0</td>\n",
       "      <td>0.249675</td>\n",
       "      <td>0.348090</td>\n",
       "      <td>0.000000</td>\n",
       "      <td>0.000000</td>\n",
       "      <td>0.041667</td>\n",
       "      <td>0.500000</td>\n",
       "      <td>1.00000</td>\n",
       "    </tr>\n",
       "    <tr>\n",
       "      <th>PURCHASES_INSTALLMENTS_FREQUENCY</th>\n",
       "      <td>60.0</td>\n",
       "      <td>0.355447</td>\n",
       "      <td>0.415749</td>\n",
       "      <td>0.000000</td>\n",
       "      <td>0.000000</td>\n",
       "      <td>0.125000</td>\n",
       "      <td>0.714286</td>\n",
       "      <td>1.00000</td>\n",
       "    </tr>\n",
       "    <tr>\n",
       "      <th>CASH_ADVANCE_FREQUENCY</th>\n",
       "      <td>60.0</td>\n",
       "      <td>0.472024</td>\n",
       "      <td>0.304170</td>\n",
       "      <td>0.000000</td>\n",
       "      <td>0.229167</td>\n",
       "      <td>0.416667</td>\n",
       "      <td>0.770833</td>\n",
       "      <td>1.00000</td>\n",
       "    </tr>\n",
       "    <tr>\n",
       "      <th>CASH_ADVANCE_TRX</th>\n",
       "      <td>60.0</td>\n",
       "      <td>19.683333</td>\n",
       "      <td>21.082961</td>\n",
       "      <td>0.000000</td>\n",
       "      <td>5.500000</td>\n",
       "      <td>14.000000</td>\n",
       "      <td>26.000000</td>\n",
       "      <td>123.00000</td>\n",
       "    </tr>\n",
       "    <tr>\n",
       "      <th>PURCHASES_TRX</th>\n",
       "      <td>60.0</td>\n",
       "      <td>24.500000</td>\n",
       "      <td>47.550330</td>\n",
       "      <td>0.000000</td>\n",
       "      <td>0.000000</td>\n",
       "      <td>5.000000</td>\n",
       "      <td>31.000000</td>\n",
       "      <td>308.00000</td>\n",
       "    </tr>\n",
       "    <tr>\n",
       "      <th>CREDIT_LIMIT</th>\n",
       "      <td>60.0</td>\n",
       "      <td>12241.666667</td>\n",
       "      <td>3982.176037</td>\n",
       "      <td>2500.000000</td>\n",
       "      <td>10000.000000</td>\n",
       "      <td>12000.000000</td>\n",
       "      <td>15125.000000</td>\n",
       "      <td>21000.00000</td>\n",
       "    </tr>\n",
       "    <tr>\n",
       "      <th>PAYMENTS</th>\n",
       "      <td>60.0</td>\n",
       "      <td>20009.645605</td>\n",
       "      <td>6883.657842</td>\n",
       "      <td>10664.658660</td>\n",
       "      <td>14903.115170</td>\n",
       "      <td>19690.194125</td>\n",
       "      <td>22145.033705</td>\n",
       "      <td>40627.59524</td>\n",
       "    </tr>\n",
       "    <tr>\n",
       "      <th>MINIMUM_PAYMENTS</th>\n",
       "      <td>60.0</td>\n",
       "      <td>2360.775803</td>\n",
       "      <td>3183.446228</td>\n",
       "      <td>19.492021</td>\n",
       "      <td>794.137022</td>\n",
       "      <td>1552.967621</td>\n",
       "      <td>2524.400596</td>\n",
       "      <td>21235.06530</td>\n",
       "    </tr>\n",
       "    <tr>\n",
       "      <th>PRC_FULL_PAYMENT</th>\n",
       "      <td>60.0</td>\n",
       "      <td>0.186839</td>\n",
       "      <td>0.227194</td>\n",
       "      <td>0.000000</td>\n",
       "      <td>0.000000</td>\n",
       "      <td>0.090909</td>\n",
       "      <td>0.250000</td>\n",
       "      <td>1.00000</td>\n",
       "    </tr>\n",
       "    <tr>\n",
       "      <th>TENURE</th>\n",
       "      <td>60.0</td>\n",
       "      <td>11.683333</td>\n",
       "      <td>1.185958</td>\n",
       "      <td>6.000000</td>\n",
       "      <td>12.000000</td>\n",
       "      <td>12.000000</td>\n",
       "      <td>12.000000</td>\n",
       "      <td>12.00000</td>\n",
       "    </tr>\n",
       "  </tbody>\n",
       "</table>\n",
       "</div>"
      ],
      "text/plain": [
       "                                  count          mean          std  \\\n",
       "BALANCE                            60.0   5525.119296  3929.256157   \n",
       "BALANCE_FREQUENCY                  60.0      0.830592     0.278059   \n",
       "PURCHASES                          60.0   1960.952833  2926.571820   \n",
       "ONEOFF_PURCHASES                   60.0   1204.487667  2086.973601   \n",
       "INSTALLMENTS_PURCHASES             60.0    756.831833  1395.028236   \n",
       "CASH_ADVANCE                       60.0  12463.291808  8742.392088   \n",
       "PURCHASES_FREQUENCY                60.0      0.437374     0.440987   \n",
       "ONEOFF_PURCHASES_FREQUENCY         60.0      0.249675     0.348090   \n",
       "PURCHASES_INSTALLMENTS_FREQUENCY   60.0      0.355447     0.415749   \n",
       "CASH_ADVANCE_FREQUENCY             60.0      0.472024     0.304170   \n",
       "CASH_ADVANCE_TRX                   60.0     19.683333    21.082961   \n",
       "PURCHASES_TRX                      60.0     24.500000    47.550330   \n",
       "CREDIT_LIMIT                       60.0  12241.666667  3982.176037   \n",
       "PAYMENTS                           60.0  20009.645605  6883.657842   \n",
       "MINIMUM_PAYMENTS                   60.0   2360.775803  3183.446228   \n",
       "PRC_FULL_PAYMENT                   60.0      0.186839     0.227194   \n",
       "TENURE                             60.0     11.683333     1.185958   \n",
       "\n",
       "                                           min           25%           50%  \\\n",
       "BALANCE                               4.382924   1873.515900   5483.528191   \n",
       "BALANCE_FREQUENCY                     0.090909      0.727273      1.000000   \n",
       "PURCHASES                             0.000000      0.000000    421.085000   \n",
       "ONEOFF_PURCHASES                      0.000000      0.000000     22.355000   \n",
       "INSTALLMENTS_PURCHASES                0.000000      0.000000     19.675000   \n",
       "CASH_ADVANCE                          0.000000   6048.492402  11738.614070   \n",
       "PURCHASES_FREQUENCY                   0.000000      0.000000      0.250000   \n",
       "ONEOFF_PURCHASES_FREQUENCY            0.000000      0.000000      0.041667   \n",
       "PURCHASES_INSTALLMENTS_FREQUENCY      0.000000      0.000000      0.125000   \n",
       "CASH_ADVANCE_FREQUENCY                0.000000      0.229167      0.416667   \n",
       "CASH_ADVANCE_TRX                      0.000000      5.500000     14.000000   \n",
       "PURCHASES_TRX                         0.000000      0.000000      5.000000   \n",
       "CREDIT_LIMIT                       2500.000000  10000.000000  12000.000000   \n",
       "PAYMENTS                          10664.658660  14903.115170  19690.194125   \n",
       "MINIMUM_PAYMENTS                     19.492021    794.137022   1552.967621   \n",
       "PRC_FULL_PAYMENT                      0.000000      0.000000      0.090909   \n",
       "TENURE                                6.000000     12.000000     12.000000   \n",
       "\n",
       "                                           75%          max  \n",
       "BALANCE                            7985.978912  14581.45914  \n",
       "BALANCE_FREQUENCY                     1.000000      1.00000  \n",
       "PURCHASES                          3217.790000  12551.95000  \n",
       "ONEOFF_PURCHASES                   1713.112500  10901.24000  \n",
       "INSTALLMENTS_PURCHASES             1129.562500   8409.93000  \n",
       "CASH_ADVANCE                      16488.193515  47137.21176  \n",
       "PURCHASES_FREQUENCY                   1.000000      1.00000  \n",
       "ONEOFF_PURCHASES_FREQUENCY            0.500000      1.00000  \n",
       "PURCHASES_INSTALLMENTS_FREQUENCY      0.714286      1.00000  \n",
       "CASH_ADVANCE_FREQUENCY                0.770833      1.00000  \n",
       "CASH_ADVANCE_TRX                     26.000000    123.00000  \n",
       "PURCHASES_TRX                        31.000000    308.00000  \n",
       "CREDIT_LIMIT                      15125.000000  21000.00000  \n",
       "PAYMENTS                          22145.033705  40627.59524  \n",
       "MINIMUM_PAYMENTS                   2524.400596  21235.06530  \n",
       "PRC_FULL_PAYMENT                      0.250000      1.00000  \n",
       "TENURE                               12.000000     12.00000  "
      ]
     },
     "execution_count": 63,
     "metadata": {},
     "output_type": "execute_result"
    }
   ],
   "source": [
    "data.iloc[labels_x[4].index,:].describe().T"
   ]
  },
  {
   "cell_type": "code",
   "execution_count": 54,
   "metadata": {},
   "outputs": [],
   "source": [
    "cluster4_data=data.iloc[labels_x[4].index,:]"
   ]
  },
  {
   "cell_type": "code",
   "execution_count": 107,
   "metadata": {},
   "outputs": [
    {
     "data": {
      "text/plain": [
       "<matplotlib.axes._subplots.AxesSubplot at 0x183ae50f0f0>"
      ]
     },
     "execution_count": 107,
     "metadata": {},
     "output_type": "execute_result"
    },
    {
     "data": {
      "image/png": "[encoded data removed]",
      "text/plain": [
       "<Figure size 432x288 with 1 Axes>"
      ]
     },
     "metadata": {
      "needs_background": "light"
     },
     "output_type": "display_data"
    }
   ],
   "source": [
    "sns.boxplot(cluster4_data['BALANCE'])"
   ]
  },
  {
   "cell_type": "code",
   "execution_count": 108,
   "metadata": {},
   "outputs": [
    {
     "data": {
      "text/plain": [
       "<matplotlib.axes._subplots.AxesSubplot at 0x183ae557ac8>"
      ]
     },
     "execution_count": 108,
     "metadata": {},
     "output_type": "execute_result"
    },
    {
     "data": {
      "image/png": "[encoded data removed]",
      "text/plain": [
       "<Figure size 432x288 with 1 Axes>"
      ]
     },
     "metadata": {
      "needs_background": "light"
     },
     "output_type": "display_data"
    }
   ],
   "source": [
    "sns.boxplot(cluster4_data['PURCHASES'])"
   ]
  },
  {
   "cell_type": "code",
   "execution_count": 109,
   "metadata": {},
   "outputs": [
    {
     "data": {
      "text/plain": [
       "<matplotlib.axes._subplots.AxesSubplot at 0x183ae39ca90>"
      ]
     },
     "execution_count": 109,
     "metadata": {},
     "output_type": "execute_result"
    },
    {
     "data": {
      "image/png": "[encoded data removed]",
      "text/plain": [
       "<Figure size 432x288 with 1 Axes>"
      ]
     },
     "metadata": {
      "needs_background": "light"
     },
     "output_type": "display_data"
    }
   ],
   "source": [
    "sns.boxplot(cluster4_data['PAYMENTS'])"
   ]
  },
  {
   "cell_type": "code",
   "execution_count": 110,
   "metadata": {},
   "outputs": [
    {
     "data": {
      "text/plain": [
       "<matplotlib.axes._subplots.AxesSubplot at 0x183af5ddf60>"
      ]
     },
     "execution_count": 110,
     "metadata": {},
     "output_type": "execute_result"
    },
    {
     "data": {
      "image/png": "[encoded data removed]",
      "text/plain": [
       "<Figure size 432x288 with 1 Axes>"
      ]
     },
     "metadata": {
      "needs_background": "light"
     },
     "output_type": "display_data"
    }
   ],
   "source": [
    "sns.boxplot(cluster4_data['CREDIT_LIMIT'])"
   ]
  },
  {
   "cell_type": "code",
   "execution_count": 111,
   "metadata": {},
   "outputs": [
    {
     "data": {
      "text/plain": [
       "<matplotlib.axes._subplots.AxesSubplot at 0x183af62b320>"
      ]
     },
     "execution_count": 111,
     "metadata": {},
     "output_type": "execute_result"
    },
    {
     "data": {
      "image/png": "[encoded data removed]",
      "text/plain": [
       "<Figure size 432x288 with 1 Axes>"
      ]
     },
     "metadata": {
      "needs_background": "light"
     },
     "output_type": "display_data"
    }
   ],
   "source": [
    "sns.boxplot(cluster4_data['ONEOFF_PURCHASES'])"
   ]
  },
  {
   "cell_type": "code",
   "execution_count": 112,
   "metadata": {},
   "outputs": [
    {
     "data": {
      "text/plain": [
       "<matplotlib.axes._subplots.AxesSubplot at 0x183af58d828>"
      ]
     },
     "execution_count": 112,
     "metadata": {},
     "output_type": "execute_result"
    },
    {
     "data": {
      "image/png": "[encoded data removed]",
      "text/plain": [
       "<Figure size 432x288 with 1 Axes>"
      ]
     },
     "metadata": {
      "needs_background": "light"
     },
     "output_type": "display_data"
    }
   ],
   "source": [
    "sns.boxplot(cluster4_data['INSTALLMENTS_PURCHASES'])"
   ]
  },
  {
   "cell_type": "code",
   "execution_count": 113,
   "metadata": {},
   "outputs": [
    {
     "data": {
      "text/plain": [
       "<matplotlib.axes._subplots.AxesSubplot at 0x183af6f55f8>"
      ]
     },
     "execution_count": 113,
     "metadata": {},
     "output_type": "execute_result"
    },
    {
     "data": {
      "image/png": "[encoded data removed]",
      "text/plain": [
       "<Figure size 432x288 with 1 Axes>"
      ]
     },
     "metadata": {
      "needs_background": "light"
     },
     "output_type": "display_data"
    }
   ],
   "source": [
    "sns.boxplot(cluster4_data['ONEOFF_PURCHASES_FREQUENCY'])"
   ]
  },
  {
   "cell_type": "markdown",
   "metadata": {},
   "source": [
    "#### Cluster 5"
   ]
  },
  {
   "cell_type": "code",
   "execution_count": 17,
   "metadata": {},
   "outputs": [
    {
     "data": {
      "text/html": [
       "<div>\n",
       "<style scoped>\n",
       "    .dataframe tbody tr th:only-of-type {\n",
       "        vertical-align: middle;\n",
       "    }\n",
       "\n",
       "    .dataframe tbody tr th {\n",
       "        vertical-align: top;\n",
       "    }\n",
       "\n",
       "    .dataframe thead th {\n",
       "        text-align: right;\n",
       "    }\n",
       "</style>\n",
       "<table border=\"1\" class=\"dataframe\">\n",
       "  <thead>\n",
       "    <tr style=\"text-align: right;\">\n",
       "      <th></th>\n",
       "      <th>count</th>\n",
       "      <th>mean</th>\n",
       "      <th>std</th>\n",
       "      <th>min</th>\n",
       "      <th>25%</th>\n",
       "      <th>50%</th>\n",
       "      <th>75%</th>\n",
       "      <th>max</th>\n",
       "    </tr>\n",
       "  </thead>\n",
       "  <tbody>\n",
       "    <tr>\n",
       "      <th>BALANCE</th>\n",
       "      <td>1638.0</td>\n",
       "      <td>762.103313</td>\n",
       "      <td>875.023157</td>\n",
       "      <td>0.000000</td>\n",
       "      <td>86.848423</td>\n",
       "      <td>343.354539</td>\n",
       "      <td>1296.227952</td>\n",
       "      <td>4338.558856</td>\n",
       "    </tr>\n",
       "    <tr>\n",
       "      <th>BALANCE_FREQUENCY</th>\n",
       "      <td>1638.0</td>\n",
       "      <td>0.870714</td>\n",
       "      <td>0.239571</td>\n",
       "      <td>0.000000</td>\n",
       "      <td>0.818182</td>\n",
       "      <td>1.000000</td>\n",
       "      <td>1.000000</td>\n",
       "      <td>1.000000</td>\n",
       "    </tr>\n",
       "    <tr>\n",
       "      <th>PURCHASES</th>\n",
       "      <td>1638.0</td>\n",
       "      <td>1333.576838</td>\n",
       "      <td>1232.033102</td>\n",
       "      <td>0.000000</td>\n",
       "      <td>324.475000</td>\n",
       "      <td>988.705000</td>\n",
       "      <td>2090.160000</td>\n",
       "      <td>5677.760000</td>\n",
       "    </tr>\n",
       "    <tr>\n",
       "      <th>ONEOFF_PURCHASES</th>\n",
       "      <td>1638.0</td>\n",
       "      <td>768.972851</td>\n",
       "      <td>936.162984</td>\n",
       "      <td>0.000000</td>\n",
       "      <td>0.000000</td>\n",
       "      <td>416.235000</td>\n",
       "      <td>1170.360000</td>\n",
       "      <td>4768.270000</td>\n",
       "    </tr>\n",
       "    <tr>\n",
       "      <th>INSTALLMENTS_PURCHASES</th>\n",
       "      <td>1638.0</td>\n",
       "      <td>565.106813</td>\n",
       "      <td>754.358334</td>\n",
       "      <td>0.000000</td>\n",
       "      <td>0.000000</td>\n",
       "      <td>271.820000</td>\n",
       "      <td>850.315000</td>\n",
       "      <td>4538.840000</td>\n",
       "    </tr>\n",
       "    <tr>\n",
       "      <th>CASH_ADVANCE</th>\n",
       "      <td>1638.0</td>\n",
       "      <td>180.185985</td>\n",
       "      <td>489.075958</td>\n",
       "      <td>0.000000</td>\n",
       "      <td>0.000000</td>\n",
       "      <td>0.000000</td>\n",
       "      <td>0.000000</td>\n",
       "      <td>3689.517625</td>\n",
       "    </tr>\n",
       "    <tr>\n",
       "      <th>PURCHASES_FREQUENCY</th>\n",
       "      <td>1638.0</td>\n",
       "      <td>0.649538</td>\n",
       "      <td>0.359735</td>\n",
       "      <td>0.000000</td>\n",
       "      <td>0.333333</td>\n",
       "      <td>0.750000</td>\n",
       "      <td>1.000000</td>\n",
       "      <td>1.000000</td>\n",
       "    </tr>\n",
       "    <tr>\n",
       "      <th>ONEOFF_PURCHASES_FREQUENCY</th>\n",
       "      <td>1638.0</td>\n",
       "      <td>0.339701</td>\n",
       "      <td>0.348069</td>\n",
       "      <td>0.000000</td>\n",
       "      <td>0.000000</td>\n",
       "      <td>0.166667</td>\n",
       "      <td>0.583333</td>\n",
       "      <td>1.000000</td>\n",
       "    </tr>\n",
       "    <tr>\n",
       "      <th>PURCHASES_INSTALLMENTS_FREQUENCY</th>\n",
       "      <td>1638.0</td>\n",
       "      <td>0.460900</td>\n",
       "      <td>0.400561</td>\n",
       "      <td>0.000000</td>\n",
       "      <td>0.000000</td>\n",
       "      <td>0.416667</td>\n",
       "      <td>0.916667</td>\n",
       "      <td>1.000000</td>\n",
       "    </tr>\n",
       "    <tr>\n",
       "      <th>CASH_ADVANCE_FREQUENCY</th>\n",
       "      <td>1638.0</td>\n",
       "      <td>0.043643</td>\n",
       "      <td>0.110177</td>\n",
       "      <td>0.000000</td>\n",
       "      <td>0.000000</td>\n",
       "      <td>0.000000</td>\n",
       "      <td>0.000000</td>\n",
       "      <td>0.916667</td>\n",
       "    </tr>\n",
       "    <tr>\n",
       "      <th>CASH_ADVANCE_TRX</th>\n",
       "      <td>1638.0</td>\n",
       "      <td>0.824786</td>\n",
       "      <td>2.660454</td>\n",
       "      <td>0.000000</td>\n",
       "      <td>0.000000</td>\n",
       "      <td>0.000000</td>\n",
       "      <td>0.000000</td>\n",
       "      <td>44.000000</td>\n",
       "    </tr>\n",
       "    <tr>\n",
       "      <th>PURCHASES_TRX</th>\n",
       "      <td>1638.0</td>\n",
       "      <td>20.594628</td>\n",
       "      <td>23.302882</td>\n",
       "      <td>0.000000</td>\n",
       "      <td>5.000000</td>\n",
       "      <td>13.000000</td>\n",
       "      <td>28.000000</td>\n",
       "      <td>232.000000</td>\n",
       "    </tr>\n",
       "    <tr>\n",
       "      <th>CREDIT_LIMIT</th>\n",
       "      <td>1638.0</td>\n",
       "      <td>6024.839050</td>\n",
       "      <td>1440.473611</td>\n",
       "      <td>2300.000000</td>\n",
       "      <td>5000.000000</td>\n",
       "      <td>6000.000000</td>\n",
       "      <td>7000.000000</td>\n",
       "      <td>9100.000000</td>\n",
       "    </tr>\n",
       "    <tr>\n",
       "      <th>PAYMENTS</th>\n",
       "      <td>1638.0</td>\n",
       "      <td>1502.656728</td>\n",
       "      <td>1272.114514</td>\n",
       "      <td>0.000000</td>\n",
       "      <td>535.267865</td>\n",
       "      <td>1098.685374</td>\n",
       "      <td>2200.576430</td>\n",
       "      <td>6486.900601</td>\n",
       "    </tr>\n",
       "    <tr>\n",
       "      <th>MINIMUM_PAYMENTS</th>\n",
       "      <td>1638.0</td>\n",
       "      <td>326.019286</td>\n",
       "      <td>421.274054</td>\n",
       "      <td>0.117036</td>\n",
       "      <td>158.664817</td>\n",
       "      <td>195.198047</td>\n",
       "      <td>365.312402</td>\n",
       "      <td>5583.630482</td>\n",
       "    </tr>\n",
       "    <tr>\n",
       "      <th>PRC_FULL_PAYMENT</th>\n",
       "      <td>1638.0</td>\n",
       "      <td>0.245831</td>\n",
       "      <td>0.347985</td>\n",
       "      <td>0.000000</td>\n",
       "      <td>0.000000</td>\n",
       "      <td>0.000000</td>\n",
       "      <td>0.444444</td>\n",
       "      <td>1.000000</td>\n",
       "    </tr>\n",
       "    <tr>\n",
       "      <th>TENURE</th>\n",
       "      <td>1638.0</td>\n",
       "      <td>11.832112</td>\n",
       "      <td>0.745105</td>\n",
       "      <td>6.000000</td>\n",
       "      <td>12.000000</td>\n",
       "      <td>12.000000</td>\n",
       "      <td>12.000000</td>\n",
       "      <td>12.000000</td>\n",
       "    </tr>\n",
       "  </tbody>\n",
       "</table>\n",
       "</div>"
      ],
      "text/plain": [
       "                                   count         mean          std  \\\n",
       "BALANCE                           1638.0   762.103313   875.023157   \n",
       "BALANCE_FREQUENCY                 1638.0     0.870714     0.239571   \n",
       "PURCHASES                         1638.0  1333.576838  1232.033102   \n",
       "ONEOFF_PURCHASES                  1638.0   768.972851   936.162984   \n",
       "INSTALLMENTS_PURCHASES            1638.0   565.106813   754.358334   \n",
       "CASH_ADVANCE                      1638.0   180.185985   489.075958   \n",
       "PURCHASES_FREQUENCY               1638.0     0.649538     0.359735   \n",
       "ONEOFF_PURCHASES_FREQUENCY        1638.0     0.339701     0.348069   \n",
       "PURCHASES_INSTALLMENTS_FREQUENCY  1638.0     0.460900     0.400561   \n",
       "CASH_ADVANCE_FREQUENCY            1638.0     0.043643     0.110177   \n",
       "CASH_ADVANCE_TRX                  1638.0     0.824786     2.660454   \n",
       "PURCHASES_TRX                     1638.0    20.594628    23.302882   \n",
       "CREDIT_LIMIT                      1638.0  6024.839050  1440.473611   \n",
       "PAYMENTS                          1638.0  1502.656728  1272.114514   \n",
       "MINIMUM_PAYMENTS                  1638.0   326.019286   421.274054   \n",
       "PRC_FULL_PAYMENT                  1638.0     0.245831     0.347985   \n",
       "TENURE                            1638.0    11.832112     0.745105   \n",
       "\n",
       "                                          min          25%          50%  \\\n",
       "BALANCE                              0.000000    86.848423   343.354539   \n",
       "BALANCE_FREQUENCY                    0.000000     0.818182     1.000000   \n",
       "PURCHASES                            0.000000   324.475000   988.705000   \n",
       "ONEOFF_PURCHASES                     0.000000     0.000000   416.235000   \n",
       "INSTALLMENTS_PURCHASES               0.000000     0.000000   271.820000   \n",
       "CASH_ADVANCE                         0.000000     0.000000     0.000000   \n",
       "PURCHASES_FREQUENCY                  0.000000     0.333333     0.750000   \n",
       "ONEOFF_PURCHASES_FREQUENCY           0.000000     0.000000     0.166667   \n",
       "PURCHASES_INSTALLMENTS_FREQUENCY     0.000000     0.000000     0.416667   \n",
       "CASH_ADVANCE_FREQUENCY               0.000000     0.000000     0.000000   \n",
       "CASH_ADVANCE_TRX                     0.000000     0.000000     0.000000   \n",
       "PURCHASES_TRX                        0.000000     5.000000    13.000000   \n",
       "CREDIT_LIMIT                      2300.000000  5000.000000  6000.000000   \n",
       "PAYMENTS                             0.000000   535.267865  1098.685374   \n",
       "MINIMUM_PAYMENTS                     0.117036   158.664817   195.198047   \n",
       "PRC_FULL_PAYMENT                     0.000000     0.000000     0.000000   \n",
       "TENURE                               6.000000    12.000000    12.000000   \n",
       "\n",
       "                                          75%          max  \n",
       "BALANCE                           1296.227952  4338.558856  \n",
       "BALANCE_FREQUENCY                    1.000000     1.000000  \n",
       "PURCHASES                         2090.160000  5677.760000  \n",
       "ONEOFF_PURCHASES                  1170.360000  4768.270000  \n",
       "INSTALLMENTS_PURCHASES             850.315000  4538.840000  \n",
       "CASH_ADVANCE                         0.000000  3689.517625  \n",
       "PURCHASES_FREQUENCY                  1.000000     1.000000  \n",
       "ONEOFF_PURCHASES_FREQUENCY           0.583333     1.000000  \n",
       "PURCHASES_INSTALLMENTS_FREQUENCY     0.916667     1.000000  \n",
       "CASH_ADVANCE_FREQUENCY               0.000000     0.916667  \n",
       "CASH_ADVANCE_TRX                     0.000000    44.000000  \n",
       "PURCHASES_TRX                       28.000000   232.000000  \n",
       "CREDIT_LIMIT                      7000.000000  9100.000000  \n",
       "PAYMENTS                          2200.576430  6486.900601  \n",
       "MINIMUM_PAYMENTS                   365.312402  5583.630482  \n",
       "PRC_FULL_PAYMENT                     0.444444     1.000000  \n",
       "TENURE                              12.000000    12.000000  "
      ]
     },
     "execution_count": 17,
     "metadata": {},
     "output_type": "execute_result"
    }
   ],
   "source": [
    "data.iloc[labels_x[5].index,:].describe().T"
   ]
  },
  {
   "cell_type": "code",
   "execution_count": 18,
   "metadata": {},
   "outputs": [],
   "source": [
    "cluster5_data=data.iloc[labels_x[5].index,:]"
   ]
  },
  {
   "cell_type": "code",
   "execution_count": 19,
   "metadata": {},
   "outputs": [
    {
     "data": {
      "text/plain": [
       "<matplotlib.axes._subplots.AxesSubplot at 0x29c4e23ab70>"
      ]
     },
     "execution_count": 19,
     "metadata": {},
     "output_type": "execute_result"
    },
    {
     "data": {
      "image/png": "[encoded data removed]",
      "text/plain": [
       "<Figure size 432x288 with 1 Axes>"
      ]
     },
     "metadata": {
      "needs_background": "light"
     },
     "output_type": "display_data"
    }
   ],
   "source": [
    "sns.boxplot(cluster5_data['BALANCE'])"
   ]
  },
  {
   "cell_type": "code",
   "execution_count": 20,
   "metadata": {},
   "outputs": [
    {
     "data": {
      "text/plain": [
       "<matplotlib.axes._subplots.AxesSubplot at 0x29c4e2b99e8>"
      ]
     },
     "execution_count": 20,
     "metadata": {},
     "output_type": "execute_result"
    },
    {
     "data": {
      "image/png": "[encoded data removed]",
      "text/plain": [
       "<Figure size 432x288 with 1 Axes>"
      ]
     },
     "metadata": {
      "needs_background": "light"
     },
     "output_type": "display_data"
    }
   ],
   "source": [
    "sns.boxplot(cluster5_data['PURCHASES'])"
   ]
  },
  {
   "cell_type": "code",
   "execution_count": 116,
   "metadata": {},
   "outputs": [
    {
     "data": {
      "text/plain": [
       "<matplotlib.axes._subplots.AxesSubplot at 0x183af7f0320>"
      ]
     },
     "execution_count": 116,
     "metadata": {},
     "output_type": "execute_result"
    },
    {
     "data": {
      "image/png": "[encoded data removed]",
      "text/plain": [
       "<Figure size 432x288 with 1 Axes>"
      ]
     },
     "metadata": {
      "needs_background": "light"
     },
     "output_type": "display_data"
    }
   ],
   "source": [
    "sns.boxplot(cluster5_data['PAYMENTS'])"
   ]
  },
  {
   "cell_type": "code",
   "execution_count": 117,
   "metadata": {},
   "outputs": [
    {
     "data": {
      "text/plain": [
       "<matplotlib.axes._subplots.AxesSubplot at 0x183af847550>"
      ]
     },
     "execution_count": 117,
     "metadata": {},
     "output_type": "execute_result"
    },
    {
     "data": {
      "image/png": "[encoded data removed]",
      "text/plain": [
       "<Figure size 432x288 with 1 Axes>"
      ]
     },
     "metadata": {
      "needs_background": "light"
     },
     "output_type": "display_data"
    }
   ],
   "source": [
    "sns.boxplot(cluster5_data['CREDIT_LIMIT'])"
   ]
  },
  {
   "cell_type": "code",
   "execution_count": 118,
   "metadata": {},
   "outputs": [
    {
     "data": {
      "text/plain": [
       "<matplotlib.axes._subplots.AxesSubplot at 0x183af8ad0b8>"
      ]
     },
     "execution_count": 118,
     "metadata": {},
     "output_type": "execute_result"
    },
    {
     "data": {
      "image/png": "[encoded data removed]",
      "text/plain": [
       "<Figure size 432x288 with 1 Axes>"
      ]
     },
     "metadata": {
      "needs_background": "light"
     },
     "output_type": "display_data"
    }
   ],
   "source": [
    "sns.boxplot(cluster5_data['ONEOFF_PURCHASES'])"
   ]
  },
  {
   "cell_type": "code",
   "execution_count": null,
   "metadata": {},
   "outputs": [],
   "source": []
  },
  {
   "cell_type": "code",
   "execution_count": null,
   "metadata": {},
   "outputs": [],
   "source": []
  },
  {
   "cell_type": "markdown",
   "metadata": {},
   "source": [
    "#### Cluster 6"
   ]
  },
  {
   "cell_type": "code",
   "execution_count": 65,
   "metadata": {},
   "outputs": [
    {
     "data": {
      "text/html": [
       "<div>\n",
       "<style scoped>\n",
       "    .dataframe tbody tr th:only-of-type {\n",
       "        vertical-align: middle;\n",
       "    }\n",
       "\n",
       "    .dataframe tbody tr th {\n",
       "        vertical-align: top;\n",
       "    }\n",
       "\n",
       "    .dataframe thead th {\n",
       "        text-align: right;\n",
       "    }\n",
       "</style>\n",
       "<table border=\"1\" class=\"dataframe\">\n",
       "  <thead>\n",
       "    <tr style=\"text-align: right;\">\n",
       "      <th></th>\n",
       "      <th>count</th>\n",
       "      <th>mean</th>\n",
       "      <th>std</th>\n",
       "      <th>min</th>\n",
       "      <th>25%</th>\n",
       "      <th>50%</th>\n",
       "      <th>75%</th>\n",
       "      <th>max</th>\n",
       "    </tr>\n",
       "  </thead>\n",
       "  <tbody>\n",
       "    <tr>\n",
       "      <th>BALANCE</th>\n",
       "      <td>4930.0</td>\n",
       "      <td>749.492958</td>\n",
       "      <td>752.123911</td>\n",
       "      <td>0.000000</td>\n",
       "      <td>66.867278</td>\n",
       "      <td>533.577143</td>\n",
       "      <td>1216.677281</td>\n",
       "      <td>3267.962664</td>\n",
       "    </tr>\n",
       "    <tr>\n",
       "      <th>BALANCE_FREQUENCY</th>\n",
       "      <td>4930.0</td>\n",
       "      <td>0.848086</td>\n",
       "      <td>0.260447</td>\n",
       "      <td>0.000000</td>\n",
       "      <td>0.818182</td>\n",
       "      <td>1.000000</td>\n",
       "      <td>1.000000</td>\n",
       "      <td>1.000000</td>\n",
       "    </tr>\n",
       "    <tr>\n",
       "      <th>PURCHASES</th>\n",
       "      <td>4930.0</td>\n",
       "      <td>463.479842</td>\n",
       "      <td>627.287242</td>\n",
       "      <td>0.000000</td>\n",
       "      <td>0.020000</td>\n",
       "      <td>238.825000</td>\n",
       "      <td>626.445000</td>\n",
       "      <td>5497.040000</td>\n",
       "    </tr>\n",
       "    <tr>\n",
       "      <th>ONEOFF_PURCHASES</th>\n",
       "      <td>4930.0</td>\n",
       "      <td>219.837375</td>\n",
       "      <td>459.701404</td>\n",
       "      <td>0.000000</td>\n",
       "      <td>0.000000</td>\n",
       "      <td>0.000000</td>\n",
       "      <td>214.000000</td>\n",
       "      <td>5497.040000</td>\n",
       "    </tr>\n",
       "    <tr>\n",
       "      <th>INSTALLMENTS_PURCHASES</th>\n",
       "      <td>4930.0</td>\n",
       "      <td>243.863629</td>\n",
       "      <td>404.980696</td>\n",
       "      <td>0.000000</td>\n",
       "      <td>0.000000</td>\n",
       "      <td>59.880000</td>\n",
       "      <td>343.802500</td>\n",
       "      <td>3816.000000</td>\n",
       "    </tr>\n",
       "    <tr>\n",
       "      <th>CASH_ADVANCE</th>\n",
       "      <td>4930.0</td>\n",
       "      <td>430.435281</td>\n",
       "      <td>750.086819</td>\n",
       "      <td>0.000000</td>\n",
       "      <td>0.000000</td>\n",
       "      <td>0.000000</td>\n",
       "      <td>579.959006</td>\n",
       "      <td>5573.767921</td>\n",
       "    </tr>\n",
       "    <tr>\n",
       "      <th>PURCHASES_FREQUENCY</th>\n",
       "      <td>4930.0</td>\n",
       "      <td>0.444054</td>\n",
       "      <td>0.391793</td>\n",
       "      <td>0.000000</td>\n",
       "      <td>0.083333</td>\n",
       "      <td>0.363636</td>\n",
       "      <td>0.857143</td>\n",
       "      <td>1.000000</td>\n",
       "    </tr>\n",
       "    <tr>\n",
       "      <th>ONEOFF_PURCHASES_FREQUENCY</th>\n",
       "      <td>4930.0</td>\n",
       "      <td>0.120788</td>\n",
       "      <td>0.217678</td>\n",
       "      <td>0.000000</td>\n",
       "      <td>0.000000</td>\n",
       "      <td>0.000000</td>\n",
       "      <td>0.166667</td>\n",
       "      <td>1.000000</td>\n",
       "    </tr>\n",
       "    <tr>\n",
       "      <th>PURCHASES_INSTALLMENTS_FREQUENCY</th>\n",
       "      <td>4930.0</td>\n",
       "      <td>0.342923</td>\n",
       "      <td>0.389489</td>\n",
       "      <td>0.000000</td>\n",
       "      <td>0.000000</td>\n",
       "      <td>0.166667</td>\n",
       "      <td>0.750000</td>\n",
       "      <td>1.000000</td>\n",
       "    </tr>\n",
       "    <tr>\n",
       "      <th>CASH_ADVANCE_FREQUENCY</th>\n",
       "      <td>4930.0</td>\n",
       "      <td>0.106765</td>\n",
       "      <td>0.162501</td>\n",
       "      <td>0.000000</td>\n",
       "      <td>0.000000</td>\n",
       "      <td>0.000000</td>\n",
       "      <td>0.166667</td>\n",
       "      <td>1.000000</td>\n",
       "    </tr>\n",
       "    <tr>\n",
       "      <th>CASH_ADVANCE_TRX</th>\n",
       "      <td>4930.0</td>\n",
       "      <td>2.178499</td>\n",
       "      <td>4.277997</td>\n",
       "      <td>0.000000</td>\n",
       "      <td>0.000000</td>\n",
       "      <td>0.000000</td>\n",
       "      <td>3.000000</td>\n",
       "      <td>71.000000</td>\n",
       "    </tr>\n",
       "    <tr>\n",
       "      <th>PURCHASES_TRX</th>\n",
       "      <td>4930.0</td>\n",
       "      <td>8.869980</td>\n",
       "      <td>11.904278</td>\n",
       "      <td>0.000000</td>\n",
       "      <td>1.000000</td>\n",
       "      <td>6.000000</td>\n",
       "      <td>12.000000</td>\n",
       "      <td>186.000000</td>\n",
       "    </tr>\n",
       "    <tr>\n",
       "      <th>CREDIT_LIMIT</th>\n",
       "      <td>4930.0</td>\n",
       "      <td>2009.662723</td>\n",
       "      <td>925.035342</td>\n",
       "      <td>150.000000</td>\n",
       "      <td>1200.000000</td>\n",
       "      <td>1800.000000</td>\n",
       "      <td>2700.000000</td>\n",
       "      <td>4500.000000</td>\n",
       "    </tr>\n",
       "    <tr>\n",
       "      <th>PAYMENTS</th>\n",
       "      <td>4930.0</td>\n",
       "      <td>820.331029</td>\n",
       "      <td>861.200205</td>\n",
       "      <td>0.000000</td>\n",
       "      <td>275.704935</td>\n",
       "      <td>528.437757</td>\n",
       "      <td>1051.615944</td>\n",
       "      <td>8494.566989</td>\n",
       "    </tr>\n",
       "    <tr>\n",
       "      <th>MINIMUM_PAYMENTS</th>\n",
       "      <td>4930.0</td>\n",
       "      <td>495.719533</td>\n",
       "      <td>937.164285</td>\n",
       "      <td>0.019163</td>\n",
       "      <td>154.879031</td>\n",
       "      <td>255.014543</td>\n",
       "      <td>484.260536</td>\n",
       "      <td>13564.391210</td>\n",
       "    </tr>\n",
       "    <tr>\n",
       "      <th>PRC_FULL_PAYMENT</th>\n",
       "      <td>4930.0</td>\n",
       "      <td>0.140671</td>\n",
       "      <td>0.277411</td>\n",
       "      <td>0.000000</td>\n",
       "      <td>0.000000</td>\n",
       "      <td>0.000000</td>\n",
       "      <td>0.111111</td>\n",
       "      <td>1.000000</td>\n",
       "    </tr>\n",
       "    <tr>\n",
       "      <th>TENURE</th>\n",
       "      <td>4930.0</td>\n",
       "      <td>11.347870</td>\n",
       "      <td>1.546100</td>\n",
       "      <td>6.000000</td>\n",
       "      <td>12.000000</td>\n",
       "      <td>12.000000</td>\n",
       "      <td>12.000000</td>\n",
       "      <td>12.000000</td>\n",
       "    </tr>\n",
       "  </tbody>\n",
       "</table>\n",
       "</div>"
      ],
      "text/plain": [
       "                                   count         mean         std         min  \\\n",
       "BALANCE                           4930.0   749.492958  752.123911    0.000000   \n",
       "BALANCE_FREQUENCY                 4930.0     0.848086    0.260447    0.000000   \n",
       "PURCHASES                         4930.0   463.479842  627.287242    0.000000   \n",
       "ONEOFF_PURCHASES                  4930.0   219.837375  459.701404    0.000000   \n",
       "INSTALLMENTS_PURCHASES            4930.0   243.863629  404.980696    0.000000   \n",
       "CASH_ADVANCE                      4930.0   430.435281  750.086819    0.000000   \n",
       "PURCHASES_FREQUENCY               4930.0     0.444054    0.391793    0.000000   \n",
       "ONEOFF_PURCHASES_FREQUENCY        4930.0     0.120788    0.217678    0.000000   \n",
       "PURCHASES_INSTALLMENTS_FREQUENCY  4930.0     0.342923    0.389489    0.000000   \n",
       "CASH_ADVANCE_FREQUENCY            4930.0     0.106765    0.162501    0.000000   \n",
       "CASH_ADVANCE_TRX                  4930.0     2.178499    4.277997    0.000000   \n",
       "PURCHASES_TRX                     4930.0     8.869980   11.904278    0.000000   \n",
       "CREDIT_LIMIT                      4930.0  2009.662723  925.035342  150.000000   \n",
       "PAYMENTS                          4930.0   820.331029  861.200205    0.000000   \n",
       "MINIMUM_PAYMENTS                  4930.0   495.719533  937.164285    0.019163   \n",
       "PRC_FULL_PAYMENT                  4930.0     0.140671    0.277411    0.000000   \n",
       "TENURE                            4930.0    11.347870    1.546100    6.000000   \n",
       "\n",
       "                                          25%          50%          75%  \\\n",
       "BALANCE                             66.867278   533.577143  1216.677281   \n",
       "BALANCE_FREQUENCY                    0.818182     1.000000     1.000000   \n",
       "PURCHASES                            0.020000   238.825000   626.445000   \n",
       "ONEOFF_PURCHASES                     0.000000     0.000000   214.000000   \n",
       "INSTALLMENTS_PURCHASES               0.000000    59.880000   343.802500   \n",
       "CASH_ADVANCE                         0.000000     0.000000   579.959006   \n",
       "PURCHASES_FREQUENCY                  0.083333     0.363636     0.857143   \n",
       "ONEOFF_PURCHASES_FREQUENCY           0.000000     0.000000     0.166667   \n",
       "PURCHASES_INSTALLMENTS_FREQUENCY     0.000000     0.166667     0.750000   \n",
       "CASH_ADVANCE_FREQUENCY               0.000000     0.000000     0.166667   \n",
       "CASH_ADVANCE_TRX                     0.000000     0.000000     3.000000   \n",
       "PURCHASES_TRX                        1.000000     6.000000    12.000000   \n",
       "CREDIT_LIMIT                      1200.000000  1800.000000  2700.000000   \n",
       "PAYMENTS                           275.704935   528.437757  1051.615944   \n",
       "MINIMUM_PAYMENTS                   154.879031   255.014543   484.260536   \n",
       "PRC_FULL_PAYMENT                     0.000000     0.000000     0.111111   \n",
       "TENURE                              12.000000    12.000000    12.000000   \n",
       "\n",
       "                                           max  \n",
       "BALANCE                            3267.962664  \n",
       "BALANCE_FREQUENCY                     1.000000  \n",
       "PURCHASES                          5497.040000  \n",
       "ONEOFF_PURCHASES                   5497.040000  \n",
       "INSTALLMENTS_PURCHASES             3816.000000  \n",
       "CASH_ADVANCE                       5573.767921  \n",
       "PURCHASES_FREQUENCY                   1.000000  \n",
       "ONEOFF_PURCHASES_FREQUENCY            1.000000  \n",
       "PURCHASES_INSTALLMENTS_FREQUENCY      1.000000  \n",
       "CASH_ADVANCE_FREQUENCY                1.000000  \n",
       "CASH_ADVANCE_TRX                     71.000000  \n",
       "PURCHASES_TRX                       186.000000  \n",
       "CREDIT_LIMIT                       4500.000000  \n",
       "PAYMENTS                           8494.566989  \n",
       "MINIMUM_PAYMENTS                  13564.391210  \n",
       "PRC_FULL_PAYMENT                      1.000000  \n",
       "TENURE                               12.000000  "
      ]
     },
     "execution_count": 65,
     "metadata": {},
     "output_type": "execute_result"
    }
   ],
   "source": [
    "data.iloc[labels_x[6].index,:].describe().T"
   ]
  },
  {
   "cell_type": "markdown",
   "metadata": {},
   "source": [
    "#### Cluster 7"
   ]
  },
  {
   "cell_type": "code",
   "execution_count": 66,
   "metadata": {},
   "outputs": [
    {
     "data": {
      "text/html": [
       "<div>\n",
       "<style scoped>\n",
       "    .dataframe tbody tr th:only-of-type {\n",
       "        vertical-align: middle;\n",
       "    }\n",
       "\n",
       "    .dataframe tbody tr th {\n",
       "        vertical-align: top;\n",
       "    }\n",
       "\n",
       "    .dataframe thead th {\n",
       "        text-align: right;\n",
       "    }\n",
       "</style>\n",
       "<table border=\"1\" class=\"dataframe\">\n",
       "  <thead>\n",
       "    <tr style=\"text-align: right;\">\n",
       "      <th></th>\n",
       "      <th>count</th>\n",
       "      <th>mean</th>\n",
       "      <th>std</th>\n",
       "      <th>min</th>\n",
       "      <th>25%</th>\n",
       "      <th>50%</th>\n",
       "      <th>75%</th>\n",
       "      <th>max</th>\n",
       "    </tr>\n",
       "  </thead>\n",
       "  <tbody>\n",
       "    <tr>\n",
       "      <th>BALANCE</th>\n",
       "      <td>245.0</td>\n",
       "      <td>2613.454755</td>\n",
       "      <td>2348.110810</td>\n",
       "      <td>12.659909</td>\n",
       "      <td>788.973700</td>\n",
       "      <td>1925.094714</td>\n",
       "      <td>3759.848908</td>\n",
       "      <td>11642.601560</td>\n",
       "    </tr>\n",
       "    <tr>\n",
       "      <th>BALANCE_FREQUENCY</th>\n",
       "      <td>245.0</td>\n",
       "      <td>0.977226</td>\n",
       "      <td>0.079055</td>\n",
       "      <td>0.272727</td>\n",
       "      <td>1.000000</td>\n",
       "      <td>1.000000</td>\n",
       "      <td>1.000000</td>\n",
       "      <td>1.000000</td>\n",
       "    </tr>\n",
       "    <tr>\n",
       "      <th>PURCHASES</th>\n",
       "      <td>245.0</td>\n",
       "      <td>7563.231306</td>\n",
       "      <td>2798.219374</td>\n",
       "      <td>2647.900000</td>\n",
       "      <td>5616.070000</td>\n",
       "      <td>6743.310000</td>\n",
       "      <td>9007.670000</td>\n",
       "      <td>22500.000000</td>\n",
       "    </tr>\n",
       "    <tr>\n",
       "      <th>ONEOFF_PURCHASES</th>\n",
       "      <td>245.0</td>\n",
       "      <td>5126.302041</td>\n",
       "      <td>2785.135388</td>\n",
       "      <td>0.000000</td>\n",
       "      <td>3301.600000</td>\n",
       "      <td>4694.680000</td>\n",
       "      <td>6761.290000</td>\n",
       "      <td>14215.000000</td>\n",
       "    </tr>\n",
       "    <tr>\n",
       "      <th>INSTALLMENTS_PURCHASES</th>\n",
       "      <td>245.0</td>\n",
       "      <td>2439.378245</td>\n",
       "      <td>2899.080999</td>\n",
       "      <td>0.000000</td>\n",
       "      <td>479.170000</td>\n",
       "      <td>1585.400000</td>\n",
       "      <td>3244.990000</td>\n",
       "      <td>22500.000000</td>\n",
       "    </tr>\n",
       "    <tr>\n",
       "      <th>CASH_ADVANCE</th>\n",
       "      <td>245.0</td>\n",
       "      <td>413.773000</td>\n",
       "      <td>1017.294503</td>\n",
       "      <td>0.000000</td>\n",
       "      <td>0.000000</td>\n",
       "      <td>0.000000</td>\n",
       "      <td>36.336457</td>\n",
       "      <td>5424.701791</td>\n",
       "    </tr>\n",
       "    <tr>\n",
       "      <th>PURCHASES_FREQUENCY</th>\n",
       "      <td>245.0</td>\n",
       "      <td>0.917965</td>\n",
       "      <td>0.164634</td>\n",
       "      <td>0.250000</td>\n",
       "      <td>0.916667</td>\n",
       "      <td>1.000000</td>\n",
       "      <td>1.000000</td>\n",
       "      <td>1.000000</td>\n",
       "    </tr>\n",
       "    <tr>\n",
       "      <th>ONEOFF_PURCHASES_FREQUENCY</th>\n",
       "      <td>245.0</td>\n",
       "      <td>0.736178</td>\n",
       "      <td>0.290048</td>\n",
       "      <td>0.000000</td>\n",
       "      <td>0.583333</td>\n",
       "      <td>0.833333</td>\n",
       "      <td>1.000000</td>\n",
       "      <td>1.000000</td>\n",
       "    </tr>\n",
       "    <tr>\n",
       "      <th>PURCHASES_INSTALLMENTS_FREQUENCY</th>\n",
       "      <td>245.0</td>\n",
       "      <td>0.699320</td>\n",
       "      <td>0.361848</td>\n",
       "      <td>0.000000</td>\n",
       "      <td>0.416667</td>\n",
       "      <td>0.909091</td>\n",
       "      <td>1.000000</td>\n",
       "      <td>1.000000</td>\n",
       "    </tr>\n",
       "    <tr>\n",
       "      <th>CASH_ADVANCE_FREQUENCY</th>\n",
       "      <td>245.0</td>\n",
       "      <td>0.055133</td>\n",
       "      <td>0.127920</td>\n",
       "      <td>0.000000</td>\n",
       "      <td>0.000000</td>\n",
       "      <td>0.000000</td>\n",
       "      <td>0.083333</td>\n",
       "      <td>0.833333</td>\n",
       "    </tr>\n",
       "    <tr>\n",
       "      <th>CASH_ADVANCE_TRX</th>\n",
       "      <td>245.0</td>\n",
       "      <td>1.395918</td>\n",
       "      <td>4.108466</td>\n",
       "      <td>0.000000</td>\n",
       "      <td>0.000000</td>\n",
       "      <td>0.000000</td>\n",
       "      <td>1.000000</td>\n",
       "      <td>40.000000</td>\n",
       "    </tr>\n",
       "    <tr>\n",
       "      <th>PURCHASES_TRX</th>\n",
       "      <td>245.0</td>\n",
       "      <td>83.440816</td>\n",
       "      <td>57.757917</td>\n",
       "      <td>4.000000</td>\n",
       "      <td>46.000000</td>\n",
       "      <td>73.000000</td>\n",
       "      <td>110.000000</td>\n",
       "      <td>347.000000</td>\n",
       "    </tr>\n",
       "    <tr>\n",
       "      <th>CREDIT_LIMIT</th>\n",
       "      <td>245.0</td>\n",
       "      <td>8503.877551</td>\n",
       "      <td>3663.454215</td>\n",
       "      <td>1000.000000</td>\n",
       "      <td>6000.000000</td>\n",
       "      <td>8000.000000</td>\n",
       "      <td>10500.000000</td>\n",
       "      <td>23000.000000</td>\n",
       "    </tr>\n",
       "    <tr>\n",
       "      <th>PAYMENTS</th>\n",
       "      <td>245.0</td>\n",
       "      <td>6889.303206</td>\n",
       "      <td>3222.809804</td>\n",
       "      <td>0.000000</td>\n",
       "      <td>4752.379612</td>\n",
       "      <td>6240.589580</td>\n",
       "      <td>8438.775135</td>\n",
       "      <td>16826.424430</td>\n",
       "    </tr>\n",
       "    <tr>\n",
       "      <th>MINIMUM_PAYMENTS</th>\n",
       "      <td>245.0</td>\n",
       "      <td>1291.930434</td>\n",
       "      <td>2000.035355</td>\n",
       "      <td>29.259869</td>\n",
       "      <td>233.917424</td>\n",
       "      <td>582.589765</td>\n",
       "      <td>1333.818771</td>\n",
       "      <td>13621.708390</td>\n",
       "    </tr>\n",
       "    <tr>\n",
       "      <th>PRC_FULL_PAYMENT</th>\n",
       "      <td>245.0</td>\n",
       "      <td>0.336037</td>\n",
       "      <td>0.406643</td>\n",
       "      <td>0.000000</td>\n",
       "      <td>0.000000</td>\n",
       "      <td>0.083333</td>\n",
       "      <td>0.818182</td>\n",
       "      <td>1.000000</td>\n",
       "    </tr>\n",
       "    <tr>\n",
       "      <th>TENURE</th>\n",
       "      <td>245.0</td>\n",
       "      <td>11.967347</td>\n",
       "      <td>0.284423</td>\n",
       "      <td>8.000000</td>\n",
       "      <td>12.000000</td>\n",
       "      <td>12.000000</td>\n",
       "      <td>12.000000</td>\n",
       "      <td>12.000000</td>\n",
       "    </tr>\n",
       "  </tbody>\n",
       "</table>\n",
       "</div>"
      ],
      "text/plain": [
       "                                  count         mean          std  \\\n",
       "BALANCE                           245.0  2613.454755  2348.110810   \n",
       "BALANCE_FREQUENCY                 245.0     0.977226     0.079055   \n",
       "PURCHASES                         245.0  7563.231306  2798.219374   \n",
       "ONEOFF_PURCHASES                  245.0  5126.302041  2785.135388   \n",
       "INSTALLMENTS_PURCHASES            245.0  2439.378245  2899.080999   \n",
       "CASH_ADVANCE                      245.0   413.773000  1017.294503   \n",
       "PURCHASES_FREQUENCY               245.0     0.917965     0.164634   \n",
       "ONEOFF_PURCHASES_FREQUENCY        245.0     0.736178     0.290048   \n",
       "PURCHASES_INSTALLMENTS_FREQUENCY  245.0     0.699320     0.361848   \n",
       "CASH_ADVANCE_FREQUENCY            245.0     0.055133     0.127920   \n",
       "CASH_ADVANCE_TRX                  245.0     1.395918     4.108466   \n",
       "PURCHASES_TRX                     245.0    83.440816    57.757917   \n",
       "CREDIT_LIMIT                      245.0  8503.877551  3663.454215   \n",
       "PAYMENTS                          245.0  6889.303206  3222.809804   \n",
       "MINIMUM_PAYMENTS                  245.0  1291.930434  2000.035355   \n",
       "PRC_FULL_PAYMENT                  245.0     0.336037     0.406643   \n",
       "TENURE                            245.0    11.967347     0.284423   \n",
       "\n",
       "                                          min          25%          50%  \\\n",
       "BALANCE                             12.659909   788.973700  1925.094714   \n",
       "BALANCE_FREQUENCY                    0.272727     1.000000     1.000000   \n",
       "PURCHASES                         2647.900000  5616.070000  6743.310000   \n",
       "ONEOFF_PURCHASES                     0.000000  3301.600000  4694.680000   \n",
       "INSTALLMENTS_PURCHASES               0.000000   479.170000  1585.400000   \n",
       "CASH_ADVANCE                         0.000000     0.000000     0.000000   \n",
       "PURCHASES_FREQUENCY                  0.250000     0.916667     1.000000   \n",
       "ONEOFF_PURCHASES_FREQUENCY           0.000000     0.583333     0.833333   \n",
       "PURCHASES_INSTALLMENTS_FREQUENCY     0.000000     0.416667     0.909091   \n",
       "CASH_ADVANCE_FREQUENCY               0.000000     0.000000     0.000000   \n",
       "CASH_ADVANCE_TRX                     0.000000     0.000000     0.000000   \n",
       "PURCHASES_TRX                        4.000000    46.000000    73.000000   \n",
       "CREDIT_LIMIT                      1000.000000  6000.000000  8000.000000   \n",
       "PAYMENTS                             0.000000  4752.379612  6240.589580   \n",
       "MINIMUM_PAYMENTS                    29.259869   233.917424   582.589765   \n",
       "PRC_FULL_PAYMENT                     0.000000     0.000000     0.083333   \n",
       "TENURE                               8.000000    12.000000    12.000000   \n",
       "\n",
       "                                           75%           max  \n",
       "BALANCE                            3759.848908  11642.601560  \n",
       "BALANCE_FREQUENCY                     1.000000      1.000000  \n",
       "PURCHASES                          9007.670000  22500.000000  \n",
       "ONEOFF_PURCHASES                   6761.290000  14215.000000  \n",
       "INSTALLMENTS_PURCHASES             3244.990000  22500.000000  \n",
       "CASH_ADVANCE                         36.336457   5424.701791  \n",
       "PURCHASES_FREQUENCY                   1.000000      1.000000  \n",
       "ONEOFF_PURCHASES_FREQUENCY            1.000000      1.000000  \n",
       "PURCHASES_INSTALLMENTS_FREQUENCY      1.000000      1.000000  \n",
       "CASH_ADVANCE_FREQUENCY                0.083333      0.833333  \n",
       "CASH_ADVANCE_TRX                      1.000000     40.000000  \n",
       "PURCHASES_TRX                       110.000000    347.000000  \n",
       "CREDIT_LIMIT                      10500.000000  23000.000000  \n",
       "PAYMENTS                           8438.775135  16826.424430  \n",
       "MINIMUM_PAYMENTS                   1333.818771  13621.708390  \n",
       "PRC_FULL_PAYMENT                      0.818182      1.000000  \n",
       "TENURE                               12.000000     12.000000  "
      ]
     },
     "execution_count": 66,
     "metadata": {},
     "output_type": "execute_result"
    }
   ],
   "source": [
    "data.iloc[labels_x[7].index,:].describe().T"
   ]
  },
  {
   "cell_type": "markdown",
   "metadata": {},
   "source": [
    "#### Cluster 8"
   ]
  },
  {
   "cell_type": "code",
   "execution_count": 67,
   "metadata": {},
   "outputs": [
    {
     "data": {
      "text/html": [
       "<div>\n",
       "<style scoped>\n",
       "    .dataframe tbody tr th:only-of-type {\n",
       "        vertical-align: middle;\n",
       "    }\n",
       "\n",
       "    .dataframe tbody tr th {\n",
       "        vertical-align: top;\n",
       "    }\n",
       "\n",
       "    .dataframe thead th {\n",
       "        text-align: right;\n",
       "    }\n",
       "</style>\n",
       "<table border=\"1\" class=\"dataframe\">\n",
       "  <thead>\n",
       "    <tr style=\"text-align: right;\">\n",
       "      <th></th>\n",
       "      <th>count</th>\n",
       "      <th>mean</th>\n",
       "      <th>std</th>\n",
       "      <th>min</th>\n",
       "      <th>25%</th>\n",
       "      <th>50%</th>\n",
       "      <th>75%</th>\n",
       "      <th>max</th>\n",
       "    </tr>\n",
       "  </thead>\n",
       "  <tbody>\n",
       "    <tr>\n",
       "      <th>BALANCE</th>\n",
       "      <td>305.0</td>\n",
       "      <td>8286.955909</td>\n",
       "      <td>2343.955720</td>\n",
       "      <td>3649.559565</td>\n",
       "      <td>6856.045926</td>\n",
       "      <td>7820.331303</td>\n",
       "      <td>9255.143419</td>\n",
       "      <td>18495.55855</td>\n",
       "    </tr>\n",
       "    <tr>\n",
       "      <th>BALANCE_FREQUENCY</th>\n",
       "      <td>305.0</td>\n",
       "      <td>0.989502</td>\n",
       "      <td>0.055964</td>\n",
       "      <td>0.500000</td>\n",
       "      <td>1.000000</td>\n",
       "      <td>1.000000</td>\n",
       "      <td>1.000000</td>\n",
       "      <td>1.00000</td>\n",
       "    </tr>\n",
       "    <tr>\n",
       "      <th>PURCHASES</th>\n",
       "      <td>305.0</td>\n",
       "      <td>1264.693803</td>\n",
       "      <td>1847.687953</td>\n",
       "      <td>0.000000</td>\n",
       "      <td>0.000000</td>\n",
       "      <td>393.620000</td>\n",
       "      <td>1603.780000</td>\n",
       "      <td>9792.23000</td>\n",
       "    </tr>\n",
       "    <tr>\n",
       "      <th>ONEOFF_PURCHASES</th>\n",
       "      <td>305.0</td>\n",
       "      <td>736.796361</td>\n",
       "      <td>1239.275894</td>\n",
       "      <td>0.000000</td>\n",
       "      <td>0.000000</td>\n",
       "      <td>105.830000</td>\n",
       "      <td>990.460000</td>\n",
       "      <td>7564.81000</td>\n",
       "    </tr>\n",
       "    <tr>\n",
       "      <th>INSTALLMENTS_PURCHASES</th>\n",
       "      <td>305.0</td>\n",
       "      <td>528.116951</td>\n",
       "      <td>943.868314</td>\n",
       "      <td>0.000000</td>\n",
       "      <td>0.000000</td>\n",
       "      <td>35.920000</td>\n",
       "      <td>693.940000</td>\n",
       "      <td>5832.42000</td>\n",
       "    </tr>\n",
       "    <tr>\n",
       "      <th>CASH_ADVANCE</th>\n",
       "      <td>305.0</td>\n",
       "      <td>4153.242419</td>\n",
       "      <td>3031.519651</td>\n",
       "      <td>0.000000</td>\n",
       "      <td>1895.608770</td>\n",
       "      <td>3801.150600</td>\n",
       "      <td>5933.467329</td>\n",
       "      <td>14827.30716</td>\n",
       "    </tr>\n",
       "    <tr>\n",
       "      <th>PURCHASES_FREQUENCY</th>\n",
       "      <td>305.0</td>\n",
       "      <td>0.438245</td>\n",
       "      <td>0.409037</td>\n",
       "      <td>0.000000</td>\n",
       "      <td>0.000000</td>\n",
       "      <td>0.333333</td>\n",
       "      <td>0.916667</td>\n",
       "      <td>1.00000</td>\n",
       "    </tr>\n",
       "    <tr>\n",
       "      <th>ONEOFF_PURCHASES_FREQUENCY</th>\n",
       "      <td>305.0</td>\n",
       "      <td>0.224685</td>\n",
       "      <td>0.306449</td>\n",
       "      <td>0.000000</td>\n",
       "      <td>0.000000</td>\n",
       "      <td>0.083333</td>\n",
       "      <td>0.333333</td>\n",
       "      <td>1.00000</td>\n",
       "    </tr>\n",
       "    <tr>\n",
       "      <th>PURCHASES_INSTALLMENTS_FREQUENCY</th>\n",
       "      <td>305.0</td>\n",
       "      <td>0.338755</td>\n",
       "      <td>0.398885</td>\n",
       "      <td>0.000000</td>\n",
       "      <td>0.000000</td>\n",
       "      <td>0.083333</td>\n",
       "      <td>0.750000</td>\n",
       "      <td>1.00000</td>\n",
       "    </tr>\n",
       "    <tr>\n",
       "      <th>CASH_ADVANCE_FREQUENCY</th>\n",
       "      <td>305.0</td>\n",
       "      <td>0.365020</td>\n",
       "      <td>0.265132</td>\n",
       "      <td>0.000000</td>\n",
       "      <td>0.166667</td>\n",
       "      <td>0.333333</td>\n",
       "      <td>0.545455</td>\n",
       "      <td>1.10000</td>\n",
       "    </tr>\n",
       "    <tr>\n",
       "      <th>CASH_ADVANCE_TRX</th>\n",
       "      <td>305.0</td>\n",
       "      <td>10.442623</td>\n",
       "      <td>12.337262</td>\n",
       "      <td>0.000000</td>\n",
       "      <td>3.000000</td>\n",
       "      <td>7.000000</td>\n",
       "      <td>13.000000</td>\n",
       "      <td>110.00000</td>\n",
       "    </tr>\n",
       "    <tr>\n",
       "      <th>PURCHASES_TRX</th>\n",
       "      <td>305.0</td>\n",
       "      <td>19.849180</td>\n",
       "      <td>33.302593</td>\n",
       "      <td>0.000000</td>\n",
       "      <td>0.000000</td>\n",
       "      <td>5.000000</td>\n",
       "      <td>23.000000</td>\n",
       "      <td>216.00000</td>\n",
       "    </tr>\n",
       "    <tr>\n",
       "      <th>CREDIT_LIMIT</th>\n",
       "      <td>305.0</td>\n",
       "      <td>12159.180328</td>\n",
       "      <td>2955.572511</td>\n",
       "      <td>7000.000000</td>\n",
       "      <td>10000.000000</td>\n",
       "      <td>12000.000000</td>\n",
       "      <td>14000.000000</td>\n",
       "      <td>22000.00000</td>\n",
       "    </tr>\n",
       "    <tr>\n",
       "      <th>PAYMENTS</th>\n",
       "      <td>305.0</td>\n",
       "      <td>2821.792998</td>\n",
       "      <td>1787.120877</td>\n",
       "      <td>0.000000</td>\n",
       "      <td>1790.394949</td>\n",
       "      <td>2299.218749</td>\n",
       "      <td>3219.621433</td>\n",
       "      <td>11717.30794</td>\n",
       "    </tr>\n",
       "    <tr>\n",
       "      <th>MINIMUM_PAYMENTS</th>\n",
       "      <td>305.0</td>\n",
       "      <td>2855.099129</td>\n",
       "      <td>1775.547121</td>\n",
       "      <td>312.343947</td>\n",
       "      <td>1795.652542</td>\n",
       "      <td>2351.640064</td>\n",
       "      <td>3142.889196</td>\n",
       "      <td>12854.93970</td>\n",
       "    </tr>\n",
       "    <tr>\n",
       "      <th>PRC_FULL_PAYMENT</th>\n",
       "      <td>305.0</td>\n",
       "      <td>0.000000</td>\n",
       "      <td>0.000000</td>\n",
       "      <td>0.000000</td>\n",
       "      <td>0.000000</td>\n",
       "      <td>0.000000</td>\n",
       "      <td>0.000000</td>\n",
       "      <td>0.00000</td>\n",
       "    </tr>\n",
       "    <tr>\n",
       "      <th>TENURE</th>\n",
       "      <td>305.0</td>\n",
       "      <td>11.714754</td>\n",
       "      <td>1.070206</td>\n",
       "      <td>6.000000</td>\n",
       "      <td>12.000000</td>\n",
       "      <td>12.000000</td>\n",
       "      <td>12.000000</td>\n",
       "      <td>12.00000</td>\n",
       "    </tr>\n",
       "  </tbody>\n",
       "</table>\n",
       "</div>"
      ],
      "text/plain": [
       "                                  count          mean          std  \\\n",
       "BALANCE                           305.0   8286.955909  2343.955720   \n",
       "BALANCE_FREQUENCY                 305.0      0.989502     0.055964   \n",
       "PURCHASES                         305.0   1264.693803  1847.687953   \n",
       "ONEOFF_PURCHASES                  305.0    736.796361  1239.275894   \n",
       "INSTALLMENTS_PURCHASES            305.0    528.116951   943.868314   \n",
       "CASH_ADVANCE                      305.0   4153.242419  3031.519651   \n",
       "PURCHASES_FREQUENCY               305.0      0.438245     0.409037   \n",
       "ONEOFF_PURCHASES_FREQUENCY        305.0      0.224685     0.306449   \n",
       "PURCHASES_INSTALLMENTS_FREQUENCY  305.0      0.338755     0.398885   \n",
       "CASH_ADVANCE_FREQUENCY            305.0      0.365020     0.265132   \n",
       "CASH_ADVANCE_TRX                  305.0     10.442623    12.337262   \n",
       "PURCHASES_TRX                     305.0     19.849180    33.302593   \n",
       "CREDIT_LIMIT                      305.0  12159.180328  2955.572511   \n",
       "PAYMENTS                          305.0   2821.792998  1787.120877   \n",
       "MINIMUM_PAYMENTS                  305.0   2855.099129  1775.547121   \n",
       "PRC_FULL_PAYMENT                  305.0      0.000000     0.000000   \n",
       "TENURE                            305.0     11.714754     1.070206   \n",
       "\n",
       "                                          min           25%           50%  \\\n",
       "BALANCE                           3649.559565   6856.045926   7820.331303   \n",
       "BALANCE_FREQUENCY                    0.500000      1.000000      1.000000   \n",
       "PURCHASES                            0.000000      0.000000    393.620000   \n",
       "ONEOFF_PURCHASES                     0.000000      0.000000    105.830000   \n",
       "INSTALLMENTS_PURCHASES               0.000000      0.000000     35.920000   \n",
       "CASH_ADVANCE                         0.000000   1895.608770   3801.150600   \n",
       "PURCHASES_FREQUENCY                  0.000000      0.000000      0.333333   \n",
       "ONEOFF_PURCHASES_FREQUENCY           0.000000      0.000000      0.083333   \n",
       "PURCHASES_INSTALLMENTS_FREQUENCY     0.000000      0.000000      0.083333   \n",
       "CASH_ADVANCE_FREQUENCY               0.000000      0.166667      0.333333   \n",
       "CASH_ADVANCE_TRX                     0.000000      3.000000      7.000000   \n",
       "PURCHASES_TRX                        0.000000      0.000000      5.000000   \n",
       "CREDIT_LIMIT                      7000.000000  10000.000000  12000.000000   \n",
       "PAYMENTS                             0.000000   1790.394949   2299.218749   \n",
       "MINIMUM_PAYMENTS                   312.343947   1795.652542   2351.640064   \n",
       "PRC_FULL_PAYMENT                     0.000000      0.000000      0.000000   \n",
       "TENURE                               6.000000     12.000000     12.000000   \n",
       "\n",
       "                                           75%          max  \n",
       "BALANCE                            9255.143419  18495.55855  \n",
       "BALANCE_FREQUENCY                     1.000000      1.00000  \n",
       "PURCHASES                          1603.780000   9792.23000  \n",
       "ONEOFF_PURCHASES                    990.460000   7564.81000  \n",
       "INSTALLMENTS_PURCHASES              693.940000   5832.42000  \n",
       "CASH_ADVANCE                       5933.467329  14827.30716  \n",
       "PURCHASES_FREQUENCY                   0.916667      1.00000  \n",
       "ONEOFF_PURCHASES_FREQUENCY            0.333333      1.00000  \n",
       "PURCHASES_INSTALLMENTS_FREQUENCY      0.750000      1.00000  \n",
       "CASH_ADVANCE_FREQUENCY                0.545455      1.10000  \n",
       "CASH_ADVANCE_TRX                     13.000000    110.00000  \n",
       "PURCHASES_TRX                        23.000000    216.00000  \n",
       "CREDIT_LIMIT                      14000.000000  22000.00000  \n",
       "PAYMENTS                           3219.621433  11717.30794  \n",
       "MINIMUM_PAYMENTS                   3142.889196  12854.93970  \n",
       "PRC_FULL_PAYMENT                      0.000000      0.00000  \n",
       "TENURE                               12.000000     12.00000  "
      ]
     },
     "execution_count": 67,
     "metadata": {},
     "output_type": "execute_result"
    }
   ],
   "source": [
    "data.iloc[labels_x[8].index,:].describe().T"
   ]
  },
  {
   "cell_type": "markdown",
   "metadata": {},
   "source": [
    "#### Cluster 9"
   ]
  },
  {
   "cell_type": "code",
   "execution_count": 68,
   "metadata": {},
   "outputs": [
    {
     "data": {
      "text/html": [
       "<div>\n",
       "<style scoped>\n",
       "    .dataframe tbody tr th:only-of-type {\n",
       "        vertical-align: middle;\n",
       "    }\n",
       "\n",
       "    .dataframe tbody tr th {\n",
       "        vertical-align: top;\n",
       "    }\n",
       "\n",
       "    .dataframe thead th {\n",
       "        text-align: right;\n",
       "    }\n",
       "</style>\n",
       "<table border=\"1\" class=\"dataframe\">\n",
       "  <thead>\n",
       "    <tr style=\"text-align: right;\">\n",
       "      <th></th>\n",
       "      <th>count</th>\n",
       "      <th>mean</th>\n",
       "      <th>std</th>\n",
       "      <th>min</th>\n",
       "      <th>25%</th>\n",
       "      <th>50%</th>\n",
       "      <th>75%</th>\n",
       "      <th>max</th>\n",
       "    </tr>\n",
       "  </thead>\n",
       "  <tbody>\n",
       "    <tr>\n",
       "      <th>BALANCE</th>\n",
       "      <td>23.0</td>\n",
       "      <td>5448.201718</td>\n",
       "      <td>4409.774373</td>\n",
       "      <td>1268.809031</td>\n",
       "      <td>2708.796498</td>\n",
       "      <td>3391.702180</td>\n",
       "      <td>7262.084047</td>\n",
       "      <td>19043.138560</td>\n",
       "    </tr>\n",
       "    <tr>\n",
       "      <th>BALANCE_FREQUENCY</th>\n",
       "      <td>23.0</td>\n",
       "      <td>0.956126</td>\n",
       "      <td>0.154877</td>\n",
       "      <td>0.272727</td>\n",
       "      <td>1.000000</td>\n",
       "      <td>1.000000</td>\n",
       "      <td>1.000000</td>\n",
       "      <td>1.000000</td>\n",
       "    </tr>\n",
       "    <tr>\n",
       "      <th>PURCHASES</th>\n",
       "      <td>23.0</td>\n",
       "      <td>27916.555652</td>\n",
       "      <td>8172.003282</td>\n",
       "      <td>17409.210000</td>\n",
       "      <td>22055.850000</td>\n",
       "      <td>26402.390000</td>\n",
       "      <td>31919.565000</td>\n",
       "      <td>49039.570000</td>\n",
       "    </tr>\n",
       "    <tr>\n",
       "      <th>ONEOFF_PURCHASES</th>\n",
       "      <td>23.0</td>\n",
       "      <td>22354.314348</td>\n",
       "      <td>8514.413412</td>\n",
       "      <td>9449.070000</td>\n",
       "      <td>16329.990000</td>\n",
       "      <td>21802.600000</td>\n",
       "      <td>25818.545000</td>\n",
       "      <td>40761.250000</td>\n",
       "    </tr>\n",
       "    <tr>\n",
       "      <th>INSTALLMENTS_PURCHASES</th>\n",
       "      <td>23.0</td>\n",
       "      <td>5562.241304</td>\n",
       "      <td>4792.652086</td>\n",
       "      <td>0.000000</td>\n",
       "      <td>767.865000</td>\n",
       "      <td>4924.710000</td>\n",
       "      <td>8009.295000</td>\n",
       "      <td>15497.190000</td>\n",
       "    </tr>\n",
       "    <tr>\n",
       "      <th>CASH_ADVANCE</th>\n",
       "      <td>23.0</td>\n",
       "      <td>970.110470</td>\n",
       "      <td>4060.905703</td>\n",
       "      <td>0.000000</td>\n",
       "      <td>0.000000</td>\n",
       "      <td>0.000000</td>\n",
       "      <td>0.000000</td>\n",
       "      <td>19513.474830</td>\n",
       "    </tr>\n",
       "    <tr>\n",
       "      <th>PURCHASES_FREQUENCY</th>\n",
       "      <td>23.0</td>\n",
       "      <td>0.905072</td>\n",
       "      <td>0.227937</td>\n",
       "      <td>0.166667</td>\n",
       "      <td>1.000000</td>\n",
       "      <td>1.000000</td>\n",
       "      <td>1.000000</td>\n",
       "      <td>1.000000</td>\n",
       "    </tr>\n",
       "    <tr>\n",
       "      <th>ONEOFF_PURCHASES_FREQUENCY</th>\n",
       "      <td>23.0</td>\n",
       "      <td>0.850000</td>\n",
       "      <td>0.243760</td>\n",
       "      <td>0.166667</td>\n",
       "      <td>0.708333</td>\n",
       "      <td>1.000000</td>\n",
       "      <td>1.000000</td>\n",
       "      <td>1.000000</td>\n",
       "    </tr>\n",
       "    <tr>\n",
       "      <th>PURCHASES_INSTALLMENTS_FREQUENCY</th>\n",
       "      <td>23.0</td>\n",
       "      <td>0.708696</td>\n",
       "      <td>0.377186</td>\n",
       "      <td>0.000000</td>\n",
       "      <td>0.500000</td>\n",
       "      <td>0.916667</td>\n",
       "      <td>1.000000</td>\n",
       "      <td>1.000000</td>\n",
       "    </tr>\n",
       "    <tr>\n",
       "      <th>CASH_ADVANCE_FREQUENCY</th>\n",
       "      <td>23.0</td>\n",
       "      <td>0.039855</td>\n",
       "      <td>0.139601</td>\n",
       "      <td>0.000000</td>\n",
       "      <td>0.000000</td>\n",
       "      <td>0.000000</td>\n",
       "      <td>0.000000</td>\n",
       "      <td>0.666667</td>\n",
       "    </tr>\n",
       "    <tr>\n",
       "      <th>CASH_ADVANCE_TRX</th>\n",
       "      <td>23.0</td>\n",
       "      <td>1.782609</td>\n",
       "      <td>7.292316</td>\n",
       "      <td>0.000000</td>\n",
       "      <td>0.000000</td>\n",
       "      <td>0.000000</td>\n",
       "      <td>0.000000</td>\n",
       "      <td>35.000000</td>\n",
       "    </tr>\n",
       "    <tr>\n",
       "      <th>PURCHASES_TRX</th>\n",
       "      <td>23.0</td>\n",
       "      <td>128.217391</td>\n",
       "      <td>89.765835</td>\n",
       "      <td>3.000000</td>\n",
       "      <td>71.000000</td>\n",
       "      <td>101.000000</td>\n",
       "      <td>166.000000</td>\n",
       "      <td>358.000000</td>\n",
       "    </tr>\n",
       "    <tr>\n",
       "      <th>CREDIT_LIMIT</th>\n",
       "      <td>23.0</td>\n",
       "      <td>16043.478261</td>\n",
       "      <td>5692.724710</td>\n",
       "      <td>7500.000000</td>\n",
       "      <td>12000.000000</td>\n",
       "      <td>17000.000000</td>\n",
       "      <td>18000.000000</td>\n",
       "      <td>30000.000000</td>\n",
       "    </tr>\n",
       "    <tr>\n",
       "      <th>PAYMENTS</th>\n",
       "      <td>23.0</td>\n",
       "      <td>27761.600386</td>\n",
       "      <td>9280.015011</td>\n",
       "      <td>13002.303930</td>\n",
       "      <td>22446.439760</td>\n",
       "      <td>26557.097240</td>\n",
       "      <td>32011.871405</td>\n",
       "      <td>50721.483360</td>\n",
       "    </tr>\n",
       "    <tr>\n",
       "      <th>MINIMUM_PAYMENTS</th>\n",
       "      <td>23.0</td>\n",
       "      <td>3345.718254</td>\n",
       "      <td>5108.710372</td>\n",
       "      <td>410.800069</td>\n",
       "      <td>566.144486</td>\n",
       "      <td>1149.747342</td>\n",
       "      <td>2834.110242</td>\n",
       "      <td>18621.013310</td>\n",
       "    </tr>\n",
       "    <tr>\n",
       "      <th>PRC_FULL_PAYMENT</th>\n",
       "      <td>23.0</td>\n",
       "      <td>0.515316</td>\n",
       "      <td>0.414354</td>\n",
       "      <td>0.000000</td>\n",
       "      <td>0.083333</td>\n",
       "      <td>0.583333</td>\n",
       "      <td>0.958333</td>\n",
       "      <td>1.000000</td>\n",
       "    </tr>\n",
       "    <tr>\n",
       "      <th>TENURE</th>\n",
       "      <td>23.0</td>\n",
       "      <td>11.913043</td>\n",
       "      <td>0.417029</td>\n",
       "      <td>10.000000</td>\n",
       "      <td>12.000000</td>\n",
       "      <td>12.000000</td>\n",
       "      <td>12.000000</td>\n",
       "      <td>12.000000</td>\n",
       "    </tr>\n",
       "  </tbody>\n",
       "</table>\n",
       "</div>"
      ],
      "text/plain": [
       "                                  count          mean          std  \\\n",
       "BALANCE                            23.0   5448.201718  4409.774373   \n",
       "BALANCE_FREQUENCY                  23.0      0.956126     0.154877   \n",
       "PURCHASES                          23.0  27916.555652  8172.003282   \n",
       "ONEOFF_PURCHASES                   23.0  22354.314348  8514.413412   \n",
       "INSTALLMENTS_PURCHASES             23.0   5562.241304  4792.652086   \n",
       "CASH_ADVANCE                       23.0    970.110470  4060.905703   \n",
       "PURCHASES_FREQUENCY                23.0      0.905072     0.227937   \n",
       "ONEOFF_PURCHASES_FREQUENCY         23.0      0.850000     0.243760   \n",
       "PURCHASES_INSTALLMENTS_FREQUENCY   23.0      0.708696     0.377186   \n",
       "CASH_ADVANCE_FREQUENCY             23.0      0.039855     0.139601   \n",
       "CASH_ADVANCE_TRX                   23.0      1.782609     7.292316   \n",
       "PURCHASES_TRX                      23.0    128.217391    89.765835   \n",
       "CREDIT_LIMIT                       23.0  16043.478261  5692.724710   \n",
       "PAYMENTS                           23.0  27761.600386  9280.015011   \n",
       "MINIMUM_PAYMENTS                   23.0   3345.718254  5108.710372   \n",
       "PRC_FULL_PAYMENT                   23.0      0.515316     0.414354   \n",
       "TENURE                             23.0     11.913043     0.417029   \n",
       "\n",
       "                                           min           25%           50%  \\\n",
       "BALANCE                            1268.809031   2708.796498   3391.702180   \n",
       "BALANCE_FREQUENCY                     0.272727      1.000000      1.000000   \n",
       "PURCHASES                         17409.210000  22055.850000  26402.390000   \n",
       "ONEOFF_PURCHASES                   9449.070000  16329.990000  21802.600000   \n",
       "INSTALLMENTS_PURCHASES                0.000000    767.865000   4924.710000   \n",
       "CASH_ADVANCE                          0.000000      0.000000      0.000000   \n",
       "PURCHASES_FREQUENCY                   0.166667      1.000000      1.000000   \n",
       "ONEOFF_PURCHASES_FREQUENCY            0.166667      0.708333      1.000000   \n",
       "PURCHASES_INSTALLMENTS_FREQUENCY      0.000000      0.500000      0.916667   \n",
       "CASH_ADVANCE_FREQUENCY                0.000000      0.000000      0.000000   \n",
       "CASH_ADVANCE_TRX                      0.000000      0.000000      0.000000   \n",
       "PURCHASES_TRX                         3.000000     71.000000    101.000000   \n",
       "CREDIT_LIMIT                       7500.000000  12000.000000  17000.000000   \n",
       "PAYMENTS                          13002.303930  22446.439760  26557.097240   \n",
       "MINIMUM_PAYMENTS                    410.800069    566.144486   1149.747342   \n",
       "PRC_FULL_PAYMENT                      0.000000      0.083333      0.583333   \n",
       "TENURE                               10.000000     12.000000     12.000000   \n",
       "\n",
       "                                           75%           max  \n",
       "BALANCE                            7262.084047  19043.138560  \n",
       "BALANCE_FREQUENCY                     1.000000      1.000000  \n",
       "PURCHASES                         31919.565000  49039.570000  \n",
       "ONEOFF_PURCHASES                  25818.545000  40761.250000  \n",
       "INSTALLMENTS_PURCHASES             8009.295000  15497.190000  \n",
       "CASH_ADVANCE                          0.000000  19513.474830  \n",
       "PURCHASES_FREQUENCY                   1.000000      1.000000  \n",
       "ONEOFF_PURCHASES_FREQUENCY            1.000000      1.000000  \n",
       "PURCHASES_INSTALLMENTS_FREQUENCY      1.000000      1.000000  \n",
       "CASH_ADVANCE_FREQUENCY                0.000000      0.666667  \n",
       "CASH_ADVANCE_TRX                      0.000000     35.000000  \n",
       "PURCHASES_TRX                       166.000000    358.000000  \n",
       "CREDIT_LIMIT                      18000.000000  30000.000000  \n",
       "PAYMENTS                          32011.871405  50721.483360  \n",
       "MINIMUM_PAYMENTS                   2834.110242  18621.013310  \n",
       "PRC_FULL_PAYMENT                      0.958333      1.000000  \n",
       "TENURE                               12.000000     12.000000  "
      ]
     },
     "execution_count": 68,
     "metadata": {},
     "output_type": "execute_result"
    }
   ],
   "source": [
    "data.iloc[labels_x[9].index,:].describe().T"
   ]
  },
  {
   "cell_type": "code",
   "execution_count": null,
   "metadata": {},
   "outputs": [],
   "source": []
  },
  {
   "cell_type": "code",
   "execution_count": null,
   "metadata": {},
   "outputs": [],
   "source": []
  },
  {
   "cell_type": "code",
   "execution_count": null,
   "metadata": {},
   "outputs": [],
   "source": []
  },
  {
   "cell_type": "code",
   "execution_count": null,
   "metadata": {},
   "outputs": [],
   "source": []
  }
 ],
 "metadata": {
  "kernelspec": {
   "display_name": "Python 3",
   "language": "python",
   "name": "python3"
  },
  "language_info": {
   "codemirror_mode": {
    "name": "ipython",
    "version": 3
   },
   "file_extension": ".py",
   "mimetype": "text/x-python",
   "name": "python",
   "nbconvert_exporter": "python",
   "pygments_lexer": "ipython3",
   "version": "3.6.6"
  }
 },
 "nbformat": 4,
 "nbformat_minor": 2
}
